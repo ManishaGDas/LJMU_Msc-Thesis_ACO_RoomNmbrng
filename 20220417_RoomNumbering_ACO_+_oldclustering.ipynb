{
  "nbformat": 4,
  "nbformat_minor": 0,
  "metadata": {
    "kernelspec": {
      "display_name": "Python 3",
      "language": "python",
      "name": "python3"
    },
    "language_info": {
      "codemirror_mode": {
        "name": "ipython",
        "version": 3
      },
      "file_extension": ".py",
      "mimetype": "text/x-python",
      "name": "python",
      "nbconvert_exporter": "python",
      "pygments_lexer": "ipython3",
      "version": "3.6.5"
    },
    "colab": {
      "provenance": [],
      "toc_visible": true
    }
  },
  "cells": [
    {
      "cell_type": "markdown",
      "metadata": {
        "id": "q4PtKZ0UbT6_"
      },
      "source": [
        "\n",
        "# K-Means Clustering"
      ]
    },
    {
      "cell_type": "markdown",
      "metadata": {
        "id": "uNnhP52ebT7H"
      },
      "source": [
        "**Overview**<br>\n",
        "Room Data is a Dataset of designed room spaces for a live project and therefore confidential. The Rows are each Room and features, the given parametrs like location, Front of House, Back Of House, etc\n",
        "\n",
        "The steps are broadly:\n",
        "1. Read and understand the data\n",
        "2. Clean the data\n",
        "3. Prepare the data for modelling\n",
        "4. Modelling\n",
        "5. Final analysis and reco"
      ]
    },
    {
      "cell_type": "markdown",
      "metadata": {
        "id": "56blVK0EbT7I"
      },
      "source": [
        "### 1. Read and visualise the data"
      ]
    },
    {
      "cell_type": "code",
      "metadata": {
        "id": "zPF101IhbT7J"
      },
      "source": [
        "import numpy as np\n",
        "import pandas as pd\n",
        "import matplotlib.pyplot as plt\n",
        "import seaborn as sns\n",
        "\n",
        "import datetime as dt\n",
        "\n",
        "import sklearn\n",
        "from sklearn.preprocessing import StandardScaler\n",
        "from sklearn.cluster import KMeans\n",
        "from sklearn.metrics import silhouette_score\n",
        "\n",
        "from scipy.cluster.hierarchy import linkage\n",
        "from scipy.cluster.hierarchy import dendrogram\n",
        "from scipy.cluster.hierarchy import cut_tree"
      ],
      "execution_count": null,
      "outputs": []
    },
    {
      "cell_type": "code",
      "source": [
        "from google.colab import drive\n",
        "drive.mount('/content/gdrive')"
      ],
      "metadata": {
        "colab": {
          "base_uri": "https://localhost:8080/"
        },
        "id": "OCJexbTsNrqD",
        "outputId": "46e36f3f-5796-4b09-dca6-f64224db5b54"
      },
      "execution_count": null,
      "outputs": [
        {
          "output_type": "stream",
          "name": "stdout",
          "text": [
            "Mounted at /content/gdrive\n"
          ]
        }
      ]
    },
    {
      "cell_type": "code",
      "source": [
        "data = \"/content/gdrive/MyDrive/LJMU_MSC_ResearchDataSet/RoomData_20211213.csv\""
      ],
      "metadata": {
        "id": "-7RgjKr0NpgM"
      },
      "execution_count": null,
      "outputs": []
    },
    {
      "cell_type": "code",
      "source": [
        "Room_df = pd.read_csv(data)"
      ],
      "metadata": {
        "id": "aYbghH0k1nD0"
      },
      "execution_count": null,
      "outputs": []
    },
    {
      "cell_type": "code",
      "metadata": {
        "id": "nnP5zjjFbT7J",
        "outputId": "783ced22-af4d-4aee-9a8a-985ce1fa4b8e",
        "colab": {
          "base_uri": "https://localhost:8080/",
          "height": 1928
        }
      },
      "source": [
        "# # read the dataset\n",
        "# retail_df = pd.read_csv(\"Online_Retail.csv\", sep=\",\", encoding=\"ISO-8859-1\", header=0)\n",
        "Room_df"
      ],
      "execution_count": null,
      "outputs": [
        {
          "output_type": "execute_result",
          "data": {
            "text/plain": [
              "               X           Y         Z Room_Number             Room_Name  \\\n",
              "0     126172.044   95910.879  241100.0        1332  TEMPORARY GALLERY 03   \n",
              "1     111528.090   82446.875  241100.0        1340             STAIR D01   \n",
              "2     214932.044  108860.879  234600.0        1360             STAIR E02   \n",
              "3     212515.348  105656.840  238000.0        1363            FIRE LOBBY   \n",
              "4      94932.044   80635.879  241100.0        1371             VESTIBULE   \n",
              "...          ...         ...       ...         ...                   ...   \n",
              "1317   48923.374   38847.220  241100.0        4122                    WR   \n",
              "1318   81963.483   77002.285  227700.0        4123           SECURE ROOM   \n",
              "1319  102877.235   50780.087  227700.0        4124     CIRCULATION SPACE   \n",
              "1320  105208.885   71535.241  245475.0        4125               STORAGE   \n",
              "1321  102977.946   51153.038  245475.0        4126               STORAGE   \n",
              "\n",
              "      Level_Id   Department        Workset Room_Number2  \\\n",
              "0          311    Galleries  Workset-44612  Number-1332   \n",
              "1          311  Circulation  Workset-44612  Number-1340   \n",
              "2       419525  Circulation  Workset-44612  Number-1360   \n",
              "3      1404832  Circulation  Workset-44612  Number-1363   \n",
              "4          311  Circulation  Workset-44612  Number-1371   \n",
              "...        ...          ...            ...          ...   \n",
              "1317       311  Circulation  Workset-44612  Number-4122   \n",
              "1318    970236  Art Storage   Workset-1206  Number-4123   \n",
              "1319    970236  Art Storage   Workset-1206  Number-4124   \n",
              "1320    969509          BoH   Workset-1206  Number-4125   \n",
              "1321    969509          BoH   Workset-1206  Number-4126   \n",
              "\n",
              "                     Room_Name2  ...  \\\n",
              "0     Name-TEMPORARY GALLERY 03  ...   \n",
              "1                Name-STAIR D01  ...   \n",
              "2                Name-STAIR E02  ...   \n",
              "3               Name-FIRE LOBBY  ...   \n",
              "4                Name-VESTIBULE  ...   \n",
              "...                         ...  ...   \n",
              "1317                    Name-WR  ...   \n",
              "1318           Name-SECURE ROOM  ...   \n",
              "1319     Name-CIRCULATION SPACE  ...   \n",
              "1320               Name-STORAGE  ...   \n",
              "1321               Name-STORAGE  ...   \n",
              "\n",
              "                                            Upper_Limit  \\\n",
              "0          Upper Limit-Level(Name=02, Elevation=250350)   \n",
              "1          Upper Limit-Level(Name=02, Elevation=250350)   \n",
              "2          Upper Limit-Level(Name=GF, Elevation=241600)   \n",
              "3     Upper Limit-Level(Name=Lower GF, Elevation=238...   \n",
              "4          Upper Limit-Level(Name=GF, Elevation=241600)   \n",
              "...                                                 ...   \n",
              "1317       Upper Limit-Level(Name=GF, Elevation=241600)   \n",
              "1318       Upper Limit-Level(Name=B2, Elevation=228200)   \n",
              "1319       Upper Limit-Level(Name=B2, Elevation=228200)   \n",
              "1320       Upper Limit-Level(Name=01, Elevation=245975)   \n",
              "1321       Upper Limit-Level(Name=01, Elevation=245975)   \n",
              "\n",
              "                     Limit_Offset                   UnboundHeight  \\\n",
              "0     Limit Offset--246.412767615  Unbounded Height-8503.58723239   \n",
              "1      Limit Offset-4603.89818397  Unbounded Height-13353.8981840   \n",
              "2            Limit Offset--1000.0  Unbounded Height-5500.00000000   \n",
              "3      Limit Offset-2554.59805884  Unbounded Height-3254.59805884   \n",
              "4      Limit Offset-4246.21202518  Unbounded Height-4246.21202518   \n",
              "...                           ...                             ...   \n",
              "1317   Limit Offset-5887.27091172  Unbounded Height-6989.34620898   \n",
              "1318   Limit Offset-5289.35787557  Unbounded Height-5289.35787557   \n",
              "1319   Limit Offset-5284.19970071  Unbounded Height-5284.19970071   \n",
              "1320   Limit Offset-3007.84812077  Unbounded Height-3007.84812077   \n",
              "1321   Limit Offset-3007.84812077  Unbounded Height-3007.84812077   \n",
              "\n",
              "                 Department2           Dyn_ElementId  \\\n",
              "0       Department-Galleries   Dyn_ElementId-5062106   \n",
              "1     Department-Circulation   Dyn_ElementId-5062114   \n",
              "2     Department-Circulation   Dyn_ElementId-5062134   \n",
              "3     Department-Circulation   Dyn_ElementId-5062137   \n",
              "4     Department-Circulation   Dyn_ElementId-5062145   \n",
              "...                      ...                     ...   \n",
              "1317  Department-Circulation  Dyn_ElementId-10919091   \n",
              "1318  Department-Art Storage   Dyn_ElementId-7503617   \n",
              "1319  Department-Art Storage   Dyn_ElementId-7537295   \n",
              "1320          Department-BoH   Dyn_ElementId-8620436   \n",
              "1321          Department-BoH   Dyn_ElementId-8620436   \n",
              "\n",
              "                                           Dyn_FuncZone  \\\n",
              "0           Dyn_FunctionalZone_Name-TEMPORARY GALLERIES   \n",
              "1                Dyn_FunctionalZone_Name-EXTERNAL AREAS   \n",
              "2     Dyn_FunctionalZone_Name-RESEARCH & EDUCATION, ...   \n",
              "3                       Dyn_FunctionalZone_Name-STUDIOS   \n",
              "4           Dyn_FunctionalZone_Name-TEMPORARY GALLERIES   \n",
              "...                                                 ...   \n",
              "1317                    Dyn_FunctionalZone_Name-OFFICES   \n",
              "1318  Dyn_FunctionalZone_Name-STAFF FACILITIES, STAF...   \n",
              "1319  Dyn_FunctionalZone_Name-STAFF FACILITIES, STAF...   \n",
              "1320  Dyn_FunctionalZone_Name-FOH & PERMENANT GALLER...   \n",
              "1321  Dyn_FunctionalZone_Name-FOH & PERMENANT GALLER...   \n",
              "\n",
              "                         Dyn_FuncZn_Abb   Element ID      DesignOption  \\\n",
              "0             Dyn_FunctionalZone_Abb-TG  Element ID-  Design Option--1   \n",
              "1             Dyn_FunctionalZone_Abb-EX  Element ID-  Design Option--1   \n",
              "2         Dyn_FunctionalZone_Abb-RE, RE  Element ID-  Design Option--1   \n",
              "3             Dyn_FunctionalZone_Abb-ST  Element ID-  Design Option--1   \n",
              "4             Dyn_FunctionalZone_Abb-TG  Element ID-  Design Option--1   \n",
              "...                                 ...          ...               ...   \n",
              "1317      Dyn_FunctionalZone_Abb-TG, TG  Element ID-  Design Option--1   \n",
              "1318      Dyn_FunctionalZone_Abb-SF, SF  Element ID-  Design Option--1   \n",
              "1319      Dyn_FunctionalZone_Abb-SF, SF  Element ID-  Design Option--1   \n",
              "1320  Dyn_FunctionalZone_Abb-PG, PG, EX  Element ID-  Design Option--1   \n",
              "1321  Dyn_FunctionalZone_Abb-PG, PG, EX  Element ID-  Design Option--1   \n",
              "\n",
              "                         CompHt  \n",
              "0      Computation Height-150.0  \n",
              "1      Computation Height-150.0  \n",
              "2        Computation Height-0.0  \n",
              "3        Computation Height-0.0  \n",
              "4      Computation Height-150.0  \n",
              "...                         ...  \n",
              "1317   Computation Height-150.0  \n",
              "1318     Computation Height-0.0  \n",
              "1319     Computation Height-0.0  \n",
              "1320  Computation Height-1150.0  \n",
              "1321  Computation Height-1150.0  \n",
              "\n",
              "[1116 rows x 21 columns]"
            ],
            "text/html": [
              "\n",
              "  <div id=\"df-5a2c62e2-7a0d-4877-ad1c-b9578943d64c\">\n",
              "    <div class=\"colab-df-container\">\n",
              "      <div>\n",
              "<style scoped>\n",
              "    .dataframe tbody tr th:only-of-type {\n",
              "        vertical-align: middle;\n",
              "    }\n",
              "\n",
              "    .dataframe tbody tr th {\n",
              "        vertical-align: top;\n",
              "    }\n",
              "\n",
              "    .dataframe thead th {\n",
              "        text-align: right;\n",
              "    }\n",
              "</style>\n",
              "<table border=\"1\" class=\"dataframe\">\n",
              "  <thead>\n",
              "    <tr style=\"text-align: right;\">\n",
              "      <th></th>\n",
              "      <th>X</th>\n",
              "      <th>Y</th>\n",
              "      <th>Z</th>\n",
              "      <th>Room_Number</th>\n",
              "      <th>Room_Name</th>\n",
              "      <th>Level_Id</th>\n",
              "      <th>Department</th>\n",
              "      <th>Workset</th>\n",
              "      <th>Room_Number2</th>\n",
              "      <th>Room_Name2</th>\n",
              "      <th>...</th>\n",
              "      <th>Upper_Limit</th>\n",
              "      <th>Limit_Offset</th>\n",
              "      <th>UnboundHeight</th>\n",
              "      <th>Department2</th>\n",
              "      <th>Dyn_ElementId</th>\n",
              "      <th>Dyn_FuncZone</th>\n",
              "      <th>Dyn_FuncZn_Abb</th>\n",
              "      <th>Element ID</th>\n",
              "      <th>DesignOption</th>\n",
              "      <th>CompHt</th>\n",
              "    </tr>\n",
              "  </thead>\n",
              "  <tbody>\n",
              "    <tr>\n",
              "      <th>0</th>\n",
              "      <td>126172.044</td>\n",
              "      <td>95910.879</td>\n",
              "      <td>241100.0</td>\n",
              "      <td>1332</td>\n",
              "      <td>TEMPORARY GALLERY 03</td>\n",
              "      <td>311</td>\n",
              "      <td>Galleries</td>\n",
              "      <td>Workset-44612</td>\n",
              "      <td>Number-1332</td>\n",
              "      <td>Name-TEMPORARY GALLERY 03</td>\n",
              "      <td>...</td>\n",
              "      <td>Upper Limit-Level(Name=02, Elevation=250350)</td>\n",
              "      <td>Limit Offset--246.412767615</td>\n",
              "      <td>Unbounded Height-8503.58723239</td>\n",
              "      <td>Department-Galleries</td>\n",
              "      <td>Dyn_ElementId-5062106</td>\n",
              "      <td>Dyn_FunctionalZone_Name-TEMPORARY GALLERIES</td>\n",
              "      <td>Dyn_FunctionalZone_Abb-TG</td>\n",
              "      <td>Element ID-</td>\n",
              "      <td>Design Option--1</td>\n",
              "      <td>Computation Height-150.0</td>\n",
              "    </tr>\n",
              "    <tr>\n",
              "      <th>1</th>\n",
              "      <td>111528.090</td>\n",
              "      <td>82446.875</td>\n",
              "      <td>241100.0</td>\n",
              "      <td>1340</td>\n",
              "      <td>STAIR D01</td>\n",
              "      <td>311</td>\n",
              "      <td>Circulation</td>\n",
              "      <td>Workset-44612</td>\n",
              "      <td>Number-1340</td>\n",
              "      <td>Name-STAIR D01</td>\n",
              "      <td>...</td>\n",
              "      <td>Upper Limit-Level(Name=02, Elevation=250350)</td>\n",
              "      <td>Limit Offset-4603.89818397</td>\n",
              "      <td>Unbounded Height-13353.8981840</td>\n",
              "      <td>Department-Circulation</td>\n",
              "      <td>Dyn_ElementId-5062114</td>\n",
              "      <td>Dyn_FunctionalZone_Name-EXTERNAL AREAS</td>\n",
              "      <td>Dyn_FunctionalZone_Abb-EX</td>\n",
              "      <td>Element ID-</td>\n",
              "      <td>Design Option--1</td>\n",
              "      <td>Computation Height-150.0</td>\n",
              "    </tr>\n",
              "    <tr>\n",
              "      <th>2</th>\n",
              "      <td>214932.044</td>\n",
              "      <td>108860.879</td>\n",
              "      <td>234600.0</td>\n",
              "      <td>1360</td>\n",
              "      <td>STAIR E02</td>\n",
              "      <td>419525</td>\n",
              "      <td>Circulation</td>\n",
              "      <td>Workset-44612</td>\n",
              "      <td>Number-1360</td>\n",
              "      <td>Name-STAIR E02</td>\n",
              "      <td>...</td>\n",
              "      <td>Upper Limit-Level(Name=GF, Elevation=241600)</td>\n",
              "      <td>Limit Offset--1000.0</td>\n",
              "      <td>Unbounded Height-5500.00000000</td>\n",
              "      <td>Department-Circulation</td>\n",
              "      <td>Dyn_ElementId-5062134</td>\n",
              "      <td>Dyn_FunctionalZone_Name-RESEARCH &amp; EDUCATION, ...</td>\n",
              "      <td>Dyn_FunctionalZone_Abb-RE, RE</td>\n",
              "      <td>Element ID-</td>\n",
              "      <td>Design Option--1</td>\n",
              "      <td>Computation Height-0.0</td>\n",
              "    </tr>\n",
              "    <tr>\n",
              "      <th>3</th>\n",
              "      <td>212515.348</td>\n",
              "      <td>105656.840</td>\n",
              "      <td>238000.0</td>\n",
              "      <td>1363</td>\n",
              "      <td>FIRE LOBBY</td>\n",
              "      <td>1404832</td>\n",
              "      <td>Circulation</td>\n",
              "      <td>Workset-44612</td>\n",
              "      <td>Number-1363</td>\n",
              "      <td>Name-FIRE LOBBY</td>\n",
              "      <td>...</td>\n",
              "      <td>Upper Limit-Level(Name=Lower GF, Elevation=238...</td>\n",
              "      <td>Limit Offset-2554.59805884</td>\n",
              "      <td>Unbounded Height-3254.59805884</td>\n",
              "      <td>Department-Circulation</td>\n",
              "      <td>Dyn_ElementId-5062137</td>\n",
              "      <td>Dyn_FunctionalZone_Name-STUDIOS</td>\n",
              "      <td>Dyn_FunctionalZone_Abb-ST</td>\n",
              "      <td>Element ID-</td>\n",
              "      <td>Design Option--1</td>\n",
              "      <td>Computation Height-0.0</td>\n",
              "    </tr>\n",
              "    <tr>\n",
              "      <th>4</th>\n",
              "      <td>94932.044</td>\n",
              "      <td>80635.879</td>\n",
              "      <td>241100.0</td>\n",
              "      <td>1371</td>\n",
              "      <td>VESTIBULE</td>\n",
              "      <td>311</td>\n",
              "      <td>Circulation</td>\n",
              "      <td>Workset-44612</td>\n",
              "      <td>Number-1371</td>\n",
              "      <td>Name-VESTIBULE</td>\n",
              "      <td>...</td>\n",
              "      <td>Upper Limit-Level(Name=GF, Elevation=241600)</td>\n",
              "      <td>Limit Offset-4246.21202518</td>\n",
              "      <td>Unbounded Height-4246.21202518</td>\n",
              "      <td>Department-Circulation</td>\n",
              "      <td>Dyn_ElementId-5062145</td>\n",
              "      <td>Dyn_FunctionalZone_Name-TEMPORARY GALLERIES</td>\n",
              "      <td>Dyn_FunctionalZone_Abb-TG</td>\n",
              "      <td>Element ID-</td>\n",
              "      <td>Design Option--1</td>\n",
              "      <td>Computation Height-150.0</td>\n",
              "    </tr>\n",
              "    <tr>\n",
              "      <th>...</th>\n",
              "      <td>...</td>\n",
              "      <td>...</td>\n",
              "      <td>...</td>\n",
              "      <td>...</td>\n",
              "      <td>...</td>\n",
              "      <td>...</td>\n",
              "      <td>...</td>\n",
              "      <td>...</td>\n",
              "      <td>...</td>\n",
              "      <td>...</td>\n",
              "      <td>...</td>\n",
              "      <td>...</td>\n",
              "      <td>...</td>\n",
              "      <td>...</td>\n",
              "      <td>...</td>\n",
              "      <td>...</td>\n",
              "      <td>...</td>\n",
              "      <td>...</td>\n",
              "      <td>...</td>\n",
              "      <td>...</td>\n",
              "      <td>...</td>\n",
              "    </tr>\n",
              "    <tr>\n",
              "      <th>1317</th>\n",
              "      <td>48923.374</td>\n",
              "      <td>38847.220</td>\n",
              "      <td>241100.0</td>\n",
              "      <td>4122</td>\n",
              "      <td>WR</td>\n",
              "      <td>311</td>\n",
              "      <td>Circulation</td>\n",
              "      <td>Workset-44612</td>\n",
              "      <td>Number-4122</td>\n",
              "      <td>Name-WR</td>\n",
              "      <td>...</td>\n",
              "      <td>Upper Limit-Level(Name=GF, Elevation=241600)</td>\n",
              "      <td>Limit Offset-5887.27091172</td>\n",
              "      <td>Unbounded Height-6989.34620898</td>\n",
              "      <td>Department-Circulation</td>\n",
              "      <td>Dyn_ElementId-10919091</td>\n",
              "      <td>Dyn_FunctionalZone_Name-OFFICES</td>\n",
              "      <td>Dyn_FunctionalZone_Abb-TG, TG</td>\n",
              "      <td>Element ID-</td>\n",
              "      <td>Design Option--1</td>\n",
              "      <td>Computation Height-150.0</td>\n",
              "    </tr>\n",
              "    <tr>\n",
              "      <th>1318</th>\n",
              "      <td>81963.483</td>\n",
              "      <td>77002.285</td>\n",
              "      <td>227700.0</td>\n",
              "      <td>4123</td>\n",
              "      <td>SECURE ROOM</td>\n",
              "      <td>970236</td>\n",
              "      <td>Art Storage</td>\n",
              "      <td>Workset-1206</td>\n",
              "      <td>Number-4123</td>\n",
              "      <td>Name-SECURE ROOM</td>\n",
              "      <td>...</td>\n",
              "      <td>Upper Limit-Level(Name=B2, Elevation=228200)</td>\n",
              "      <td>Limit Offset-5289.35787557</td>\n",
              "      <td>Unbounded Height-5289.35787557</td>\n",
              "      <td>Department-Art Storage</td>\n",
              "      <td>Dyn_ElementId-7503617</td>\n",
              "      <td>Dyn_FunctionalZone_Name-STAFF FACILITIES, STAF...</td>\n",
              "      <td>Dyn_FunctionalZone_Abb-SF, SF</td>\n",
              "      <td>Element ID-</td>\n",
              "      <td>Design Option--1</td>\n",
              "      <td>Computation Height-0.0</td>\n",
              "    </tr>\n",
              "    <tr>\n",
              "      <th>1319</th>\n",
              "      <td>102877.235</td>\n",
              "      <td>50780.087</td>\n",
              "      <td>227700.0</td>\n",
              "      <td>4124</td>\n",
              "      <td>CIRCULATION SPACE</td>\n",
              "      <td>970236</td>\n",
              "      <td>Art Storage</td>\n",
              "      <td>Workset-1206</td>\n",
              "      <td>Number-4124</td>\n",
              "      <td>Name-CIRCULATION SPACE</td>\n",
              "      <td>...</td>\n",
              "      <td>Upper Limit-Level(Name=B2, Elevation=228200)</td>\n",
              "      <td>Limit Offset-5284.19970071</td>\n",
              "      <td>Unbounded Height-5284.19970071</td>\n",
              "      <td>Department-Art Storage</td>\n",
              "      <td>Dyn_ElementId-7537295</td>\n",
              "      <td>Dyn_FunctionalZone_Name-STAFF FACILITIES, STAF...</td>\n",
              "      <td>Dyn_FunctionalZone_Abb-SF, SF</td>\n",
              "      <td>Element ID-</td>\n",
              "      <td>Design Option--1</td>\n",
              "      <td>Computation Height-0.0</td>\n",
              "    </tr>\n",
              "    <tr>\n",
              "      <th>1320</th>\n",
              "      <td>105208.885</td>\n",
              "      <td>71535.241</td>\n",
              "      <td>245475.0</td>\n",
              "      <td>4125</td>\n",
              "      <td>STORAGE</td>\n",
              "      <td>969509</td>\n",
              "      <td>BoH</td>\n",
              "      <td>Workset-1206</td>\n",
              "      <td>Number-4125</td>\n",
              "      <td>Name-STORAGE</td>\n",
              "      <td>...</td>\n",
              "      <td>Upper Limit-Level(Name=01, Elevation=245975)</td>\n",
              "      <td>Limit Offset-3007.84812077</td>\n",
              "      <td>Unbounded Height-3007.84812077</td>\n",
              "      <td>Department-BoH</td>\n",
              "      <td>Dyn_ElementId-8620436</td>\n",
              "      <td>Dyn_FunctionalZone_Name-FOH &amp; PERMENANT GALLER...</td>\n",
              "      <td>Dyn_FunctionalZone_Abb-PG, PG, EX</td>\n",
              "      <td>Element ID-</td>\n",
              "      <td>Design Option--1</td>\n",
              "      <td>Computation Height-1150.0</td>\n",
              "    </tr>\n",
              "    <tr>\n",
              "      <th>1321</th>\n",
              "      <td>102977.946</td>\n",
              "      <td>51153.038</td>\n",
              "      <td>245475.0</td>\n",
              "      <td>4126</td>\n",
              "      <td>STORAGE</td>\n",
              "      <td>969509</td>\n",
              "      <td>BoH</td>\n",
              "      <td>Workset-1206</td>\n",
              "      <td>Number-4126</td>\n",
              "      <td>Name-STORAGE</td>\n",
              "      <td>...</td>\n",
              "      <td>Upper Limit-Level(Name=01, Elevation=245975)</td>\n",
              "      <td>Limit Offset-3007.84812077</td>\n",
              "      <td>Unbounded Height-3007.84812077</td>\n",
              "      <td>Department-BoH</td>\n",
              "      <td>Dyn_ElementId-8620436</td>\n",
              "      <td>Dyn_FunctionalZone_Name-FOH &amp; PERMENANT GALLER...</td>\n",
              "      <td>Dyn_FunctionalZone_Abb-PG, PG, EX</td>\n",
              "      <td>Element ID-</td>\n",
              "      <td>Design Option--1</td>\n",
              "      <td>Computation Height-1150.0</td>\n",
              "    </tr>\n",
              "  </tbody>\n",
              "</table>\n",
              "<p>1116 rows × 21 columns</p>\n",
              "</div>\n",
              "      <button class=\"colab-df-convert\" onclick=\"convertToInteractive('df-5a2c62e2-7a0d-4877-ad1c-b9578943d64c')\"\n",
              "              title=\"Convert this dataframe to an interactive table.\"\n",
              "              style=\"display:none;\">\n",
              "        \n",
              "  <svg xmlns=\"http://www.w3.org/2000/svg\" height=\"24px\"viewBox=\"0 0 24 24\"\n",
              "       width=\"24px\">\n",
              "    <path d=\"M0 0h24v24H0V0z\" fill=\"none\"/>\n",
              "    <path d=\"M18.56 5.44l.94 2.06.94-2.06 2.06-.94-2.06-.94-.94-2.06-.94 2.06-2.06.94zm-11 1L8.5 8.5l.94-2.06 2.06-.94-2.06-.94L8.5 2.5l-.94 2.06-2.06.94zm10 10l.94 2.06.94-2.06 2.06-.94-2.06-.94-.94-2.06-.94 2.06-2.06.94z\"/><path d=\"M17.41 7.96l-1.37-1.37c-.4-.4-.92-.59-1.43-.59-.52 0-1.04.2-1.43.59L10.3 9.45l-7.72 7.72c-.78.78-.78 2.05 0 2.83L4 21.41c.39.39.9.59 1.41.59.51 0 1.02-.2 1.41-.59l7.78-7.78 2.81-2.81c.8-.78.8-2.07 0-2.86zM5.41 20L4 18.59l7.72-7.72 1.47 1.35L5.41 20z\"/>\n",
              "  </svg>\n",
              "      </button>\n",
              "      \n",
              "  <style>\n",
              "    .colab-df-container {\n",
              "      display:flex;\n",
              "      flex-wrap:wrap;\n",
              "      gap: 12px;\n",
              "    }\n",
              "\n",
              "    .colab-df-convert {\n",
              "      background-color: #E8F0FE;\n",
              "      border: none;\n",
              "      border-radius: 50%;\n",
              "      cursor: pointer;\n",
              "      display: none;\n",
              "      fill: #1967D2;\n",
              "      height: 32px;\n",
              "      padding: 0 0 0 0;\n",
              "      width: 32px;\n",
              "    }\n",
              "\n",
              "    .colab-df-convert:hover {\n",
              "      background-color: #E2EBFA;\n",
              "      box-shadow: 0px 1px 2px rgba(60, 64, 67, 0.3), 0px 1px 3px 1px rgba(60, 64, 67, 0.15);\n",
              "      fill: #174EA6;\n",
              "    }\n",
              "\n",
              "    [theme=dark] .colab-df-convert {\n",
              "      background-color: #3B4455;\n",
              "      fill: #D2E3FC;\n",
              "    }\n",
              "\n",
              "    [theme=dark] .colab-df-convert:hover {\n",
              "      background-color: #434B5C;\n",
              "      box-shadow: 0px 1px 3px 1px rgba(0, 0, 0, 0.15);\n",
              "      filter: drop-shadow(0px 1px 2px rgba(0, 0, 0, 0.3));\n",
              "      fill: #FFFFFF;\n",
              "    }\n",
              "  </style>\n",
              "\n",
              "      <script>\n",
              "        const buttonEl =\n",
              "          document.querySelector('#df-5a2c62e2-7a0d-4877-ad1c-b9578943d64c button.colab-df-convert');\n",
              "        buttonEl.style.display =\n",
              "          google.colab.kernel.accessAllowed ? 'block' : 'none';\n",
              "\n",
              "        async function convertToInteractive(key) {\n",
              "          const element = document.querySelector('#df-5a2c62e2-7a0d-4877-ad1c-b9578943d64c');\n",
              "          const dataTable =\n",
              "            await google.colab.kernel.invokeFunction('convertToInteractive',\n",
              "                                                     [key], {});\n",
              "          if (!dataTable) return;\n",
              "\n",
              "          const docLinkHtml = 'Like what you see? Visit the ' +\n",
              "            '<a target=\"_blank\" href=https://colab.research.google.com/notebooks/data_table.ipynb>data table notebook</a>'\n",
              "            + ' to learn more about interactive tables.';\n",
              "          element.innerHTML = '';\n",
              "          dataTable['output_type'] = 'display_data';\n",
              "          await google.colab.output.renderOutput(dataTable, element);\n",
              "          const docLink = document.createElement('div');\n",
              "          docLink.innerHTML = docLinkHtml;\n",
              "          element.appendChild(docLink);\n",
              "        }\n",
              "      </script>\n",
              "    </div>\n",
              "  </div>\n",
              "  "
            ]
          },
          "metadata": {},
          "execution_count": 27
        },
        {
          "output_type": "stream",
          "name": "stdout",
          "text": [
            "Warning: Total number of columns (21) exceeds max_columns (20) limiting to first (20) columns.\n"
          ]
        }
      ]
    },
    {
      "cell_type": "code",
      "metadata": {
        "id": "cICxCgzlbT7L",
        "outputId": "c5423135-fd00-4343-c62c-d6603962f46c",
        "colab": {
          "base_uri": "https://localhost:8080/"
        }
      },
      "source": [
        "# basics of the df\n",
        "Room_df.info()"
      ],
      "execution_count": null,
      "outputs": [
        {
          "output_type": "stream",
          "name": "stdout",
          "text": [
            "<class 'pandas.core.frame.DataFrame'>\n",
            "RangeIndex: 1322 entries, 0 to 1321\n",
            "Data columns (total 21 columns):\n",
            " #   Column          Non-Null Count  Dtype  \n",
            "---  ------          --------------  -----  \n",
            " 0   X               1116 non-null   float64\n",
            " 1   Y               1116 non-null   float64\n",
            " 2   Z               1116 non-null   float64\n",
            " 3   Room_Number     1320 non-null   object \n",
            " 4   Room_Name       1322 non-null   object \n",
            " 5   Level_Id        1322 non-null   int64  \n",
            " 6   Department      1322 non-null   object \n",
            " 7   Workset         1322 non-null   object \n",
            " 8   Room_Number2    1322 non-null   object \n",
            " 9   Room_Name2      1322 non-null   object \n",
            " 10  Level           1322 non-null   object \n",
            " 11  Upper_Limit     1322 non-null   object \n",
            " 12  Limit_Offset    1322 non-null   object \n",
            " 13  UnboundHeight   1322 non-null   object \n",
            " 14  Department2     1322 non-null   object \n",
            " 15  Dyn_ElementId   1322 non-null   object \n",
            " 16  Dyn_FuncZone    1322 non-null   object \n",
            " 17  Dyn_FuncZn_Abb  1322 non-null   object \n",
            " 18  Element ID      1322 non-null   object \n",
            " 19  DesignOption    1322 non-null   object \n",
            " 20  CompHt          1322 non-null   object \n",
            "dtypes: float64(3), int64(1), object(17)\n",
            "memory usage: 217.0+ KB\n"
          ]
        }
      ]
    },
    {
      "cell_type": "markdown",
      "metadata": {
        "id": "v9RhtJvJbT7L"
      },
      "source": [
        "### 2. Clean the data"
      ]
    },
    {
      "cell_type": "code",
      "metadata": {
        "id": "0wQHS497bT7M",
        "outputId": "a0f88425-1a79-4ee3-c766-6a00ab967a57",
        "colab": {
          "base_uri": "https://localhost:8080/"
        }
      },
      "source": [
        "# missing values\n",
        "round(100*(Room_df.isnull().sum())/len(Room_df), 2)"
      ],
      "execution_count": null,
      "outputs": [
        {
          "output_type": "execute_result",
          "data": {
            "text/plain": [
              "X                 15.58\n",
              "Y                 15.58\n",
              "Z                 15.58\n",
              "Room_Number        0.15\n",
              "Room_Name          0.00\n",
              "Level_Id           0.00\n",
              "Department         0.00\n",
              "Workset            0.00\n",
              "Room_Number2       0.00\n",
              "Room_Name2         0.00\n",
              "Level              0.00\n",
              "Upper_Limit        0.00\n",
              "Limit_Offset       0.00\n",
              "UnboundHeight      0.00\n",
              "Department2        0.00\n",
              "Dyn_ElementId      0.00\n",
              "Dyn_FuncZone       0.00\n",
              "Dyn_FuncZn_Abb     0.00\n",
              "Element ID         0.00\n",
              "DesignOption       0.00\n",
              "CompHt             0.00\n",
              "dtype: float64"
            ]
          },
          "metadata": {},
          "execution_count": 18
        }
      ]
    },
    {
      "cell_type": "markdown",
      "source": [
        "###### Drop rows for rooms not located"
      ],
      "metadata": {
        "id": "Yq_EpiesTon5"
      }
    },
    {
      "cell_type": "code",
      "metadata": {
        "id": "5Z3-W4oObT7M",
        "outputId": "a8a541b0-3e4d-4d97-cee1-302245c1682e",
        "colab": {
          "base_uri": "https://localhost:8080/"
        }
      },
      "source": [
        "# drop all rows having missing values\n",
        "Room_df = Room_df.dropna(subset=[\"X\",\"Y\",\"Z\"])\n",
        "Room_df.shape"
      ],
      "execution_count": null,
      "outputs": [
        {
          "output_type": "execute_result",
          "data": {
            "text/plain": [
              "(1116, 21)"
            ]
          },
          "metadata": {},
          "execution_count": 20
        }
      ]
    },
    {
      "cell_type": "code",
      "source": [
        "Room_df.info()"
      ],
      "metadata": {
        "colab": {
          "base_uri": "https://localhost:8080/"
        },
        "id": "s0CuW_xl4x70",
        "outputId": "71df96e0-23e6-42fa-d47e-502ef333e017"
      },
      "execution_count": null,
      "outputs": [
        {
          "output_type": "stream",
          "name": "stdout",
          "text": [
            "<class 'pandas.core.frame.DataFrame'>\n",
            "Int64Index: 1116 entries, 0 to 1321\n",
            "Data columns (total 21 columns):\n",
            " #   Column          Non-Null Count  Dtype  \n",
            "---  ------          --------------  -----  \n",
            " 0   X               1116 non-null   float64\n",
            " 1   Y               1116 non-null   float64\n",
            " 2   Z               1116 non-null   float64\n",
            " 3   Room_Number     1114 non-null   object \n",
            " 4   Room_Name       1116 non-null   object \n",
            " 5   Level_Id        1116 non-null   int64  \n",
            " 6   Department      1116 non-null   object \n",
            " 7   Workset         1116 non-null   object \n",
            " 8   Room_Number2    1116 non-null   object \n",
            " 9   Room_Name2      1116 non-null   object \n",
            " 10  Level           1116 non-null   object \n",
            " 11  Upper_Limit     1116 non-null   object \n",
            " 12  Limit_Offset    1116 non-null   object \n",
            " 13  UnboundHeight   1116 non-null   object \n",
            " 14  Department2     1116 non-null   object \n",
            " 15  Dyn_ElementId   1116 non-null   object \n",
            " 16  Dyn_FuncZone    1116 non-null   object \n",
            " 17  Dyn_FuncZn_Abb  1116 non-null   object \n",
            " 18  Element ID      1116 non-null   object \n",
            " 19  DesignOption    1116 non-null   object \n",
            " 20  CompHt          1116 non-null   object \n",
            "dtypes: float64(3), int64(1), object(17)\n",
            "memory usage: 191.8+ KB\n"
          ]
        }
      ]
    },
    {
      "cell_type": "code",
      "metadata": {
        "id": "J1rkluiebT7N",
        "outputId": "4a637b71-ffda-4a3a-f7ef-12e1efe6c607",
        "colab": {
          "base_uri": "https://localhost:8080/",
          "height": 508
        }
      },
      "source": [
        "Room_df.head()"
      ],
      "execution_count": null,
      "outputs": [
        {
          "output_type": "execute_result",
          "data": {
            "text/plain": [
              "            X           Y         Z Room_Number             Room_Name  \\\n",
              "0  126172.044   95910.879  241100.0        1332  TEMPORARY GALLERY 03   \n",
              "1  111528.090   82446.875  241100.0        1340             STAIR D01   \n",
              "2  214932.044  108860.879  234600.0        1360             STAIR E02   \n",
              "3  212515.348  105656.840  238000.0        1363            FIRE LOBBY   \n",
              "4   94932.044   80635.879  241100.0        1371             VESTIBULE   \n",
              "\n",
              "   Level_Id   Department        Workset Room_Number2  \\\n",
              "0       311    Galleries  Workset-44612  Number-1332   \n",
              "1       311  Circulation  Workset-44612  Number-1340   \n",
              "2    419525  Circulation  Workset-44612  Number-1360   \n",
              "3   1404832  Circulation  Workset-44612  Number-1363   \n",
              "4       311  Circulation  Workset-44612  Number-1371   \n",
              "\n",
              "                  Room_Name2  ...  \\\n",
              "0  Name-TEMPORARY GALLERY 03  ...   \n",
              "1             Name-STAIR D01  ...   \n",
              "2             Name-STAIR E02  ...   \n",
              "3            Name-FIRE LOBBY  ...   \n",
              "4             Name-VESTIBULE  ...   \n",
              "\n",
              "                                         Upper_Limit  \\\n",
              "0       Upper Limit-Level(Name=02, Elevation=250350)   \n",
              "1       Upper Limit-Level(Name=02, Elevation=250350)   \n",
              "2       Upper Limit-Level(Name=GF, Elevation=241600)   \n",
              "3  Upper Limit-Level(Name=Lower GF, Elevation=238...   \n",
              "4       Upper Limit-Level(Name=GF, Elevation=241600)   \n",
              "\n",
              "                  Limit_Offset                   UnboundHeight  \\\n",
              "0  Limit Offset--246.412767615  Unbounded Height-8503.58723239   \n",
              "1   Limit Offset-4603.89818397  Unbounded Height-13353.8981840   \n",
              "2         Limit Offset--1000.0  Unbounded Height-5500.00000000   \n",
              "3   Limit Offset-2554.59805884  Unbounded Height-3254.59805884   \n",
              "4   Limit Offset-4246.21202518  Unbounded Height-4246.21202518   \n",
              "\n",
              "              Department2          Dyn_ElementId  \\\n",
              "0    Department-Galleries  Dyn_ElementId-5062106   \n",
              "1  Department-Circulation  Dyn_ElementId-5062114   \n",
              "2  Department-Circulation  Dyn_ElementId-5062134   \n",
              "3  Department-Circulation  Dyn_ElementId-5062137   \n",
              "4  Department-Circulation  Dyn_ElementId-5062145   \n",
              "\n",
              "                                        Dyn_FuncZone  \\\n",
              "0        Dyn_FunctionalZone_Name-TEMPORARY GALLERIES   \n",
              "1             Dyn_FunctionalZone_Name-EXTERNAL AREAS   \n",
              "2  Dyn_FunctionalZone_Name-RESEARCH & EDUCATION, ...   \n",
              "3                    Dyn_FunctionalZone_Name-STUDIOS   \n",
              "4        Dyn_FunctionalZone_Name-TEMPORARY GALLERIES   \n",
              "\n",
              "                  Dyn_FuncZn_Abb   Element ID      DesignOption  \\\n",
              "0      Dyn_FunctionalZone_Abb-TG  Element ID-  Design Option--1   \n",
              "1      Dyn_FunctionalZone_Abb-EX  Element ID-  Design Option--1   \n",
              "2  Dyn_FunctionalZone_Abb-RE, RE  Element ID-  Design Option--1   \n",
              "3      Dyn_FunctionalZone_Abb-ST  Element ID-  Design Option--1   \n",
              "4      Dyn_FunctionalZone_Abb-TG  Element ID-  Design Option--1   \n",
              "\n",
              "                     CompHt  \n",
              "0  Computation Height-150.0  \n",
              "1  Computation Height-150.0  \n",
              "2    Computation Height-0.0  \n",
              "3    Computation Height-0.0  \n",
              "4  Computation Height-150.0  \n",
              "\n",
              "[5 rows x 21 columns]"
            ],
            "text/html": [
              "\n",
              "  <div id=\"df-7906e789-9ce4-49e8-827e-2e687ac4cd8b\">\n",
              "    <div class=\"colab-df-container\">\n",
              "      <div>\n",
              "<style scoped>\n",
              "    .dataframe tbody tr th:only-of-type {\n",
              "        vertical-align: middle;\n",
              "    }\n",
              "\n",
              "    .dataframe tbody tr th {\n",
              "        vertical-align: top;\n",
              "    }\n",
              "\n",
              "    .dataframe thead th {\n",
              "        text-align: right;\n",
              "    }\n",
              "</style>\n",
              "<table border=\"1\" class=\"dataframe\">\n",
              "  <thead>\n",
              "    <tr style=\"text-align: right;\">\n",
              "      <th></th>\n",
              "      <th>X</th>\n",
              "      <th>Y</th>\n",
              "      <th>Z</th>\n",
              "      <th>Room_Number</th>\n",
              "      <th>Room_Name</th>\n",
              "      <th>Level_Id</th>\n",
              "      <th>Department</th>\n",
              "      <th>Workset</th>\n",
              "      <th>Room_Number2</th>\n",
              "      <th>Room_Name2</th>\n",
              "      <th>...</th>\n",
              "      <th>Upper_Limit</th>\n",
              "      <th>Limit_Offset</th>\n",
              "      <th>UnboundHeight</th>\n",
              "      <th>Department2</th>\n",
              "      <th>Dyn_ElementId</th>\n",
              "      <th>Dyn_FuncZone</th>\n",
              "      <th>Dyn_FuncZn_Abb</th>\n",
              "      <th>Element ID</th>\n",
              "      <th>DesignOption</th>\n",
              "      <th>CompHt</th>\n",
              "    </tr>\n",
              "  </thead>\n",
              "  <tbody>\n",
              "    <tr>\n",
              "      <th>0</th>\n",
              "      <td>126172.044</td>\n",
              "      <td>95910.879</td>\n",
              "      <td>241100.0</td>\n",
              "      <td>1332</td>\n",
              "      <td>TEMPORARY GALLERY 03</td>\n",
              "      <td>311</td>\n",
              "      <td>Galleries</td>\n",
              "      <td>Workset-44612</td>\n",
              "      <td>Number-1332</td>\n",
              "      <td>Name-TEMPORARY GALLERY 03</td>\n",
              "      <td>...</td>\n",
              "      <td>Upper Limit-Level(Name=02, Elevation=250350)</td>\n",
              "      <td>Limit Offset--246.412767615</td>\n",
              "      <td>Unbounded Height-8503.58723239</td>\n",
              "      <td>Department-Galleries</td>\n",
              "      <td>Dyn_ElementId-5062106</td>\n",
              "      <td>Dyn_FunctionalZone_Name-TEMPORARY GALLERIES</td>\n",
              "      <td>Dyn_FunctionalZone_Abb-TG</td>\n",
              "      <td>Element ID-</td>\n",
              "      <td>Design Option--1</td>\n",
              "      <td>Computation Height-150.0</td>\n",
              "    </tr>\n",
              "    <tr>\n",
              "      <th>1</th>\n",
              "      <td>111528.090</td>\n",
              "      <td>82446.875</td>\n",
              "      <td>241100.0</td>\n",
              "      <td>1340</td>\n",
              "      <td>STAIR D01</td>\n",
              "      <td>311</td>\n",
              "      <td>Circulation</td>\n",
              "      <td>Workset-44612</td>\n",
              "      <td>Number-1340</td>\n",
              "      <td>Name-STAIR D01</td>\n",
              "      <td>...</td>\n",
              "      <td>Upper Limit-Level(Name=02, Elevation=250350)</td>\n",
              "      <td>Limit Offset-4603.89818397</td>\n",
              "      <td>Unbounded Height-13353.8981840</td>\n",
              "      <td>Department-Circulation</td>\n",
              "      <td>Dyn_ElementId-5062114</td>\n",
              "      <td>Dyn_FunctionalZone_Name-EXTERNAL AREAS</td>\n",
              "      <td>Dyn_FunctionalZone_Abb-EX</td>\n",
              "      <td>Element ID-</td>\n",
              "      <td>Design Option--1</td>\n",
              "      <td>Computation Height-150.0</td>\n",
              "    </tr>\n",
              "    <tr>\n",
              "      <th>2</th>\n",
              "      <td>214932.044</td>\n",
              "      <td>108860.879</td>\n",
              "      <td>234600.0</td>\n",
              "      <td>1360</td>\n",
              "      <td>STAIR E02</td>\n",
              "      <td>419525</td>\n",
              "      <td>Circulation</td>\n",
              "      <td>Workset-44612</td>\n",
              "      <td>Number-1360</td>\n",
              "      <td>Name-STAIR E02</td>\n",
              "      <td>...</td>\n",
              "      <td>Upper Limit-Level(Name=GF, Elevation=241600)</td>\n",
              "      <td>Limit Offset--1000.0</td>\n",
              "      <td>Unbounded Height-5500.00000000</td>\n",
              "      <td>Department-Circulation</td>\n",
              "      <td>Dyn_ElementId-5062134</td>\n",
              "      <td>Dyn_FunctionalZone_Name-RESEARCH &amp; EDUCATION, ...</td>\n",
              "      <td>Dyn_FunctionalZone_Abb-RE, RE</td>\n",
              "      <td>Element ID-</td>\n",
              "      <td>Design Option--1</td>\n",
              "      <td>Computation Height-0.0</td>\n",
              "    </tr>\n",
              "    <tr>\n",
              "      <th>3</th>\n",
              "      <td>212515.348</td>\n",
              "      <td>105656.840</td>\n",
              "      <td>238000.0</td>\n",
              "      <td>1363</td>\n",
              "      <td>FIRE LOBBY</td>\n",
              "      <td>1404832</td>\n",
              "      <td>Circulation</td>\n",
              "      <td>Workset-44612</td>\n",
              "      <td>Number-1363</td>\n",
              "      <td>Name-FIRE LOBBY</td>\n",
              "      <td>...</td>\n",
              "      <td>Upper Limit-Level(Name=Lower GF, Elevation=238...</td>\n",
              "      <td>Limit Offset-2554.59805884</td>\n",
              "      <td>Unbounded Height-3254.59805884</td>\n",
              "      <td>Department-Circulation</td>\n",
              "      <td>Dyn_ElementId-5062137</td>\n",
              "      <td>Dyn_FunctionalZone_Name-STUDIOS</td>\n",
              "      <td>Dyn_FunctionalZone_Abb-ST</td>\n",
              "      <td>Element ID-</td>\n",
              "      <td>Design Option--1</td>\n",
              "      <td>Computation Height-0.0</td>\n",
              "    </tr>\n",
              "    <tr>\n",
              "      <th>4</th>\n",
              "      <td>94932.044</td>\n",
              "      <td>80635.879</td>\n",
              "      <td>241100.0</td>\n",
              "      <td>1371</td>\n",
              "      <td>VESTIBULE</td>\n",
              "      <td>311</td>\n",
              "      <td>Circulation</td>\n",
              "      <td>Workset-44612</td>\n",
              "      <td>Number-1371</td>\n",
              "      <td>Name-VESTIBULE</td>\n",
              "      <td>...</td>\n",
              "      <td>Upper Limit-Level(Name=GF, Elevation=241600)</td>\n",
              "      <td>Limit Offset-4246.21202518</td>\n",
              "      <td>Unbounded Height-4246.21202518</td>\n",
              "      <td>Department-Circulation</td>\n",
              "      <td>Dyn_ElementId-5062145</td>\n",
              "      <td>Dyn_FunctionalZone_Name-TEMPORARY GALLERIES</td>\n",
              "      <td>Dyn_FunctionalZone_Abb-TG</td>\n",
              "      <td>Element ID-</td>\n",
              "      <td>Design Option--1</td>\n",
              "      <td>Computation Height-150.0</td>\n",
              "    </tr>\n",
              "  </tbody>\n",
              "</table>\n",
              "<p>5 rows × 21 columns</p>\n",
              "</div>\n",
              "      <button class=\"colab-df-convert\" onclick=\"convertToInteractive('df-7906e789-9ce4-49e8-827e-2e687ac4cd8b')\"\n",
              "              title=\"Convert this dataframe to an interactive table.\"\n",
              "              style=\"display:none;\">\n",
              "        \n",
              "  <svg xmlns=\"http://www.w3.org/2000/svg\" height=\"24px\"viewBox=\"0 0 24 24\"\n",
              "       width=\"24px\">\n",
              "    <path d=\"M0 0h24v24H0V0z\" fill=\"none\"/>\n",
              "    <path d=\"M18.56 5.44l.94 2.06.94-2.06 2.06-.94-2.06-.94-.94-2.06-.94 2.06-2.06.94zm-11 1L8.5 8.5l.94-2.06 2.06-.94-2.06-.94L8.5 2.5l-.94 2.06-2.06.94zm10 10l.94 2.06.94-2.06 2.06-.94-2.06-.94-.94-2.06-.94 2.06-2.06.94z\"/><path d=\"M17.41 7.96l-1.37-1.37c-.4-.4-.92-.59-1.43-.59-.52 0-1.04.2-1.43.59L10.3 9.45l-7.72 7.72c-.78.78-.78 2.05 0 2.83L4 21.41c.39.39.9.59 1.41.59.51 0 1.02-.2 1.41-.59l7.78-7.78 2.81-2.81c.8-.78.8-2.07 0-2.86zM5.41 20L4 18.59l7.72-7.72 1.47 1.35L5.41 20z\"/>\n",
              "  </svg>\n",
              "      </button>\n",
              "      \n",
              "  <style>\n",
              "    .colab-df-container {\n",
              "      display:flex;\n",
              "      flex-wrap:wrap;\n",
              "      gap: 12px;\n",
              "    }\n",
              "\n",
              "    .colab-df-convert {\n",
              "      background-color: #E8F0FE;\n",
              "      border: none;\n",
              "      border-radius: 50%;\n",
              "      cursor: pointer;\n",
              "      display: none;\n",
              "      fill: #1967D2;\n",
              "      height: 32px;\n",
              "      padding: 0 0 0 0;\n",
              "      width: 32px;\n",
              "    }\n",
              "\n",
              "    .colab-df-convert:hover {\n",
              "      background-color: #E2EBFA;\n",
              "      box-shadow: 0px 1px 2px rgba(60, 64, 67, 0.3), 0px 1px 3px 1px rgba(60, 64, 67, 0.15);\n",
              "      fill: #174EA6;\n",
              "    }\n",
              "\n",
              "    [theme=dark] .colab-df-convert {\n",
              "      background-color: #3B4455;\n",
              "      fill: #D2E3FC;\n",
              "    }\n",
              "\n",
              "    [theme=dark] .colab-df-convert:hover {\n",
              "      background-color: #434B5C;\n",
              "      box-shadow: 0px 1px 3px 1px rgba(0, 0, 0, 0.15);\n",
              "      filter: drop-shadow(0px 1px 2px rgba(0, 0, 0, 0.3));\n",
              "      fill: #FFFFFF;\n",
              "    }\n",
              "  </style>\n",
              "\n",
              "      <script>\n",
              "        const buttonEl =\n",
              "          document.querySelector('#df-7906e789-9ce4-49e8-827e-2e687ac4cd8b button.colab-df-convert');\n",
              "        buttonEl.style.display =\n",
              "          google.colab.kernel.accessAllowed ? 'block' : 'none';\n",
              "\n",
              "        async function convertToInteractive(key) {\n",
              "          const element = document.querySelector('#df-7906e789-9ce4-49e8-827e-2e687ac4cd8b');\n",
              "          const dataTable =\n",
              "            await google.colab.kernel.invokeFunction('convertToInteractive',\n",
              "                                                     [key], {});\n",
              "          if (!dataTable) return;\n",
              "\n",
              "          const docLinkHtml = 'Like what you see? Visit the ' +\n",
              "            '<a target=\"_blank\" href=https://colab.research.google.com/notebooks/data_table.ipynb>data table notebook</a>'\n",
              "            + ' to learn more about interactive tables.';\n",
              "          element.innerHTML = '';\n",
              "          dataTable['output_type'] = 'display_data';\n",
              "          await google.colab.output.renderOutput(dataTable, element);\n",
              "          const docLink = document.createElement('div');\n",
              "          docLink.innerHTML = docLinkHtml;\n",
              "          element.appendChild(docLink);\n",
              "        }\n",
              "      </script>\n",
              "    </div>\n",
              "  </div>\n",
              "  "
            ]
          },
          "metadata": {},
          "execution_count": 13
        }
      ]
    },
    {
      "cell_type": "code",
      "source": [
        "df = Room_df.copy"
      ],
      "metadata": {
        "id": "RKcYbdr24sOd"
      },
      "execution_count": null,
      "outputs": []
    },
    {
      "cell_type": "code",
      "source": [
        "# df.Name.apply(lambda x: pd.Series(str(x).split(\"_\")))"
      ],
      "metadata": {
        "id": "EvmCp3lf8dfE"
      },
      "execution_count": null,
      "outputs": []
    },
    {
      "cell_type": "code",
      "source": [
        "# new column: DesignOption_Split \n",
        "Room_df.DesignOption = Room_df.DesignOption.apply(lambda x : pd.Series(str(x).split(\"--\")[-1]))\n",
        "# Room_df.DesignOption = Room_df.DesignOption[-1][len(Room_df.DesignOption)!=0]\n",
        "Room_df.head()"
      ],
      "metadata": {
        "colab": {
          "base_uri": "https://localhost:8080/",
          "height": 434
        },
        "id": "5j_KNW_s8eL0",
        "outputId": "06f07e95-2a7a-4b5a-9756-1dd010bf8748"
      },
      "execution_count": null,
      "outputs": [
        {
          "output_type": "execute_result",
          "data": {
            "text/html": [
              "<div>\n",
              "<style scoped>\n",
              "    .dataframe tbody tr th:only-of-type {\n",
              "        vertical-align: middle;\n",
              "    }\n",
              "\n",
              "    .dataframe tbody tr th {\n",
              "        vertical-align: top;\n",
              "    }\n",
              "\n",
              "    .dataframe thead th {\n",
              "        text-align: right;\n",
              "    }\n",
              "</style>\n",
              "<table border=\"1\" class=\"dataframe\">\n",
              "  <thead>\n",
              "    <tr style=\"text-align: right;\">\n",
              "      <th></th>\n",
              "      <th>X</th>\n",
              "      <th>Y</th>\n",
              "      <th>Z</th>\n",
              "      <th>Room_Number</th>\n",
              "      <th>Room_Name</th>\n",
              "      <th>Level_Id</th>\n",
              "      <th>Department</th>\n",
              "      <th>Workset</th>\n",
              "      <th>Room_Number2</th>\n",
              "      <th>Room_Name2</th>\n",
              "      <th>Level</th>\n",
              "      <th>Upper_Limit</th>\n",
              "      <th>Limit_Offset</th>\n",
              "      <th>UnboundHeight</th>\n",
              "      <th>Department2</th>\n",
              "      <th>Dyn_ElementId</th>\n",
              "      <th>Dyn_FuncZone</th>\n",
              "      <th>Dyn_FuncZn_Abb</th>\n",
              "      <th>Element ID</th>\n",
              "      <th>DesignOption</th>\n",
              "      <th>CompHt</th>\n",
              "    </tr>\n",
              "  </thead>\n",
              "  <tbody>\n",
              "    <tr>\n",
              "      <th>0</th>\n",
              "      <td>126172.044</td>\n",
              "      <td>95910.879</td>\n",
              "      <td>241100.0</td>\n",
              "      <td>1332</td>\n",
              "      <td>TEMPORARY GALLERY 03</td>\n",
              "      <td>311</td>\n",
              "      <td>Galleries</td>\n",
              "      <td>Workset-44612</td>\n",
              "      <td>Number-1332</td>\n",
              "      <td>Name-TEMPORARY GALLERY 03</td>\n",
              "      <td>Level-GF</td>\n",
              "      <td>Upper Limit-Level(Name=02, Elevation=250350)</td>\n",
              "      <td>Limit Offset--246.412767615</td>\n",
              "      <td>Unbounded Height-8503.58723239</td>\n",
              "      <td>Department-Galleries</td>\n",
              "      <td>Dyn_ElementId-5062106</td>\n",
              "      <td>Dyn_FunctionalZone_Name-TEMPORARY GALLERIES</td>\n",
              "      <td>Dyn_FunctionalZone_Abb-TG</td>\n",
              "      <td>Element ID-</td>\n",
              "      <td>1</td>\n",
              "      <td>Computation Height-150.0</td>\n",
              "    </tr>\n",
              "    <tr>\n",
              "      <th>1</th>\n",
              "      <td>111528.090</td>\n",
              "      <td>82446.875</td>\n",
              "      <td>241100.0</td>\n",
              "      <td>1340</td>\n",
              "      <td>STAIR D01</td>\n",
              "      <td>311</td>\n",
              "      <td>Circulation</td>\n",
              "      <td>Workset-44612</td>\n",
              "      <td>Number-1340</td>\n",
              "      <td>Name-STAIR D01</td>\n",
              "      <td>Level-GF</td>\n",
              "      <td>Upper Limit-Level(Name=02, Elevation=250350)</td>\n",
              "      <td>Limit Offset-4603.89818397</td>\n",
              "      <td>Unbounded Height-13353.8981840</td>\n",
              "      <td>Department-Circulation</td>\n",
              "      <td>Dyn_ElementId-5062114</td>\n",
              "      <td>Dyn_FunctionalZone_Name-EXTERNAL AREAS</td>\n",
              "      <td>Dyn_FunctionalZone_Abb-EX</td>\n",
              "      <td>Element ID-</td>\n",
              "      <td>1</td>\n",
              "      <td>Computation Height-150.0</td>\n",
              "    </tr>\n",
              "    <tr>\n",
              "      <th>2</th>\n",
              "      <td>214932.044</td>\n",
              "      <td>108860.879</td>\n",
              "      <td>234600.0</td>\n",
              "      <td>1360</td>\n",
              "      <td>STAIR E02</td>\n",
              "      <td>419525</td>\n",
              "      <td>Circulation</td>\n",
              "      <td>Workset-44612</td>\n",
              "      <td>Number-1360</td>\n",
              "      <td>Name-STAIR E02</td>\n",
              "      <td>Level-B1</td>\n",
              "      <td>Upper Limit-Level(Name=GF, Elevation=241600)</td>\n",
              "      <td>Limit Offset--1000.0</td>\n",
              "      <td>Unbounded Height-5500.00000000</td>\n",
              "      <td>Department-Circulation</td>\n",
              "      <td>Dyn_ElementId-5062134</td>\n",
              "      <td>Dyn_FunctionalZone_Name-RESEARCH &amp; EDUCATION, ...</td>\n",
              "      <td>Dyn_FunctionalZone_Abb-RE, RE</td>\n",
              "      <td>Element ID-</td>\n",
              "      <td>1</td>\n",
              "      <td>Computation Height-0.0</td>\n",
              "    </tr>\n",
              "    <tr>\n",
              "      <th>3</th>\n",
              "      <td>212515.348</td>\n",
              "      <td>105656.840</td>\n",
              "      <td>238000.0</td>\n",
              "      <td>1363</td>\n",
              "      <td>FIRE LOBBY</td>\n",
              "      <td>1404832</td>\n",
              "      <td>Circulation</td>\n",
              "      <td>Workset-44612</td>\n",
              "      <td>Number-1363</td>\n",
              "      <td>Name-FIRE LOBBY</td>\n",
              "      <td>Level-Lower GF</td>\n",
              "      <td>Upper Limit-Level(Name=Lower GF, Elevation=238...</td>\n",
              "      <td>Limit Offset-2554.59805884</td>\n",
              "      <td>Unbounded Height-3254.59805884</td>\n",
              "      <td>Department-Circulation</td>\n",
              "      <td>Dyn_ElementId-5062137</td>\n",
              "      <td>Dyn_FunctionalZone_Name-STUDIOS</td>\n",
              "      <td>Dyn_FunctionalZone_Abb-ST</td>\n",
              "      <td>Element ID-</td>\n",
              "      <td>1</td>\n",
              "      <td>Computation Height-0.0</td>\n",
              "    </tr>\n",
              "    <tr>\n",
              "      <th>4</th>\n",
              "      <td>94932.044</td>\n",
              "      <td>80635.879</td>\n",
              "      <td>241100.0</td>\n",
              "      <td>1371</td>\n",
              "      <td>VESTIBULE</td>\n",
              "      <td>311</td>\n",
              "      <td>Circulation</td>\n",
              "      <td>Workset-44612</td>\n",
              "      <td>Number-1371</td>\n",
              "      <td>Name-VESTIBULE</td>\n",
              "      <td>Level-GF</td>\n",
              "      <td>Upper Limit-Level(Name=GF, Elevation=241600)</td>\n",
              "      <td>Limit Offset-4246.21202518</td>\n",
              "      <td>Unbounded Height-4246.21202518</td>\n",
              "      <td>Department-Circulation</td>\n",
              "      <td>Dyn_ElementId-5062145</td>\n",
              "      <td>Dyn_FunctionalZone_Name-TEMPORARY GALLERIES</td>\n",
              "      <td>Dyn_FunctionalZone_Abb-TG</td>\n",
              "      <td>Element ID-</td>\n",
              "      <td>1</td>\n",
              "      <td>Computation Height-150.0</td>\n",
              "    </tr>\n",
              "  </tbody>\n",
              "</table>\n",
              "</div>"
            ],
            "text/plain": [
              "            X           Y  ...  DesignOption                    CompHt\n",
              "0  126172.044   95910.879  ...             1  Computation Height-150.0\n",
              "1  111528.090   82446.875  ...             1  Computation Height-150.0\n",
              "2  214932.044  108860.879  ...             1    Computation Height-0.0\n",
              "3  212515.348  105656.840  ...             1    Computation Height-0.0\n",
              "4   94932.044   80635.879  ...             1  Computation Height-150.0\n",
              "\n",
              "[5 rows x 21 columns]"
            ]
          },
          "metadata": {},
          "execution_count": 11
        }
      ]
    },
    {
      "cell_type": "code",
      "metadata": {
        "id": "7UC5UziAbT7N"
      },
      "source": [
        "# # new column: DesignOption_Split \n",
        "# Room_df.DesignOption = Room_df.DesignOption.str.split(\"--\")\n",
        "# # Room_df.DesignOption = Room_df.DesignOption[-1][len(Room_df.DesignOption)!=0]\n",
        "# Room_df.head()"
      ],
      "execution_count": null,
      "outputs": []
    },
    {
      "cell_type": "code",
      "source": [
        "Room_df.DesignOption"
      ],
      "metadata": {
        "colab": {
          "base_uri": "https://localhost:8080/"
        },
        "id": "S4dv30Ob7TYF",
        "outputId": "c14ecfac-fe40-4b74-c288-e1fa272c8b59"
      },
      "execution_count": null,
      "outputs": [
        {
          "output_type": "execute_result",
          "data": {
            "text/plain": [
              "0       1\n",
              "1       1\n",
              "2       1\n",
              "3       1\n",
              "4       1\n",
              "       ..\n",
              "1317    1\n",
              "1318    1\n",
              "1319    1\n",
              "1320    1\n",
              "1321    1\n",
              "Name: DesignOption, Length: 1114, dtype: object"
            ]
          },
          "metadata": {},
          "execution_count": 13
        }
      ]
    },
    {
      "cell_type": "code",
      "source": [
        "Room_df = Room_df[Room_df.DesignOption==\"1\"]\n",
        "Room_df.head()"
      ],
      "metadata": {
        "colab": {
          "base_uri": "https://localhost:8080/",
          "height": 434
        },
        "id": "LeZm8utM7FDz",
        "outputId": "9df24c2b-9a7b-46dd-cfdd-5d5aa59c75d7"
      },
      "execution_count": null,
      "outputs": [
        {
          "output_type": "execute_result",
          "data": {
            "text/html": [
              "<div>\n",
              "<style scoped>\n",
              "    .dataframe tbody tr th:only-of-type {\n",
              "        vertical-align: middle;\n",
              "    }\n",
              "\n",
              "    .dataframe tbody tr th {\n",
              "        vertical-align: top;\n",
              "    }\n",
              "\n",
              "    .dataframe thead th {\n",
              "        text-align: right;\n",
              "    }\n",
              "</style>\n",
              "<table border=\"1\" class=\"dataframe\">\n",
              "  <thead>\n",
              "    <tr style=\"text-align: right;\">\n",
              "      <th></th>\n",
              "      <th>X</th>\n",
              "      <th>Y</th>\n",
              "      <th>Z</th>\n",
              "      <th>Room_Number</th>\n",
              "      <th>Room_Name</th>\n",
              "      <th>Level_Id</th>\n",
              "      <th>Department</th>\n",
              "      <th>Workset</th>\n",
              "      <th>Room_Number2</th>\n",
              "      <th>Room_Name2</th>\n",
              "      <th>Level</th>\n",
              "      <th>Upper_Limit</th>\n",
              "      <th>Limit_Offset</th>\n",
              "      <th>UnboundHeight</th>\n",
              "      <th>Department2</th>\n",
              "      <th>Dyn_ElementId</th>\n",
              "      <th>Dyn_FuncZone</th>\n",
              "      <th>Dyn_FuncZn_Abb</th>\n",
              "      <th>Element ID</th>\n",
              "      <th>DesignOption</th>\n",
              "      <th>CompHt</th>\n",
              "    </tr>\n",
              "  </thead>\n",
              "  <tbody>\n",
              "    <tr>\n",
              "      <th>0</th>\n",
              "      <td>126172.044</td>\n",
              "      <td>95910.879</td>\n",
              "      <td>241100.0</td>\n",
              "      <td>1332</td>\n",
              "      <td>TEMPORARY GALLERY 03</td>\n",
              "      <td>311</td>\n",
              "      <td>Galleries</td>\n",
              "      <td>Workset-44612</td>\n",
              "      <td>Number-1332</td>\n",
              "      <td>Name-TEMPORARY GALLERY 03</td>\n",
              "      <td>Level-GF</td>\n",
              "      <td>Upper Limit-Level(Name=02, Elevation=250350)</td>\n",
              "      <td>Limit Offset--246.412767615</td>\n",
              "      <td>Unbounded Height-8503.58723239</td>\n",
              "      <td>Department-Galleries</td>\n",
              "      <td>Dyn_ElementId-5062106</td>\n",
              "      <td>Dyn_FunctionalZone_Name-TEMPORARY GALLERIES</td>\n",
              "      <td>Dyn_FunctionalZone_Abb-TG</td>\n",
              "      <td>Element ID-</td>\n",
              "      <td>1</td>\n",
              "      <td>Computation Height-150.0</td>\n",
              "    </tr>\n",
              "    <tr>\n",
              "      <th>1</th>\n",
              "      <td>111528.090</td>\n",
              "      <td>82446.875</td>\n",
              "      <td>241100.0</td>\n",
              "      <td>1340</td>\n",
              "      <td>STAIR D01</td>\n",
              "      <td>311</td>\n",
              "      <td>Circulation</td>\n",
              "      <td>Workset-44612</td>\n",
              "      <td>Number-1340</td>\n",
              "      <td>Name-STAIR D01</td>\n",
              "      <td>Level-GF</td>\n",
              "      <td>Upper Limit-Level(Name=02, Elevation=250350)</td>\n",
              "      <td>Limit Offset-4603.89818397</td>\n",
              "      <td>Unbounded Height-13353.8981840</td>\n",
              "      <td>Department-Circulation</td>\n",
              "      <td>Dyn_ElementId-5062114</td>\n",
              "      <td>Dyn_FunctionalZone_Name-EXTERNAL AREAS</td>\n",
              "      <td>Dyn_FunctionalZone_Abb-EX</td>\n",
              "      <td>Element ID-</td>\n",
              "      <td>1</td>\n",
              "      <td>Computation Height-150.0</td>\n",
              "    </tr>\n",
              "    <tr>\n",
              "      <th>2</th>\n",
              "      <td>214932.044</td>\n",
              "      <td>108860.879</td>\n",
              "      <td>234600.0</td>\n",
              "      <td>1360</td>\n",
              "      <td>STAIR E02</td>\n",
              "      <td>419525</td>\n",
              "      <td>Circulation</td>\n",
              "      <td>Workset-44612</td>\n",
              "      <td>Number-1360</td>\n",
              "      <td>Name-STAIR E02</td>\n",
              "      <td>Level-B1</td>\n",
              "      <td>Upper Limit-Level(Name=GF, Elevation=241600)</td>\n",
              "      <td>Limit Offset--1000.0</td>\n",
              "      <td>Unbounded Height-5500.00000000</td>\n",
              "      <td>Department-Circulation</td>\n",
              "      <td>Dyn_ElementId-5062134</td>\n",
              "      <td>Dyn_FunctionalZone_Name-RESEARCH &amp; EDUCATION, ...</td>\n",
              "      <td>Dyn_FunctionalZone_Abb-RE, RE</td>\n",
              "      <td>Element ID-</td>\n",
              "      <td>1</td>\n",
              "      <td>Computation Height-0.0</td>\n",
              "    </tr>\n",
              "    <tr>\n",
              "      <th>3</th>\n",
              "      <td>212515.348</td>\n",
              "      <td>105656.840</td>\n",
              "      <td>238000.0</td>\n",
              "      <td>1363</td>\n",
              "      <td>FIRE LOBBY</td>\n",
              "      <td>1404832</td>\n",
              "      <td>Circulation</td>\n",
              "      <td>Workset-44612</td>\n",
              "      <td>Number-1363</td>\n",
              "      <td>Name-FIRE LOBBY</td>\n",
              "      <td>Level-Lower GF</td>\n",
              "      <td>Upper Limit-Level(Name=Lower GF, Elevation=238...</td>\n",
              "      <td>Limit Offset-2554.59805884</td>\n",
              "      <td>Unbounded Height-3254.59805884</td>\n",
              "      <td>Department-Circulation</td>\n",
              "      <td>Dyn_ElementId-5062137</td>\n",
              "      <td>Dyn_FunctionalZone_Name-STUDIOS</td>\n",
              "      <td>Dyn_FunctionalZone_Abb-ST</td>\n",
              "      <td>Element ID-</td>\n",
              "      <td>1</td>\n",
              "      <td>Computation Height-0.0</td>\n",
              "    </tr>\n",
              "    <tr>\n",
              "      <th>4</th>\n",
              "      <td>94932.044</td>\n",
              "      <td>80635.879</td>\n",
              "      <td>241100.0</td>\n",
              "      <td>1371</td>\n",
              "      <td>VESTIBULE</td>\n",
              "      <td>311</td>\n",
              "      <td>Circulation</td>\n",
              "      <td>Workset-44612</td>\n",
              "      <td>Number-1371</td>\n",
              "      <td>Name-VESTIBULE</td>\n",
              "      <td>Level-GF</td>\n",
              "      <td>Upper Limit-Level(Name=GF, Elevation=241600)</td>\n",
              "      <td>Limit Offset-4246.21202518</td>\n",
              "      <td>Unbounded Height-4246.21202518</td>\n",
              "      <td>Department-Circulation</td>\n",
              "      <td>Dyn_ElementId-5062145</td>\n",
              "      <td>Dyn_FunctionalZone_Name-TEMPORARY GALLERIES</td>\n",
              "      <td>Dyn_FunctionalZone_Abb-TG</td>\n",
              "      <td>Element ID-</td>\n",
              "      <td>1</td>\n",
              "      <td>Computation Height-150.0</td>\n",
              "    </tr>\n",
              "  </tbody>\n",
              "</table>\n",
              "</div>"
            ],
            "text/plain": [
              "            X           Y  ...  DesignOption                    CompHt\n",
              "0  126172.044   95910.879  ...             1  Computation Height-150.0\n",
              "1  111528.090   82446.875  ...             1  Computation Height-150.0\n",
              "2  214932.044  108860.879  ...             1    Computation Height-0.0\n",
              "3  212515.348  105656.840  ...             1    Computation Height-0.0\n",
              "4   94932.044   80635.879  ...             1  Computation Height-150.0\n",
              "\n",
              "[5 rows x 21 columns]"
            ]
          },
          "metadata": {},
          "execution_count": 14
        }
      ]
    },
    {
      "cell_type": "code",
      "source": [
        "Room_df.info()"
      ],
      "metadata": {
        "colab": {
          "base_uri": "https://localhost:8080/"
        },
        "id": "s_z0lEfz9YNy",
        "outputId": "b0e36a87-b606-4d07-8b93-3a4286e6bc1d"
      },
      "execution_count": null,
      "outputs": [
        {
          "output_type": "stream",
          "name": "stdout",
          "text": [
            "<class 'pandas.core.frame.DataFrame'>\n",
            "Int64Index: 1094 entries, 0 to 1321\n",
            "Data columns (total 21 columns):\n",
            " #   Column          Non-Null Count  Dtype  \n",
            "---  ------          --------------  -----  \n",
            " 0   X               1094 non-null   float64\n",
            " 1   Y               1094 non-null   float64\n",
            " 2   Z               1094 non-null   float64\n",
            " 3   Room_Number     1094 non-null   object \n",
            " 4   Room_Name       1094 non-null   object \n",
            " 5   Level_Id        1094 non-null   int64  \n",
            " 6   Department      1094 non-null   object \n",
            " 7   Workset         1094 non-null   object \n",
            " 8   Room_Number2    1094 non-null   object \n",
            " 9   Room_Name2      1094 non-null   object \n",
            " 10  Level           1094 non-null   object \n",
            " 11  Upper_Limit     1094 non-null   object \n",
            " 12  Limit_Offset    1094 non-null   object \n",
            " 13  UnboundHeight   1094 non-null   object \n",
            " 14  Department2     1094 non-null   object \n",
            " 15  Dyn_ElementId   1094 non-null   object \n",
            " 16  Dyn_FuncZone    1094 non-null   object \n",
            " 17  Dyn_FuncZn_Abb  1094 non-null   object \n",
            " 18  Element ID      1094 non-null   object \n",
            " 19  DesignOption    1094 non-null   object \n",
            " 20  CompHt          1094 non-null   object \n",
            "dtypes: float64(3), int64(1), object(17)\n",
            "memory usage: 188.0+ KB\n"
          ]
        }
      ]
    },
    {
      "cell_type": "code",
      "source": [
        "# new column: DesignOption_Split \n",
        "Room_df.Dyn_ElementId = Room_df.Dyn_ElementId.apply(lambda x : pd.Series(str(x).split(\"-\")[-1]))\n",
        "# Room_df.DesignOption = Room_df.DesignOption[-1][len(Room_df.DesignOption)!=0]\n",
        "Room_df.head()"
      ],
      "metadata": {
        "colab": {
          "base_uri": "https://localhost:8080/",
          "height": 538
        },
        "id": "ME7H7H0ECF6j",
        "outputId": "76ba2acf-47d1-4712-8b4e-a262dd49b970"
      },
      "execution_count": null,
      "outputs": [
        {
          "output_type": "stream",
          "name": "stderr",
          "text": [
            "/usr/local/lib/python3.7/dist-packages/pandas/core/generic.py:5170: SettingWithCopyWarning: \n",
            "A value is trying to be set on a copy of a slice from a DataFrame.\n",
            "Try using .loc[row_indexer,col_indexer] = value instead\n",
            "\n",
            "See the caveats in the documentation: https://pandas.pydata.org/pandas-docs/stable/user_guide/indexing.html#returning-a-view-versus-a-copy\n",
            "  self[name] = value\n"
          ]
        },
        {
          "output_type": "execute_result",
          "data": {
            "text/html": [
              "<div>\n",
              "<style scoped>\n",
              "    .dataframe tbody tr th:only-of-type {\n",
              "        vertical-align: middle;\n",
              "    }\n",
              "\n",
              "    .dataframe tbody tr th {\n",
              "        vertical-align: top;\n",
              "    }\n",
              "\n",
              "    .dataframe thead th {\n",
              "        text-align: right;\n",
              "    }\n",
              "</style>\n",
              "<table border=\"1\" class=\"dataframe\">\n",
              "  <thead>\n",
              "    <tr style=\"text-align: right;\">\n",
              "      <th></th>\n",
              "      <th>X</th>\n",
              "      <th>Y</th>\n",
              "      <th>Z</th>\n",
              "      <th>Room_Number</th>\n",
              "      <th>Room_Name</th>\n",
              "      <th>Level_Id</th>\n",
              "      <th>Department</th>\n",
              "      <th>Workset</th>\n",
              "      <th>Room_Number2</th>\n",
              "      <th>Room_Name2</th>\n",
              "      <th>Level</th>\n",
              "      <th>Upper_Limit</th>\n",
              "      <th>Limit_Offset</th>\n",
              "      <th>UnboundHeight</th>\n",
              "      <th>Department2</th>\n",
              "      <th>Dyn_ElementId</th>\n",
              "      <th>Dyn_FuncZone</th>\n",
              "      <th>Dyn_FuncZn_Abb</th>\n",
              "      <th>Element ID</th>\n",
              "      <th>DesignOption</th>\n",
              "      <th>CompHt</th>\n",
              "    </tr>\n",
              "  </thead>\n",
              "  <tbody>\n",
              "    <tr>\n",
              "      <th>0</th>\n",
              "      <td>126172.044</td>\n",
              "      <td>95910.879</td>\n",
              "      <td>241100.0</td>\n",
              "      <td>1332</td>\n",
              "      <td>TEMPORARY GALLERY 03</td>\n",
              "      <td>311</td>\n",
              "      <td>Galleries</td>\n",
              "      <td>Workset-44612</td>\n",
              "      <td>Number-1332</td>\n",
              "      <td>Name-TEMPORARY GALLERY 03</td>\n",
              "      <td>Level-GF</td>\n",
              "      <td>Upper Limit-Level(Name=02, Elevation=250350)</td>\n",
              "      <td>Limit Offset--246.412767615</td>\n",
              "      <td>Unbounded Height-8503.58723239</td>\n",
              "      <td>Department-Galleries</td>\n",
              "      <td>5062106</td>\n",
              "      <td>Dyn_FunctionalZone_Name-TEMPORARY GALLERIES</td>\n",
              "      <td>Dyn_FunctionalZone_Abb-TG</td>\n",
              "      <td>Element ID-</td>\n",
              "      <td>1</td>\n",
              "      <td>Computation Height-150.0</td>\n",
              "    </tr>\n",
              "    <tr>\n",
              "      <th>1</th>\n",
              "      <td>111528.090</td>\n",
              "      <td>82446.875</td>\n",
              "      <td>241100.0</td>\n",
              "      <td>1340</td>\n",
              "      <td>STAIR D01</td>\n",
              "      <td>311</td>\n",
              "      <td>Circulation</td>\n",
              "      <td>Workset-44612</td>\n",
              "      <td>Number-1340</td>\n",
              "      <td>Name-STAIR D01</td>\n",
              "      <td>Level-GF</td>\n",
              "      <td>Upper Limit-Level(Name=02, Elevation=250350)</td>\n",
              "      <td>Limit Offset-4603.89818397</td>\n",
              "      <td>Unbounded Height-13353.8981840</td>\n",
              "      <td>Department-Circulation</td>\n",
              "      <td>5062114</td>\n",
              "      <td>Dyn_FunctionalZone_Name-EXTERNAL AREAS</td>\n",
              "      <td>Dyn_FunctionalZone_Abb-EX</td>\n",
              "      <td>Element ID-</td>\n",
              "      <td>1</td>\n",
              "      <td>Computation Height-150.0</td>\n",
              "    </tr>\n",
              "    <tr>\n",
              "      <th>2</th>\n",
              "      <td>214932.044</td>\n",
              "      <td>108860.879</td>\n",
              "      <td>234600.0</td>\n",
              "      <td>1360</td>\n",
              "      <td>STAIR E02</td>\n",
              "      <td>419525</td>\n",
              "      <td>Circulation</td>\n",
              "      <td>Workset-44612</td>\n",
              "      <td>Number-1360</td>\n",
              "      <td>Name-STAIR E02</td>\n",
              "      <td>Level-B1</td>\n",
              "      <td>Upper Limit-Level(Name=GF, Elevation=241600)</td>\n",
              "      <td>Limit Offset--1000.0</td>\n",
              "      <td>Unbounded Height-5500.00000000</td>\n",
              "      <td>Department-Circulation</td>\n",
              "      <td>5062134</td>\n",
              "      <td>Dyn_FunctionalZone_Name-RESEARCH &amp; EDUCATION, ...</td>\n",
              "      <td>Dyn_FunctionalZone_Abb-RE, RE</td>\n",
              "      <td>Element ID-</td>\n",
              "      <td>1</td>\n",
              "      <td>Computation Height-0.0</td>\n",
              "    </tr>\n",
              "    <tr>\n",
              "      <th>3</th>\n",
              "      <td>212515.348</td>\n",
              "      <td>105656.840</td>\n",
              "      <td>238000.0</td>\n",
              "      <td>1363</td>\n",
              "      <td>FIRE LOBBY</td>\n",
              "      <td>1404832</td>\n",
              "      <td>Circulation</td>\n",
              "      <td>Workset-44612</td>\n",
              "      <td>Number-1363</td>\n",
              "      <td>Name-FIRE LOBBY</td>\n",
              "      <td>Level-Lower GF</td>\n",
              "      <td>Upper Limit-Level(Name=Lower GF, Elevation=238...</td>\n",
              "      <td>Limit Offset-2554.59805884</td>\n",
              "      <td>Unbounded Height-3254.59805884</td>\n",
              "      <td>Department-Circulation</td>\n",
              "      <td>5062137</td>\n",
              "      <td>Dyn_FunctionalZone_Name-STUDIOS</td>\n",
              "      <td>Dyn_FunctionalZone_Abb-ST</td>\n",
              "      <td>Element ID-</td>\n",
              "      <td>1</td>\n",
              "      <td>Computation Height-0.0</td>\n",
              "    </tr>\n",
              "    <tr>\n",
              "      <th>4</th>\n",
              "      <td>94932.044</td>\n",
              "      <td>80635.879</td>\n",
              "      <td>241100.0</td>\n",
              "      <td>1371</td>\n",
              "      <td>VESTIBULE</td>\n",
              "      <td>311</td>\n",
              "      <td>Circulation</td>\n",
              "      <td>Workset-44612</td>\n",
              "      <td>Number-1371</td>\n",
              "      <td>Name-VESTIBULE</td>\n",
              "      <td>Level-GF</td>\n",
              "      <td>Upper Limit-Level(Name=GF, Elevation=241600)</td>\n",
              "      <td>Limit Offset-4246.21202518</td>\n",
              "      <td>Unbounded Height-4246.21202518</td>\n",
              "      <td>Department-Circulation</td>\n",
              "      <td>5062145</td>\n",
              "      <td>Dyn_FunctionalZone_Name-TEMPORARY GALLERIES</td>\n",
              "      <td>Dyn_FunctionalZone_Abb-TG</td>\n",
              "      <td>Element ID-</td>\n",
              "      <td>1</td>\n",
              "      <td>Computation Height-150.0</td>\n",
              "    </tr>\n",
              "  </tbody>\n",
              "</table>\n",
              "</div>"
            ],
            "text/plain": [
              "            X           Y  ...  DesignOption                    CompHt\n",
              "0  126172.044   95910.879  ...             1  Computation Height-150.0\n",
              "1  111528.090   82446.875  ...             1  Computation Height-150.0\n",
              "2  214932.044  108860.879  ...             1    Computation Height-0.0\n",
              "3  212515.348  105656.840  ...             1    Computation Height-0.0\n",
              "4   94932.044   80635.879  ...             1  Computation Height-150.0\n",
              "\n",
              "[5 rows x 21 columns]"
            ]
          },
          "metadata": {},
          "execution_count": 16
        }
      ]
    },
    {
      "cell_type": "code",
      "source": [],
      "metadata": {
        "id": "vL9vkxKMXdDT"
      },
      "execution_count": null,
      "outputs": []
    },
    {
      "cell_type": "code",
      "source": [
        "# new column: DesignOption_Split \n",
        "Room_df.Level = Room_df.Level.apply(lambda x : pd.Series(str(x).split(\"-\")[-1]))\n",
        "# Room_df.DesignOption = Room_df.DesignOption[-1][len(Room_df.DesignOption)!=0]\n",
        "Room_df.head()"
      ],
      "metadata": {
        "colab": {
          "base_uri": "https://localhost:8080/",
          "height": 611
        },
        "id": "cRC3e_AdM--1",
        "outputId": "d3b2d6a5-5d7e-4486-c658-874f34760bd4"
      },
      "execution_count": null,
      "outputs": [
        {
          "output_type": "stream",
          "name": "stderr",
          "text": [
            "/usr/local/lib/python3.7/dist-packages/pandas/core/generic.py:5516: SettingWithCopyWarning: \n",
            "A value is trying to be set on a copy of a slice from a DataFrame.\n",
            "Try using .loc[row_indexer,col_indexer] = value instead\n",
            "\n",
            "See the caveats in the documentation: https://pandas.pydata.org/pandas-docs/stable/user_guide/indexing.html#returning-a-view-versus-a-copy\n",
            "  self[name] = value\n"
          ]
        },
        {
          "output_type": "execute_result",
          "data": {
            "text/plain": [
              "            X           Y         Z Room_Number             Room_Name  \\\n",
              "0  126172.044   95910.879  241100.0        1332  TEMPORARY GALLERY 03   \n",
              "1  111528.090   82446.875  241100.0        1340             STAIR D01   \n",
              "2  214932.044  108860.879  234600.0        1360             STAIR E02   \n",
              "3  212515.348  105656.840  238000.0        1363            FIRE LOBBY   \n",
              "4   94932.044   80635.879  241100.0        1371             VESTIBULE   \n",
              "\n",
              "   Level_Id   Department        Workset Room_Number2  \\\n",
              "0       311    Galleries  Workset-44612  Number-1332   \n",
              "1       311  Circulation  Workset-44612  Number-1340   \n",
              "2    419525  Circulation  Workset-44612  Number-1360   \n",
              "3   1404832  Circulation  Workset-44612  Number-1363   \n",
              "4       311  Circulation  Workset-44612  Number-1371   \n",
              "\n",
              "                  Room_Name2  ...  \\\n",
              "0  Name-TEMPORARY GALLERY 03  ...   \n",
              "1             Name-STAIR D01  ...   \n",
              "2             Name-STAIR E02  ...   \n",
              "3            Name-FIRE LOBBY  ...   \n",
              "4             Name-VESTIBULE  ...   \n",
              "\n",
              "                                         Upper_Limit  \\\n",
              "0       Upper Limit-Level(Name=02, Elevation=250350)   \n",
              "1       Upper Limit-Level(Name=02, Elevation=250350)   \n",
              "2       Upper Limit-Level(Name=GF, Elevation=241600)   \n",
              "3  Upper Limit-Level(Name=Lower GF, Elevation=238...   \n",
              "4       Upper Limit-Level(Name=GF, Elevation=241600)   \n",
              "\n",
              "                  Limit_Offset                   UnboundHeight  \\\n",
              "0  Limit Offset--246.412767615  Unbounded Height-8503.58723239   \n",
              "1   Limit Offset-4603.89818397  Unbounded Height-13353.8981840   \n",
              "2         Limit Offset--1000.0  Unbounded Height-5500.00000000   \n",
              "3   Limit Offset-2554.59805884  Unbounded Height-3254.59805884   \n",
              "4   Limit Offset-4246.21202518  Unbounded Height-4246.21202518   \n",
              "\n",
              "              Department2          Dyn_ElementId  \\\n",
              "0    Department-Galleries  Dyn_ElementId-5062106   \n",
              "1  Department-Circulation  Dyn_ElementId-5062114   \n",
              "2  Department-Circulation  Dyn_ElementId-5062134   \n",
              "3  Department-Circulation  Dyn_ElementId-5062137   \n",
              "4  Department-Circulation  Dyn_ElementId-5062145   \n",
              "\n",
              "                                        Dyn_FuncZone  \\\n",
              "0        Dyn_FunctionalZone_Name-TEMPORARY GALLERIES   \n",
              "1             Dyn_FunctionalZone_Name-EXTERNAL AREAS   \n",
              "2  Dyn_FunctionalZone_Name-RESEARCH & EDUCATION, ...   \n",
              "3                    Dyn_FunctionalZone_Name-STUDIOS   \n",
              "4        Dyn_FunctionalZone_Name-TEMPORARY GALLERIES   \n",
              "\n",
              "                  Dyn_FuncZn_Abb   Element ID      DesignOption  \\\n",
              "0      Dyn_FunctionalZone_Abb-TG  Element ID-  Design Option--1   \n",
              "1      Dyn_FunctionalZone_Abb-EX  Element ID-  Design Option--1   \n",
              "2  Dyn_FunctionalZone_Abb-RE, RE  Element ID-  Design Option--1   \n",
              "3      Dyn_FunctionalZone_Abb-ST  Element ID-  Design Option--1   \n",
              "4      Dyn_FunctionalZone_Abb-TG  Element ID-  Design Option--1   \n",
              "\n",
              "                     CompHt  \n",
              "0  Computation Height-150.0  \n",
              "1  Computation Height-150.0  \n",
              "2    Computation Height-0.0  \n",
              "3    Computation Height-0.0  \n",
              "4  Computation Height-150.0  \n",
              "\n",
              "[5 rows x 21 columns]"
            ],
            "text/html": [
              "\n",
              "  <div id=\"df-087318bb-2bdf-49a9-be8d-05f7b5ed1fb6\">\n",
              "    <div class=\"colab-df-container\">\n",
              "      <div>\n",
              "<style scoped>\n",
              "    .dataframe tbody tr th:only-of-type {\n",
              "        vertical-align: middle;\n",
              "    }\n",
              "\n",
              "    .dataframe tbody tr th {\n",
              "        vertical-align: top;\n",
              "    }\n",
              "\n",
              "    .dataframe thead th {\n",
              "        text-align: right;\n",
              "    }\n",
              "</style>\n",
              "<table border=\"1\" class=\"dataframe\">\n",
              "  <thead>\n",
              "    <tr style=\"text-align: right;\">\n",
              "      <th></th>\n",
              "      <th>X</th>\n",
              "      <th>Y</th>\n",
              "      <th>Z</th>\n",
              "      <th>Room_Number</th>\n",
              "      <th>Room_Name</th>\n",
              "      <th>Level_Id</th>\n",
              "      <th>Department</th>\n",
              "      <th>Workset</th>\n",
              "      <th>Room_Number2</th>\n",
              "      <th>Room_Name2</th>\n",
              "      <th>...</th>\n",
              "      <th>Upper_Limit</th>\n",
              "      <th>Limit_Offset</th>\n",
              "      <th>UnboundHeight</th>\n",
              "      <th>Department2</th>\n",
              "      <th>Dyn_ElementId</th>\n",
              "      <th>Dyn_FuncZone</th>\n",
              "      <th>Dyn_FuncZn_Abb</th>\n",
              "      <th>Element ID</th>\n",
              "      <th>DesignOption</th>\n",
              "      <th>CompHt</th>\n",
              "    </tr>\n",
              "  </thead>\n",
              "  <tbody>\n",
              "    <tr>\n",
              "      <th>0</th>\n",
              "      <td>126172.044</td>\n",
              "      <td>95910.879</td>\n",
              "      <td>241100.0</td>\n",
              "      <td>1332</td>\n",
              "      <td>TEMPORARY GALLERY 03</td>\n",
              "      <td>311</td>\n",
              "      <td>Galleries</td>\n",
              "      <td>Workset-44612</td>\n",
              "      <td>Number-1332</td>\n",
              "      <td>Name-TEMPORARY GALLERY 03</td>\n",
              "      <td>...</td>\n",
              "      <td>Upper Limit-Level(Name=02, Elevation=250350)</td>\n",
              "      <td>Limit Offset--246.412767615</td>\n",
              "      <td>Unbounded Height-8503.58723239</td>\n",
              "      <td>Department-Galleries</td>\n",
              "      <td>Dyn_ElementId-5062106</td>\n",
              "      <td>Dyn_FunctionalZone_Name-TEMPORARY GALLERIES</td>\n",
              "      <td>Dyn_FunctionalZone_Abb-TG</td>\n",
              "      <td>Element ID-</td>\n",
              "      <td>Design Option--1</td>\n",
              "      <td>Computation Height-150.0</td>\n",
              "    </tr>\n",
              "    <tr>\n",
              "      <th>1</th>\n",
              "      <td>111528.090</td>\n",
              "      <td>82446.875</td>\n",
              "      <td>241100.0</td>\n",
              "      <td>1340</td>\n",
              "      <td>STAIR D01</td>\n",
              "      <td>311</td>\n",
              "      <td>Circulation</td>\n",
              "      <td>Workset-44612</td>\n",
              "      <td>Number-1340</td>\n",
              "      <td>Name-STAIR D01</td>\n",
              "      <td>...</td>\n",
              "      <td>Upper Limit-Level(Name=02, Elevation=250350)</td>\n",
              "      <td>Limit Offset-4603.89818397</td>\n",
              "      <td>Unbounded Height-13353.8981840</td>\n",
              "      <td>Department-Circulation</td>\n",
              "      <td>Dyn_ElementId-5062114</td>\n",
              "      <td>Dyn_FunctionalZone_Name-EXTERNAL AREAS</td>\n",
              "      <td>Dyn_FunctionalZone_Abb-EX</td>\n",
              "      <td>Element ID-</td>\n",
              "      <td>Design Option--1</td>\n",
              "      <td>Computation Height-150.0</td>\n",
              "    </tr>\n",
              "    <tr>\n",
              "      <th>2</th>\n",
              "      <td>214932.044</td>\n",
              "      <td>108860.879</td>\n",
              "      <td>234600.0</td>\n",
              "      <td>1360</td>\n",
              "      <td>STAIR E02</td>\n",
              "      <td>419525</td>\n",
              "      <td>Circulation</td>\n",
              "      <td>Workset-44612</td>\n",
              "      <td>Number-1360</td>\n",
              "      <td>Name-STAIR E02</td>\n",
              "      <td>...</td>\n",
              "      <td>Upper Limit-Level(Name=GF, Elevation=241600)</td>\n",
              "      <td>Limit Offset--1000.0</td>\n",
              "      <td>Unbounded Height-5500.00000000</td>\n",
              "      <td>Department-Circulation</td>\n",
              "      <td>Dyn_ElementId-5062134</td>\n",
              "      <td>Dyn_FunctionalZone_Name-RESEARCH &amp; EDUCATION, ...</td>\n",
              "      <td>Dyn_FunctionalZone_Abb-RE, RE</td>\n",
              "      <td>Element ID-</td>\n",
              "      <td>Design Option--1</td>\n",
              "      <td>Computation Height-0.0</td>\n",
              "    </tr>\n",
              "    <tr>\n",
              "      <th>3</th>\n",
              "      <td>212515.348</td>\n",
              "      <td>105656.840</td>\n",
              "      <td>238000.0</td>\n",
              "      <td>1363</td>\n",
              "      <td>FIRE LOBBY</td>\n",
              "      <td>1404832</td>\n",
              "      <td>Circulation</td>\n",
              "      <td>Workset-44612</td>\n",
              "      <td>Number-1363</td>\n",
              "      <td>Name-FIRE LOBBY</td>\n",
              "      <td>...</td>\n",
              "      <td>Upper Limit-Level(Name=Lower GF, Elevation=238...</td>\n",
              "      <td>Limit Offset-2554.59805884</td>\n",
              "      <td>Unbounded Height-3254.59805884</td>\n",
              "      <td>Department-Circulation</td>\n",
              "      <td>Dyn_ElementId-5062137</td>\n",
              "      <td>Dyn_FunctionalZone_Name-STUDIOS</td>\n",
              "      <td>Dyn_FunctionalZone_Abb-ST</td>\n",
              "      <td>Element ID-</td>\n",
              "      <td>Design Option--1</td>\n",
              "      <td>Computation Height-0.0</td>\n",
              "    </tr>\n",
              "    <tr>\n",
              "      <th>4</th>\n",
              "      <td>94932.044</td>\n",
              "      <td>80635.879</td>\n",
              "      <td>241100.0</td>\n",
              "      <td>1371</td>\n",
              "      <td>VESTIBULE</td>\n",
              "      <td>311</td>\n",
              "      <td>Circulation</td>\n",
              "      <td>Workset-44612</td>\n",
              "      <td>Number-1371</td>\n",
              "      <td>Name-VESTIBULE</td>\n",
              "      <td>...</td>\n",
              "      <td>Upper Limit-Level(Name=GF, Elevation=241600)</td>\n",
              "      <td>Limit Offset-4246.21202518</td>\n",
              "      <td>Unbounded Height-4246.21202518</td>\n",
              "      <td>Department-Circulation</td>\n",
              "      <td>Dyn_ElementId-5062145</td>\n",
              "      <td>Dyn_FunctionalZone_Name-TEMPORARY GALLERIES</td>\n",
              "      <td>Dyn_FunctionalZone_Abb-TG</td>\n",
              "      <td>Element ID-</td>\n",
              "      <td>Design Option--1</td>\n",
              "      <td>Computation Height-150.0</td>\n",
              "    </tr>\n",
              "  </tbody>\n",
              "</table>\n",
              "<p>5 rows × 21 columns</p>\n",
              "</div>\n",
              "      <button class=\"colab-df-convert\" onclick=\"convertToInteractive('df-087318bb-2bdf-49a9-be8d-05f7b5ed1fb6')\"\n",
              "              title=\"Convert this dataframe to an interactive table.\"\n",
              "              style=\"display:none;\">\n",
              "        \n",
              "  <svg xmlns=\"http://www.w3.org/2000/svg\" height=\"24px\"viewBox=\"0 0 24 24\"\n",
              "       width=\"24px\">\n",
              "    <path d=\"M0 0h24v24H0V0z\" fill=\"none\"/>\n",
              "    <path d=\"M18.56 5.44l.94 2.06.94-2.06 2.06-.94-2.06-.94-.94-2.06-.94 2.06-2.06.94zm-11 1L8.5 8.5l.94-2.06 2.06-.94-2.06-.94L8.5 2.5l-.94 2.06-2.06.94zm10 10l.94 2.06.94-2.06 2.06-.94-2.06-.94-.94-2.06-.94 2.06-2.06.94z\"/><path d=\"M17.41 7.96l-1.37-1.37c-.4-.4-.92-.59-1.43-.59-.52 0-1.04.2-1.43.59L10.3 9.45l-7.72 7.72c-.78.78-.78 2.05 0 2.83L4 21.41c.39.39.9.59 1.41.59.51 0 1.02-.2 1.41-.59l7.78-7.78 2.81-2.81c.8-.78.8-2.07 0-2.86zM5.41 20L4 18.59l7.72-7.72 1.47 1.35L5.41 20z\"/>\n",
              "  </svg>\n",
              "      </button>\n",
              "      \n",
              "  <style>\n",
              "    .colab-df-container {\n",
              "      display:flex;\n",
              "      flex-wrap:wrap;\n",
              "      gap: 12px;\n",
              "    }\n",
              "\n",
              "    .colab-df-convert {\n",
              "      background-color: #E8F0FE;\n",
              "      border: none;\n",
              "      border-radius: 50%;\n",
              "      cursor: pointer;\n",
              "      display: none;\n",
              "      fill: #1967D2;\n",
              "      height: 32px;\n",
              "      padding: 0 0 0 0;\n",
              "      width: 32px;\n",
              "    }\n",
              "\n",
              "    .colab-df-convert:hover {\n",
              "      background-color: #E2EBFA;\n",
              "      box-shadow: 0px 1px 2px rgba(60, 64, 67, 0.3), 0px 1px 3px 1px rgba(60, 64, 67, 0.15);\n",
              "      fill: #174EA6;\n",
              "    }\n",
              "\n",
              "    [theme=dark] .colab-df-convert {\n",
              "      background-color: #3B4455;\n",
              "      fill: #D2E3FC;\n",
              "    }\n",
              "\n",
              "    [theme=dark] .colab-df-convert:hover {\n",
              "      background-color: #434B5C;\n",
              "      box-shadow: 0px 1px 3px 1px rgba(0, 0, 0, 0.15);\n",
              "      filter: drop-shadow(0px 1px 2px rgba(0, 0, 0, 0.3));\n",
              "      fill: #FFFFFF;\n",
              "    }\n",
              "  </style>\n",
              "\n",
              "      <script>\n",
              "        const buttonEl =\n",
              "          document.querySelector('#df-087318bb-2bdf-49a9-be8d-05f7b5ed1fb6 button.colab-df-convert');\n",
              "        buttonEl.style.display =\n",
              "          google.colab.kernel.accessAllowed ? 'block' : 'none';\n",
              "\n",
              "        async function convertToInteractive(key) {\n",
              "          const element = document.querySelector('#df-087318bb-2bdf-49a9-be8d-05f7b5ed1fb6');\n",
              "          const dataTable =\n",
              "            await google.colab.kernel.invokeFunction('convertToInteractive',\n",
              "                                                     [key], {});\n",
              "          if (!dataTable) return;\n",
              "\n",
              "          const docLinkHtml = 'Like what you see? Visit the ' +\n",
              "            '<a target=\"_blank\" href=https://colab.research.google.com/notebooks/data_table.ipynb>data table notebook</a>'\n",
              "            + ' to learn more about interactive tables.';\n",
              "          element.innerHTML = '';\n",
              "          dataTable['output_type'] = 'display_data';\n",
              "          await google.colab.output.renderOutput(dataTable, element);\n",
              "          const docLink = document.createElement('div');\n",
              "          docLink.innerHTML = docLinkHtml;\n",
              "          element.appendChild(docLink);\n",
              "        }\n",
              "      </script>\n",
              "    </div>\n",
              "  </div>\n",
              "  "
            ]
          },
          "metadata": {},
          "execution_count": 25
        }
      ]
    },
    {
      "cell_type": "markdown",
      "source": [
        "#### Number of unique Element IDs"
      ],
      "metadata": {
        "id": "g4GBBPOQCpyz"
      }
    },
    {
      "cell_type": "code",
      "source": [
        "len(Room_df.Dyn_ElementId.unique())"
      ],
      "metadata": {
        "colab": {
          "base_uri": "https://localhost:8080/"
        },
        "id": "o_lK8yvBCagT",
        "outputId": "dac9153b-e8c2-4523-ca33-a9bd47c5e244"
      },
      "execution_count": null,
      "outputs": [
        {
          "output_type": "execute_result",
          "data": {
            "text/plain": [
              "522"
            ]
          },
          "metadata": {},
          "execution_count": 26
        }
      ]
    },
    {
      "cell_type": "markdown",
      "metadata": {
        "id": "KMyN3wHEbT7O"
      },
      "source": [
        "### 3. Prepare the data for modelling"
      ]
    },
    {
      "cell_type": "markdown",
      "metadata": {
        "id": "Oq9zCubUbT7O"
      },
      "source": [
        "\n",
        "- F (Frequency): Number of Rooms with an ElementID\n"
      ]
    },
    {
      "cell_type": "code",
      "source": [
        "# Level\n",
        "grouped_df_Level = Room_df.groupby('Level')['Room_Number'].count()\n",
        "grouped_df_Level = grouped_df_Level.reset_index()\n",
        "grouped_df_Level"
      ],
      "metadata": {
        "colab": {
          "base_uri": "https://localhost:8080/",
          "height": 363
        },
        "id": "oD1O9kb7M4B8",
        "outputId": "c3a90b20-b4cb-427b-f855-0594b1a97623"
      },
      "execution_count": null,
      "outputs": [
        {
          "output_type": "execute_result",
          "data": {
            "text/plain": [
              "                Level  Room_Number\n",
              "0                  01           96\n",
              "1                  02          150\n",
              "2                  03           89\n",
              "3  Auditorium Balcony            5\n",
              "4                  B1          276\n",
              "5                  B2          170\n",
              "6                  B3          109\n",
              "7                  GF          163\n",
              "8            Lower GF           54\n",
              "9       Site Entrance            2"
            ],
            "text/html": [
              "\n",
              "  <div id=\"df-948011e7-f22e-472b-a018-0ed55f28792b\">\n",
              "    <div class=\"colab-df-container\">\n",
              "      <div>\n",
              "<style scoped>\n",
              "    .dataframe tbody tr th:only-of-type {\n",
              "        vertical-align: middle;\n",
              "    }\n",
              "\n",
              "    .dataframe tbody tr th {\n",
              "        vertical-align: top;\n",
              "    }\n",
              "\n",
              "    .dataframe thead th {\n",
              "        text-align: right;\n",
              "    }\n",
              "</style>\n",
              "<table border=\"1\" class=\"dataframe\">\n",
              "  <thead>\n",
              "    <tr style=\"text-align: right;\">\n",
              "      <th></th>\n",
              "      <th>Level</th>\n",
              "      <th>Room_Number</th>\n",
              "    </tr>\n",
              "  </thead>\n",
              "  <tbody>\n",
              "    <tr>\n",
              "      <th>0</th>\n",
              "      <td>01</td>\n",
              "      <td>96</td>\n",
              "    </tr>\n",
              "    <tr>\n",
              "      <th>1</th>\n",
              "      <td>02</td>\n",
              "      <td>150</td>\n",
              "    </tr>\n",
              "    <tr>\n",
              "      <th>2</th>\n",
              "      <td>03</td>\n",
              "      <td>89</td>\n",
              "    </tr>\n",
              "    <tr>\n",
              "      <th>3</th>\n",
              "      <td>Auditorium Balcony</td>\n",
              "      <td>5</td>\n",
              "    </tr>\n",
              "    <tr>\n",
              "      <th>4</th>\n",
              "      <td>B1</td>\n",
              "      <td>276</td>\n",
              "    </tr>\n",
              "    <tr>\n",
              "      <th>5</th>\n",
              "      <td>B2</td>\n",
              "      <td>170</td>\n",
              "    </tr>\n",
              "    <tr>\n",
              "      <th>6</th>\n",
              "      <td>B3</td>\n",
              "      <td>109</td>\n",
              "    </tr>\n",
              "    <tr>\n",
              "      <th>7</th>\n",
              "      <td>GF</td>\n",
              "      <td>163</td>\n",
              "    </tr>\n",
              "    <tr>\n",
              "      <th>8</th>\n",
              "      <td>Lower GF</td>\n",
              "      <td>54</td>\n",
              "    </tr>\n",
              "    <tr>\n",
              "      <th>9</th>\n",
              "      <td>Site Entrance</td>\n",
              "      <td>2</td>\n",
              "    </tr>\n",
              "  </tbody>\n",
              "</table>\n",
              "</div>\n",
              "      <button class=\"colab-df-convert\" onclick=\"convertToInteractive('df-948011e7-f22e-472b-a018-0ed55f28792b')\"\n",
              "              title=\"Convert this dataframe to an interactive table.\"\n",
              "              style=\"display:none;\">\n",
              "        \n",
              "  <svg xmlns=\"http://www.w3.org/2000/svg\" height=\"24px\"viewBox=\"0 0 24 24\"\n",
              "       width=\"24px\">\n",
              "    <path d=\"M0 0h24v24H0V0z\" fill=\"none\"/>\n",
              "    <path d=\"M18.56 5.44l.94 2.06.94-2.06 2.06-.94-2.06-.94-.94-2.06-.94 2.06-2.06.94zm-11 1L8.5 8.5l.94-2.06 2.06-.94-2.06-.94L8.5 2.5l-.94 2.06-2.06.94zm10 10l.94 2.06.94-2.06 2.06-.94-2.06-.94-.94-2.06-.94 2.06-2.06.94z\"/><path d=\"M17.41 7.96l-1.37-1.37c-.4-.4-.92-.59-1.43-.59-.52 0-1.04.2-1.43.59L10.3 9.45l-7.72 7.72c-.78.78-.78 2.05 0 2.83L4 21.41c.39.39.9.59 1.41.59.51 0 1.02-.2 1.41-.59l7.78-7.78 2.81-2.81c.8-.78.8-2.07 0-2.86zM5.41 20L4 18.59l7.72-7.72 1.47 1.35L5.41 20z\"/>\n",
              "  </svg>\n",
              "      </button>\n",
              "      \n",
              "  <style>\n",
              "    .colab-df-container {\n",
              "      display:flex;\n",
              "      flex-wrap:wrap;\n",
              "      gap: 12px;\n",
              "    }\n",
              "\n",
              "    .colab-df-convert {\n",
              "      background-color: #E8F0FE;\n",
              "      border: none;\n",
              "      border-radius: 50%;\n",
              "      cursor: pointer;\n",
              "      display: none;\n",
              "      fill: #1967D2;\n",
              "      height: 32px;\n",
              "      padding: 0 0 0 0;\n",
              "      width: 32px;\n",
              "    }\n",
              "\n",
              "    .colab-df-convert:hover {\n",
              "      background-color: #E2EBFA;\n",
              "      box-shadow: 0px 1px 2px rgba(60, 64, 67, 0.3), 0px 1px 3px 1px rgba(60, 64, 67, 0.15);\n",
              "      fill: #174EA6;\n",
              "    }\n",
              "\n",
              "    [theme=dark] .colab-df-convert {\n",
              "      background-color: #3B4455;\n",
              "      fill: #D2E3FC;\n",
              "    }\n",
              "\n",
              "    [theme=dark] .colab-df-convert:hover {\n",
              "      background-color: #434B5C;\n",
              "      box-shadow: 0px 1px 3px 1px rgba(0, 0, 0, 0.15);\n",
              "      filter: drop-shadow(0px 1px 2px rgba(0, 0, 0, 0.3));\n",
              "      fill: #FFFFFF;\n",
              "    }\n",
              "  </style>\n",
              "\n",
              "      <script>\n",
              "        const buttonEl =\n",
              "          document.querySelector('#df-948011e7-f22e-472b-a018-0ed55f28792b button.colab-df-convert');\n",
              "        buttonEl.style.display =\n",
              "          google.colab.kernel.accessAllowed ? 'block' : 'none';\n",
              "\n",
              "        async function convertToInteractive(key) {\n",
              "          const element = document.querySelector('#df-948011e7-f22e-472b-a018-0ed55f28792b');\n",
              "          const dataTable =\n",
              "            await google.colab.kernel.invokeFunction('convertToInteractive',\n",
              "                                                     [key], {});\n",
              "          if (!dataTable) return;\n",
              "\n",
              "          const docLinkHtml = 'Like what you see? Visit the ' +\n",
              "            '<a target=\"_blank\" href=https://colab.research.google.com/notebooks/data_table.ipynb>data table notebook</a>'\n",
              "            + ' to learn more about interactive tables.';\n",
              "          element.innerHTML = '';\n",
              "          dataTable['output_type'] = 'display_data';\n",
              "          await google.colab.output.renderOutput(dataTable, element);\n",
              "          const docLink = document.createElement('div');\n",
              "          docLink.innerHTML = docLinkHtml;\n",
              "          element.appendChild(docLink);\n",
              "        }\n",
              "      </script>\n",
              "    </div>\n",
              "  </div>\n",
              "  "
            ]
          },
          "metadata": {},
          "execution_count": 28
        }
      ]
    },
    {
      "cell_type": "code",
      "source": [
        "df_GF = Room_df[Room_df.Level=='GF']\n",
        "df_GF.info()"
      ],
      "metadata": {
        "colab": {
          "base_uri": "https://localhost:8080/"
        },
        "id": "dz-V7d4UN0_j",
        "outputId": "3fb1c81c-95d2-46e5-c2b3-04855d69b5e5"
      },
      "execution_count": null,
      "outputs": [
        {
          "output_type": "stream",
          "name": "stdout",
          "text": [
            "<class 'pandas.core.frame.DataFrame'>\n",
            "Int64Index: 143 entries, 0 to 1317\n",
            "Data columns (total 21 columns):\n",
            " #   Column          Non-Null Count  Dtype  \n",
            "---  ------          --------------  -----  \n",
            " 0   X               143 non-null    float64\n",
            " 1   Y               143 non-null    float64\n",
            " 2   Z               143 non-null    float64\n",
            " 3   Room_Number     143 non-null    object \n",
            " 4   Room_Name       143 non-null    object \n",
            " 5   Level_Id        143 non-null    int64  \n",
            " 6   Department      143 non-null    object \n",
            " 7   Workset         143 non-null    object \n",
            " 8   Room_Number2    143 non-null    object \n",
            " 9   Room_Name2      143 non-null    object \n",
            " 10  Level           143 non-null    object \n",
            " 11  Upper_Limit     143 non-null    object \n",
            " 12  Limit_Offset    143 non-null    object \n",
            " 13  UnboundHeight   143 non-null    object \n",
            " 14  Department2     143 non-null    object \n",
            " 15  Dyn_ElementId   143 non-null    object \n",
            " 16  Dyn_FuncZone    143 non-null    object \n",
            " 17  Dyn_FuncZn_Abb  143 non-null    object \n",
            " 18  Element ID      143 non-null    object \n",
            " 19  DesignOption    143 non-null    object \n",
            " 20  CompHt          143 non-null    object \n",
            "dtypes: float64(3), int64(1), object(17)\n",
            "memory usage: 24.6+ KB\n"
          ]
        }
      ]
    },
    {
      "cell_type": "code",
      "source": [
        "# Level\n",
        "grouped_df_LeveliD = Room_df.groupby('Level_Id')['Room_Number'].count()\n",
        "grouped_df_LeveliD = grouped_df_LeveliD.reset_index()\n",
        "grouped_df_LeveliD"
      ],
      "metadata": {
        "colab": {
          "base_uri": "https://localhost:8080/",
          "height": 363
        },
        "id": "2BHIGAEGNaoK",
        "outputId": "6192960c-fab6-48e6-c211-dbdf9195a1a9"
      },
      "execution_count": null,
      "outputs": [
        {
          "output_type": "execute_result",
          "data": {
            "text/html": [
              "<div>\n",
              "<style scoped>\n",
              "    .dataframe tbody tr th:only-of-type {\n",
              "        vertical-align: middle;\n",
              "    }\n",
              "\n",
              "    .dataframe tbody tr th {\n",
              "        vertical-align: top;\n",
              "    }\n",
              "\n",
              "    .dataframe thead th {\n",
              "        text-align: right;\n",
              "    }\n",
              "</style>\n",
              "<table border=\"1\" class=\"dataframe\">\n",
              "  <thead>\n",
              "    <tr style=\"text-align: right;\">\n",
              "      <th></th>\n",
              "      <th>Level_Id</th>\n",
              "      <th>Room_Number</th>\n",
              "    </tr>\n",
              "  </thead>\n",
              "  <tbody>\n",
              "    <tr>\n",
              "      <th>0</th>\n",
              "      <td>311</td>\n",
              "      <td>143</td>\n",
              "    </tr>\n",
              "    <tr>\n",
              "      <th>1</th>\n",
              "      <td>694</td>\n",
              "      <td>150</td>\n",
              "    </tr>\n",
              "    <tr>\n",
              "      <th>2</th>\n",
              "      <td>419525</td>\n",
              "      <td>276</td>\n",
              "    </tr>\n",
              "    <tr>\n",
              "      <th>3</th>\n",
              "      <td>969509</td>\n",
              "      <td>96</td>\n",
              "    </tr>\n",
              "    <tr>\n",
              "      <th>4</th>\n",
              "      <td>969879</td>\n",
              "      <td>89</td>\n",
              "    </tr>\n",
              "    <tr>\n",
              "      <th>5</th>\n",
              "      <td>970236</td>\n",
              "      <td>170</td>\n",
              "    </tr>\n",
              "    <tr>\n",
              "      <th>6</th>\n",
              "      <td>1162183</td>\n",
              "      <td>2</td>\n",
              "    </tr>\n",
              "    <tr>\n",
              "      <th>7</th>\n",
              "      <td>1404832</td>\n",
              "      <td>54</td>\n",
              "    </tr>\n",
              "    <tr>\n",
              "      <th>8</th>\n",
              "      <td>2293118</td>\n",
              "      <td>5</td>\n",
              "    </tr>\n",
              "    <tr>\n",
              "      <th>9</th>\n",
              "      <td>3805556</td>\n",
              "      <td>109</td>\n",
              "    </tr>\n",
              "  </tbody>\n",
              "</table>\n",
              "</div>"
            ],
            "text/plain": [
              "   Level_Id  Room_Number\n",
              "0       311          143\n",
              "1       694          150\n",
              "2    419525          276\n",
              "3    969509           96\n",
              "4    969879           89\n",
              "5    970236          170\n",
              "6   1162183            2\n",
              "7   1404832           54\n",
              "8   2293118            5\n",
              "9   3805556          109"
            ]
          },
          "metadata": {},
          "execution_count": 21
        }
      ]
    },
    {
      "cell_type": "code",
      "metadata": {
        "id": "PV29pPsNbT7O",
        "outputId": "c4dd7dda-0a38-4c20-88b8-89757a4b6183",
        "colab": {
          "base_uri": "https://localhost:8080/",
          "height": 363
        }
      },
      "source": [
        "# Z\n",
        "grouped_df_Z = Room_df.groupby('Z')['Dyn_ElementId'].count()\n",
        "grouped_df_Z = grouped_df_Z.reset_index()\n",
        "grouped_df_Z"
      ],
      "execution_count": null,
      "outputs": [
        {
          "output_type": "execute_result",
          "data": {
            "text/html": [
              "<div>\n",
              "<style scoped>\n",
              "    .dataframe tbody tr th:only-of-type {\n",
              "        vertical-align: middle;\n",
              "    }\n",
              "\n",
              "    .dataframe tbody tr th {\n",
              "        vertical-align: top;\n",
              "    }\n",
              "\n",
              "    .dataframe thead th {\n",
              "        text-align: right;\n",
              "    }\n",
              "</style>\n",
              "<table border=\"1\" class=\"dataframe\">\n",
              "  <thead>\n",
              "    <tr style=\"text-align: right;\">\n",
              "      <th></th>\n",
              "      <th>Z</th>\n",
              "      <th>Dyn_ElementId</th>\n",
              "    </tr>\n",
              "  </thead>\n",
              "  <tbody>\n",
              "    <tr>\n",
              "      <th>0</th>\n",
              "      <td>223700.0</td>\n",
              "      <td>109</td>\n",
              "    </tr>\n",
              "    <tr>\n",
              "      <th>1</th>\n",
              "      <td>227700.0</td>\n",
              "      <td>170</td>\n",
              "    </tr>\n",
              "    <tr>\n",
              "      <th>2</th>\n",
              "      <td>234600.0</td>\n",
              "      <td>276</td>\n",
              "    </tr>\n",
              "    <tr>\n",
              "      <th>3</th>\n",
              "      <td>238000.0</td>\n",
              "      <td>54</td>\n",
              "    </tr>\n",
              "    <tr>\n",
              "      <th>4</th>\n",
              "      <td>240000.0</td>\n",
              "      <td>2</td>\n",
              "    </tr>\n",
              "    <tr>\n",
              "      <th>5</th>\n",
              "      <td>241100.0</td>\n",
              "      <td>143</td>\n",
              "    </tr>\n",
              "    <tr>\n",
              "      <th>6</th>\n",
              "      <td>244050.0</td>\n",
              "      <td>5</td>\n",
              "    </tr>\n",
              "    <tr>\n",
              "      <th>7</th>\n",
              "      <td>245475.0</td>\n",
              "      <td>96</td>\n",
              "    </tr>\n",
              "    <tr>\n",
              "      <th>8</th>\n",
              "      <td>249850.0</td>\n",
              "      <td>150</td>\n",
              "    </tr>\n",
              "    <tr>\n",
              "      <th>9</th>\n",
              "      <td>254225.0</td>\n",
              "      <td>89</td>\n",
              "    </tr>\n",
              "  </tbody>\n",
              "</table>\n",
              "</div>"
            ],
            "text/plain": [
              "          Z  Dyn_ElementId\n",
              "0  223700.0            109\n",
              "1  227700.0            170\n",
              "2  234600.0            276\n",
              "3  238000.0             54\n",
              "4  240000.0              2\n",
              "5  241100.0            143\n",
              "6  244050.0              5\n",
              "7  245475.0             96\n",
              "8  249850.0            150\n",
              "9  254225.0             89"
            ]
          },
          "metadata": {},
          "execution_count": 22
        }
      ]
    },
    {
      "cell_type": "code",
      "source": [
        "grouped_df_Z.info()"
      ],
      "metadata": {
        "colab": {
          "base_uri": "https://localhost:8080/"
        },
        "id": "qa-NCUb__bAU",
        "outputId": "2f65711d-ccc8-456c-f7fe-29898e67bf11"
      },
      "execution_count": null,
      "outputs": [
        {
          "output_type": "stream",
          "name": "stdout",
          "text": [
            "<class 'pandas.core.frame.DataFrame'>\n",
            "RangeIndex: 10 entries, 0 to 9\n",
            "Data columns (total 2 columns):\n",
            " #   Column         Non-Null Count  Dtype  \n",
            "---  ------         --------------  -----  \n",
            " 0   Z              10 non-null     float64\n",
            " 1   Dyn_ElementId  10 non-null     int64  \n",
            "dtypes: float64(1), int64(1)\n",
            "memory usage: 288.0 bytes\n"
          ]
        }
      ]
    },
    {
      "cell_type": "code",
      "source": [
        "grouped_df_X = Room_df.groupby('X')['Dyn_ElementId'].count()\n",
        "grouped_df_X = grouped_df_X.reset_index()\n",
        "grouped_df_X.info()"
      ],
      "metadata": {
        "colab": {
          "base_uri": "https://localhost:8080/"
        },
        "id": "qAKPbBMS-ctz",
        "outputId": "ec0be835-3e52-4d68-9ff1-a57a32bbdbc8"
      },
      "execution_count": null,
      "outputs": [
        {
          "output_type": "stream",
          "name": "stdout",
          "text": [
            "<class 'pandas.core.frame.DataFrame'>\n",
            "RangeIndex: 885 entries, 0 to 884\n",
            "Data columns (total 2 columns):\n",
            " #   Column         Non-Null Count  Dtype  \n",
            "---  ------         --------------  -----  \n",
            " 0   X              885 non-null    float64\n",
            " 1   Dyn_ElementId  885 non-null    int64  \n",
            "dtypes: float64(1), int64(1)\n",
            "memory usage: 14.0 KB\n"
          ]
        }
      ]
    },
    {
      "cell_type": "code",
      "source": [
        "grouped_df_Y = Room_df.groupby('Y')['Dyn_ElementId'].count()\n",
        "grouped_df_Y = grouped_df_Y.reset_index()\n",
        "grouped_df_Y.info()"
      ],
      "metadata": {
        "colab": {
          "base_uri": "https://localhost:8080/"
        },
        "id": "GioDOoCE-chr",
        "outputId": "0071251a-3018-43f5-e060-902bbf0f22b5"
      },
      "execution_count": null,
      "outputs": [
        {
          "output_type": "stream",
          "name": "stdout",
          "text": [
            "<class 'pandas.core.frame.DataFrame'>\n",
            "RangeIndex: 828 entries, 0 to 827\n",
            "Data columns (total 2 columns):\n",
            " #   Column         Non-Null Count  Dtype  \n",
            "---  ------         --------------  -----  \n",
            " 0   Y              828 non-null    float64\n",
            " 1   Dyn_ElementId  828 non-null    int64  \n",
            "dtypes: float64(1), int64(1)\n",
            "memory usage: 13.1 KB\n"
          ]
        }
      ]
    },
    {
      "cell_type": "code",
      "metadata": {
        "id": "SWI9amikbT7P",
        "outputId": "362754a2-23fa-407a-a977-96d13ca28467",
        "colab": {
          "base_uri": "https://localhost:8080/"
        }
      },
      "source": [
        "# frequency\n",
        "frequency = Room_df.groupby('Dyn_ElementId')['Room_Number'].count()\n",
        "frequency = frequency.reset_index()\n",
        "frequency.columns = ['Dyn_ElementId', 'frequency']\n",
        "frequency.info()"
      ],
      "execution_count": null,
      "outputs": [
        {
          "output_type": "stream",
          "name": "stdout",
          "text": [
            "<class 'pandas.core.frame.DataFrame'>\n",
            "RangeIndex: 501 entries, 0 to 500\n",
            "Data columns (total 2 columns):\n",
            " #   Column         Non-Null Count  Dtype \n",
            "---  ------         --------------  ----- \n",
            " 0   Dyn_ElementId  501 non-null    object\n",
            " 1   frequency      501 non-null    int64 \n",
            "dtypes: int64(1), object(1)\n",
            "memory usage: 8.0+ KB\n"
          ]
        }
      ]
    },
    {
      "cell_type": "code",
      "source": [
        "frequency.sort_values(by=['frequency'],ascending=False)"
      ],
      "metadata": {
        "colab": {
          "base_uri": "https://localhost:8080/",
          "height": 423
        },
        "id": "2_SVPN0E_iWi",
        "outputId": "ccbd9cad-c270-455f-affd-07fc8c471cac"
      },
      "execution_count": null,
      "outputs": [
        {
          "output_type": "execute_result",
          "data": {
            "text/html": [
              "<div>\n",
              "<style scoped>\n",
              "    .dataframe tbody tr th:only-of-type {\n",
              "        vertical-align: middle;\n",
              "    }\n",
              "\n",
              "    .dataframe tbody tr th {\n",
              "        vertical-align: top;\n",
              "    }\n",
              "\n",
              "    .dataframe thead th {\n",
              "        text-align: right;\n",
              "    }\n",
              "</style>\n",
              "<table border=\"1\" class=\"dataframe\">\n",
              "  <thead>\n",
              "    <tr style=\"text-align: right;\">\n",
              "      <th></th>\n",
              "      <th>Dyn_ElementId</th>\n",
              "      <th>frequency</th>\n",
              "    </tr>\n",
              "  </thead>\n",
              "  <tbody>\n",
              "    <tr>\n",
              "      <th>0</th>\n",
              "      <td></td>\n",
              "      <td>342</td>\n",
              "    </tr>\n",
              "    <tr>\n",
              "      <th>189</th>\n",
              "      <td>11424334</td>\n",
              "      <td>37</td>\n",
              "    </tr>\n",
              "    <tr>\n",
              "      <th>484</th>\n",
              "      <td>8702464</td>\n",
              "      <td>13</td>\n",
              "    </tr>\n",
              "    <tr>\n",
              "      <th>35</th>\n",
              "      <td>10475409</td>\n",
              "      <td>9</td>\n",
              "    </tr>\n",
              "    <tr>\n",
              "      <th>300</th>\n",
              "      <td>7010203</td>\n",
              "      <td>9</td>\n",
              "    </tr>\n",
              "    <tr>\n",
              "      <th>...</th>\n",
              "      <td>...</td>\n",
              "      <td>...</td>\n",
              "    </tr>\n",
              "    <tr>\n",
              "      <th>187</th>\n",
              "      <td>11424331</td>\n",
              "      <td>1</td>\n",
              "    </tr>\n",
              "    <tr>\n",
              "      <th>186</th>\n",
              "      <td>11412503</td>\n",
              "      <td>1</td>\n",
              "    </tr>\n",
              "    <tr>\n",
              "      <th>182</th>\n",
              "      <td>11412463</td>\n",
              "      <td>1</td>\n",
              "    </tr>\n",
              "    <tr>\n",
              "      <th>180</th>\n",
              "      <td>11408453</td>\n",
              "      <td>1</td>\n",
              "    </tr>\n",
              "    <tr>\n",
              "      <th>500</th>\n",
              "      <td>9603585</td>\n",
              "      <td>1</td>\n",
              "    </tr>\n",
              "  </tbody>\n",
              "</table>\n",
              "<p>501 rows × 2 columns</p>\n",
              "</div>"
            ],
            "text/plain": [
              "    Dyn_ElementId  frequency\n",
              "0                        342\n",
              "189      11424334         37\n",
              "484       8702464         13\n",
              "35       10475409          9\n",
              "300       7010203          9\n",
              "..            ...        ...\n",
              "187      11424331          1\n",
              "186      11412503          1\n",
              "182      11412463          1\n",
              "180      11408453          1\n",
              "500       9603585          1\n",
              "\n",
              "[501 rows x 2 columns]"
            ]
          },
          "metadata": {},
          "execution_count": 27
        }
      ]
    },
    {
      "cell_type": "code",
      "source": [
        "RoomNum_frequency = Room_df.groupby('Room_Number')['Dyn_ElementId'].count()\n",
        "RoomNum_frequency = RoomNum_frequency.reset_index()\n",
        "RoomNum_frequency.columns = ['Room_Number', 'frequency']\n",
        "RoomNum_frequency.info()"
      ],
      "metadata": {
        "colab": {
          "base_uri": "https://localhost:8080/"
        },
        "id": "gDazhXGXBfvc",
        "outputId": "4da08367-9df9-41c6-a1a8-b3653d7a7373"
      },
      "execution_count": null,
      "outputs": [
        {
          "output_type": "stream",
          "name": "stdout",
          "text": [
            "<class 'pandas.core.frame.DataFrame'>\n",
            "RangeIndex: 1006 entries, 0 to 1005\n",
            "Data columns (total 2 columns):\n",
            " #   Column       Non-Null Count  Dtype \n",
            "---  ------       --------------  ----- \n",
            " 0   Room_Number  1006 non-null   object\n",
            " 1   frequency    1006 non-null   int64 \n",
            "dtypes: int64(1), object(1)\n",
            "memory usage: 15.8+ KB\n"
          ]
        }
      ]
    },
    {
      "cell_type": "code",
      "source": [
        "RoomNum_frequency.sort_values(by=['frequency'],ascending=False)"
      ],
      "metadata": {
        "colab": {
          "base_uri": "https://localhost:8080/",
          "height": 423
        },
        "id": "Poj5ZUb_BuUU",
        "outputId": "b39c889f-a45b-4d89-972a-49d3692fe0f1"
      },
      "execution_count": null,
      "outputs": [
        {
          "output_type": "execute_result",
          "data": {
            "text/html": [
              "<div>\n",
              "<style scoped>\n",
              "    .dataframe tbody tr th:only-of-type {\n",
              "        vertical-align: middle;\n",
              "    }\n",
              "\n",
              "    .dataframe tbody tr th {\n",
              "        vertical-align: top;\n",
              "    }\n",
              "\n",
              "    .dataframe thead th {\n",
              "        text-align: right;\n",
              "    }\n",
              "</style>\n",
              "<table border=\"1\" class=\"dataframe\">\n",
              "  <thead>\n",
              "    <tr style=\"text-align: right;\">\n",
              "      <th></th>\n",
              "      <th>Room_Number</th>\n",
              "      <th>frequency</th>\n",
              "    </tr>\n",
              "  </thead>\n",
              "  <tbody>\n",
              "    <tr>\n",
              "      <th>605</th>\n",
              "      <td>3717</td>\n",
              "      <td>3</td>\n",
              "    </tr>\n",
              "    <tr>\n",
              "      <th>781</th>\n",
              "      <td>3955</td>\n",
              "      <td>3</td>\n",
              "    </tr>\n",
              "    <tr>\n",
              "      <th>693</th>\n",
              "      <td>3852</td>\n",
              "      <td>3</td>\n",
              "    </tr>\n",
              "    <tr>\n",
              "      <th>739</th>\n",
              "      <td>3904</td>\n",
              "      <td>3</td>\n",
              "    </tr>\n",
              "    <tr>\n",
              "      <th>603</th>\n",
              "      <td>3715</td>\n",
              "      <td>3</td>\n",
              "    </tr>\n",
              "    <tr>\n",
              "      <th>...</th>\n",
              "      <td>...</td>\n",
              "      <td>...</td>\n",
              "    </tr>\n",
              "    <tr>\n",
              "      <th>338</th>\n",
              "      <td>3311</td>\n",
              "      <td>1</td>\n",
              "    </tr>\n",
              "    <tr>\n",
              "      <th>339</th>\n",
              "      <td>3312</td>\n",
              "      <td>1</td>\n",
              "    </tr>\n",
              "    <tr>\n",
              "      <th>340</th>\n",
              "      <td>3314</td>\n",
              "      <td>1</td>\n",
              "    </tr>\n",
              "    <tr>\n",
              "      <th>341</th>\n",
              "      <td>3315</td>\n",
              "      <td>1</td>\n",
              "    </tr>\n",
              "    <tr>\n",
              "      <th>1005</th>\n",
              "      <td>9.LGF</td>\n",
              "      <td>1</td>\n",
              "    </tr>\n",
              "  </tbody>\n",
              "</table>\n",
              "<p>1006 rows × 2 columns</p>\n",
              "</div>"
            ],
            "text/plain": [
              "     Room_Number  frequency\n",
              "605         3717          3\n",
              "781         3955          3\n",
              "693         3852          3\n",
              "739         3904          3\n",
              "603         3715          3\n",
              "...          ...        ...\n",
              "338         3311          1\n",
              "339         3312          1\n",
              "340         3314          1\n",
              "341         3315          1\n",
              "1005       9.LGF          1\n",
              "\n",
              "[1006 rows x 2 columns]"
            ]
          },
          "metadata": {},
          "execution_count": 29
        }
      ]
    },
    {
      "cell_type": "code",
      "metadata": {
        "id": "BAcXdGqObT7P",
        "outputId": "d8a7afc8-187e-46c1-f66b-d92975bc82e1",
        "colab": {
          "base_uri": "https://localhost:8080/",
          "height": 434
        }
      },
      "source": [
        "Room_df.head()"
      ],
      "execution_count": null,
      "outputs": [
        {
          "output_type": "execute_result",
          "data": {
            "text/html": [
              "<div>\n",
              "<style scoped>\n",
              "    .dataframe tbody tr th:only-of-type {\n",
              "        vertical-align: middle;\n",
              "    }\n",
              "\n",
              "    .dataframe tbody tr th {\n",
              "        vertical-align: top;\n",
              "    }\n",
              "\n",
              "    .dataframe thead th {\n",
              "        text-align: right;\n",
              "    }\n",
              "</style>\n",
              "<table border=\"1\" class=\"dataframe\">\n",
              "  <thead>\n",
              "    <tr style=\"text-align: right;\">\n",
              "      <th></th>\n",
              "      <th>X</th>\n",
              "      <th>Y</th>\n",
              "      <th>Z</th>\n",
              "      <th>Room_Number</th>\n",
              "      <th>Room_Name</th>\n",
              "      <th>Level_Id</th>\n",
              "      <th>Department</th>\n",
              "      <th>Workset</th>\n",
              "      <th>Room_Number2</th>\n",
              "      <th>Room_Name2</th>\n",
              "      <th>Level</th>\n",
              "      <th>Upper_Limit</th>\n",
              "      <th>Limit_Offset</th>\n",
              "      <th>UnboundHeight</th>\n",
              "      <th>Department2</th>\n",
              "      <th>Dyn_ElementId</th>\n",
              "      <th>Dyn_FuncZone</th>\n",
              "      <th>Dyn_FuncZn_Abb</th>\n",
              "      <th>Element ID</th>\n",
              "      <th>DesignOption</th>\n",
              "      <th>CompHt</th>\n",
              "    </tr>\n",
              "  </thead>\n",
              "  <tbody>\n",
              "    <tr>\n",
              "      <th>0</th>\n",
              "      <td>126172.044</td>\n",
              "      <td>95910.879</td>\n",
              "      <td>241100.0</td>\n",
              "      <td>1332</td>\n",
              "      <td>TEMPORARY GALLERY 03</td>\n",
              "      <td>311</td>\n",
              "      <td>Galleries</td>\n",
              "      <td>Workset-44612</td>\n",
              "      <td>Number-1332</td>\n",
              "      <td>Name-TEMPORARY GALLERY 03</td>\n",
              "      <td>GF</td>\n",
              "      <td>Upper Limit-Level(Name=02, Elevation=250350)</td>\n",
              "      <td>Limit Offset--246.412767615</td>\n",
              "      <td>Unbounded Height-8503.58723239</td>\n",
              "      <td>Department-Galleries</td>\n",
              "      <td>5062106</td>\n",
              "      <td>Dyn_FunctionalZone_Name-TEMPORARY GALLERIES</td>\n",
              "      <td>Dyn_FunctionalZone_Abb-TG</td>\n",
              "      <td>Element ID-</td>\n",
              "      <td>1</td>\n",
              "      <td>Computation Height-150.0</td>\n",
              "    </tr>\n",
              "    <tr>\n",
              "      <th>1</th>\n",
              "      <td>111528.090</td>\n",
              "      <td>82446.875</td>\n",
              "      <td>241100.0</td>\n",
              "      <td>1340</td>\n",
              "      <td>STAIR D01</td>\n",
              "      <td>311</td>\n",
              "      <td>Circulation</td>\n",
              "      <td>Workset-44612</td>\n",
              "      <td>Number-1340</td>\n",
              "      <td>Name-STAIR D01</td>\n",
              "      <td>GF</td>\n",
              "      <td>Upper Limit-Level(Name=02, Elevation=250350)</td>\n",
              "      <td>Limit Offset-4603.89818397</td>\n",
              "      <td>Unbounded Height-13353.8981840</td>\n",
              "      <td>Department-Circulation</td>\n",
              "      <td>5062114</td>\n",
              "      <td>Dyn_FunctionalZone_Name-EXTERNAL AREAS</td>\n",
              "      <td>Dyn_FunctionalZone_Abb-EX</td>\n",
              "      <td>Element ID-</td>\n",
              "      <td>1</td>\n",
              "      <td>Computation Height-150.0</td>\n",
              "    </tr>\n",
              "    <tr>\n",
              "      <th>2</th>\n",
              "      <td>214932.044</td>\n",
              "      <td>108860.879</td>\n",
              "      <td>234600.0</td>\n",
              "      <td>1360</td>\n",
              "      <td>STAIR E02</td>\n",
              "      <td>419525</td>\n",
              "      <td>Circulation</td>\n",
              "      <td>Workset-44612</td>\n",
              "      <td>Number-1360</td>\n",
              "      <td>Name-STAIR E02</td>\n",
              "      <td>B1</td>\n",
              "      <td>Upper Limit-Level(Name=GF, Elevation=241600)</td>\n",
              "      <td>Limit Offset--1000.0</td>\n",
              "      <td>Unbounded Height-5500.00000000</td>\n",
              "      <td>Department-Circulation</td>\n",
              "      <td>5062134</td>\n",
              "      <td>Dyn_FunctionalZone_Name-RESEARCH &amp; EDUCATION, ...</td>\n",
              "      <td>Dyn_FunctionalZone_Abb-RE, RE</td>\n",
              "      <td>Element ID-</td>\n",
              "      <td>1</td>\n",
              "      <td>Computation Height-0.0</td>\n",
              "    </tr>\n",
              "    <tr>\n",
              "      <th>3</th>\n",
              "      <td>212515.348</td>\n",
              "      <td>105656.840</td>\n",
              "      <td>238000.0</td>\n",
              "      <td>1363</td>\n",
              "      <td>FIRE LOBBY</td>\n",
              "      <td>1404832</td>\n",
              "      <td>Circulation</td>\n",
              "      <td>Workset-44612</td>\n",
              "      <td>Number-1363</td>\n",
              "      <td>Name-FIRE LOBBY</td>\n",
              "      <td>Lower GF</td>\n",
              "      <td>Upper Limit-Level(Name=Lower GF, Elevation=238...</td>\n",
              "      <td>Limit Offset-2554.59805884</td>\n",
              "      <td>Unbounded Height-3254.59805884</td>\n",
              "      <td>Department-Circulation</td>\n",
              "      <td>5062137</td>\n",
              "      <td>Dyn_FunctionalZone_Name-STUDIOS</td>\n",
              "      <td>Dyn_FunctionalZone_Abb-ST</td>\n",
              "      <td>Element ID-</td>\n",
              "      <td>1</td>\n",
              "      <td>Computation Height-0.0</td>\n",
              "    </tr>\n",
              "    <tr>\n",
              "      <th>4</th>\n",
              "      <td>94932.044</td>\n",
              "      <td>80635.879</td>\n",
              "      <td>241100.0</td>\n",
              "      <td>1371</td>\n",
              "      <td>VESTIBULE</td>\n",
              "      <td>311</td>\n",
              "      <td>Circulation</td>\n",
              "      <td>Workset-44612</td>\n",
              "      <td>Number-1371</td>\n",
              "      <td>Name-VESTIBULE</td>\n",
              "      <td>GF</td>\n",
              "      <td>Upper Limit-Level(Name=GF, Elevation=241600)</td>\n",
              "      <td>Limit Offset-4246.21202518</td>\n",
              "      <td>Unbounded Height-4246.21202518</td>\n",
              "      <td>Department-Circulation</td>\n",
              "      <td>5062145</td>\n",
              "      <td>Dyn_FunctionalZone_Name-TEMPORARY GALLERIES</td>\n",
              "      <td>Dyn_FunctionalZone_Abb-TG</td>\n",
              "      <td>Element ID-</td>\n",
              "      <td>1</td>\n",
              "      <td>Computation Height-150.0</td>\n",
              "    </tr>\n",
              "  </tbody>\n",
              "</table>\n",
              "</div>"
            ],
            "text/plain": [
              "            X           Y  ...  DesignOption                    CompHt\n",
              "0  126172.044   95910.879  ...             1  Computation Height-150.0\n",
              "1  111528.090   82446.875  ...             1  Computation Height-150.0\n",
              "2  214932.044  108860.879  ...             1    Computation Height-0.0\n",
              "3  212515.348  105656.840  ...             1    Computation Height-0.0\n",
              "4   94932.044   80635.879  ...             1  Computation Height-150.0\n",
              "\n",
              "[5 rows x 21 columns]"
            ]
          },
          "metadata": {},
          "execution_count": 30
        }
      ]
    },
    {
      "cell_type": "code",
      "metadata": {
        "id": "LJxb1nLjbT7S",
        "outputId": "e4ff4a93-1fe3-4e84-f10c-c6a4a2c93f15",
        "colab": {
          "base_uri": "https://localhost:8080/",
          "height": 404
        }
      },
      "source": [
        "# 1. outlier treatment\n",
        "plt.boxplot(Room_df['X'])"
      ],
      "execution_count": null,
      "outputs": [
        {
          "output_type": "execute_result",
          "data": {
            "text/plain": [
              "{'boxes': [<matplotlib.lines.Line2D at 0x7f4893e1a050>],\n",
              " 'caps': [<matplotlib.lines.Line2D at 0x7f4893e12890>,\n",
              "  <matplotlib.lines.Line2D at 0x7f4893e05f90>],\n",
              " 'fliers': [<matplotlib.lines.Line2D at 0x7f4893dfbed0>],\n",
              " 'means': [],\n",
              " 'medians': [<matplotlib.lines.Line2D at 0x7f4893e05690>],\n",
              " 'whiskers': [<matplotlib.lines.Line2D at 0x7f4893e1e890>,\n",
              "  <matplotlib.lines.Line2D at 0x7f4893e12f90>]}"
            ]
          },
          "metadata": {},
          "execution_count": 31
        },
        {
          "output_type": "display_data",
          "data": {
            "image/png": "[encoded data removed]",
            "text/plain": [
              "<Figure size 432x288 with 1 Axes>"
            ]
          },
          "metadata": {
            "needs_background": "light"
          }
        }
      ]
    },
    {
      "cell_type": "code",
      "source": [
        "df_Room=Room_df[['Room_Number','X','Y','Z','Level']]\n",
        "df_Room\n"
      ],
      "metadata": {
        "colab": {
          "base_uri": "https://localhost:8080/",
          "height": 423
        },
        "id": "v0EFhQ0eFFQL",
        "outputId": "72861f12-9bd1-41ab-b983-8a81c6a9609e"
      },
      "execution_count": null,
      "outputs": [
        {
          "output_type": "execute_result",
          "data": {
            "text/html": [
              "<div>\n",
              "<style scoped>\n",
              "    .dataframe tbody tr th:only-of-type {\n",
              "        vertical-align: middle;\n",
              "    }\n",
              "\n",
              "    .dataframe tbody tr th {\n",
              "        vertical-align: top;\n",
              "    }\n",
              "\n",
              "    .dataframe thead th {\n",
              "        text-align: right;\n",
              "    }\n",
              "</style>\n",
              "<table border=\"1\" class=\"dataframe\">\n",
              "  <thead>\n",
              "    <tr style=\"text-align: right;\">\n",
              "      <th></th>\n",
              "      <th>Room_Number</th>\n",
              "      <th>X</th>\n",
              "      <th>Y</th>\n",
              "      <th>Z</th>\n",
              "      <th>Level</th>\n",
              "    </tr>\n",
              "  </thead>\n",
              "  <tbody>\n",
              "    <tr>\n",
              "      <th>0</th>\n",
              "      <td>1332</td>\n",
              "      <td>126172.044</td>\n",
              "      <td>95910.879</td>\n",
              "      <td>241100.0</td>\n",
              "      <td>GF</td>\n",
              "    </tr>\n",
              "    <tr>\n",
              "      <th>1</th>\n",
              "      <td>1340</td>\n",
              "      <td>111528.090</td>\n",
              "      <td>82446.875</td>\n",
              "      <td>241100.0</td>\n",
              "      <td>GF</td>\n",
              "    </tr>\n",
              "    <tr>\n",
              "      <th>2</th>\n",
              "      <td>1360</td>\n",
              "      <td>214932.044</td>\n",
              "      <td>108860.879</td>\n",
              "      <td>234600.0</td>\n",
              "      <td>B1</td>\n",
              "    </tr>\n",
              "    <tr>\n",
              "      <th>3</th>\n",
              "      <td>1363</td>\n",
              "      <td>212515.348</td>\n",
              "      <td>105656.840</td>\n",
              "      <td>238000.0</td>\n",
              "      <td>Lower GF</td>\n",
              "    </tr>\n",
              "    <tr>\n",
              "      <th>4</th>\n",
              "      <td>1371</td>\n",
              "      <td>94932.044</td>\n",
              "      <td>80635.879</td>\n",
              "      <td>241100.0</td>\n",
              "      <td>GF</td>\n",
              "    </tr>\n",
              "    <tr>\n",
              "      <th>...</th>\n",
              "      <td>...</td>\n",
              "      <td>...</td>\n",
              "      <td>...</td>\n",
              "      <td>...</td>\n",
              "      <td>...</td>\n",
              "    </tr>\n",
              "    <tr>\n",
              "      <th>1317</th>\n",
              "      <td>4122</td>\n",
              "      <td>48923.374</td>\n",
              "      <td>38847.220</td>\n",
              "      <td>241100.0</td>\n",
              "      <td>GF</td>\n",
              "    </tr>\n",
              "    <tr>\n",
              "      <th>1318</th>\n",
              "      <td>4123</td>\n",
              "      <td>81963.483</td>\n",
              "      <td>77002.285</td>\n",
              "      <td>227700.0</td>\n",
              "      <td>B2</td>\n",
              "    </tr>\n",
              "    <tr>\n",
              "      <th>1319</th>\n",
              "      <td>4124</td>\n",
              "      <td>102877.235</td>\n",
              "      <td>50780.087</td>\n",
              "      <td>227700.0</td>\n",
              "      <td>B2</td>\n",
              "    </tr>\n",
              "    <tr>\n",
              "      <th>1320</th>\n",
              "      <td>4125</td>\n",
              "      <td>105208.885</td>\n",
              "      <td>71535.241</td>\n",
              "      <td>245475.0</td>\n",
              "      <td>01</td>\n",
              "    </tr>\n",
              "    <tr>\n",
              "      <th>1321</th>\n",
              "      <td>4126</td>\n",
              "      <td>102977.946</td>\n",
              "      <td>51153.038</td>\n",
              "      <td>245475.0</td>\n",
              "      <td>01</td>\n",
              "    </tr>\n",
              "  </tbody>\n",
              "</table>\n",
              "<p>1094 rows × 5 columns</p>\n",
              "</div>"
            ],
            "text/plain": [
              "     Room_Number           X           Y         Z     Level\n",
              "0           1332  126172.044   95910.879  241100.0        GF\n",
              "1           1340  111528.090   82446.875  241100.0        GF\n",
              "2           1360  214932.044  108860.879  234600.0        B1\n",
              "3           1363  212515.348  105656.840  238000.0  Lower GF\n",
              "4           1371   94932.044   80635.879  241100.0        GF\n",
              "...          ...         ...         ...       ...       ...\n",
              "1317        4122   48923.374   38847.220  241100.0        GF\n",
              "1318        4123   81963.483   77002.285  227700.0        B2\n",
              "1319        4124  102877.235   50780.087  227700.0        B2\n",
              "1320        4125  105208.885   71535.241  245475.0        01\n",
              "1321        4126  102977.946   51153.038  245475.0        01\n",
              "\n",
              "[1094 rows x 5 columns]"
            ]
          },
          "metadata": {},
          "execution_count": 32
        }
      ]
    },
    {
      "cell_type": "code",
      "source": [
        "df_Room.Room_Number.astype(\"string\")"
      ],
      "metadata": {
        "colab": {
          "base_uri": "https://localhost:8080/"
        },
        "id": "p4lwIl5eIZzO",
        "outputId": "c9cdcb0f-daba-44a5-bdb7-ea7a19b45c7a"
      },
      "execution_count": null,
      "outputs": [
        {
          "output_type": "execute_result",
          "data": {
            "text/plain": [
              "0       1332\n",
              "1       1340\n",
              "2       1360\n",
              "3       1363\n",
              "4       1371\n",
              "        ... \n",
              "1317    4122\n",
              "1318    4123\n",
              "1319    4124\n",
              "1320    4125\n",
              "1321    4126\n",
              "Name: Room_Number, Length: 1094, dtype: string"
            ]
          },
          "metadata": {},
          "execution_count": 33
        }
      ]
    },
    {
      "cell_type": "code",
      "source": [
        "df_Room.Room_Number = df_Room.Room_Number.astype(\"string\")\n",
        "df_Room"
      ],
      "metadata": {
        "colab": {
          "base_uri": "https://localhost:8080/",
          "height": 528
        },
        "id": "_n7vwFxgGc7i",
        "outputId": "12b2d276-20ce-4235-e4f2-28ec11ab9d87"
      },
      "execution_count": null,
      "outputs": [
        {
          "output_type": "stream",
          "name": "stderr",
          "text": [
            "/usr/local/lib/python3.7/dist-packages/pandas/core/generic.py:5170: SettingWithCopyWarning: \n",
            "A value is trying to be set on a copy of a slice from a DataFrame.\n",
            "Try using .loc[row_indexer,col_indexer] = value instead\n",
            "\n",
            "See the caveats in the documentation: https://pandas.pydata.org/pandas-docs/stable/user_guide/indexing.html#returning-a-view-versus-a-copy\n",
            "  self[name] = value\n"
          ]
        },
        {
          "output_type": "execute_result",
          "data": {
            "text/html": [
              "<div>\n",
              "<style scoped>\n",
              "    .dataframe tbody tr th:only-of-type {\n",
              "        vertical-align: middle;\n",
              "    }\n",
              "\n",
              "    .dataframe tbody tr th {\n",
              "        vertical-align: top;\n",
              "    }\n",
              "\n",
              "    .dataframe thead th {\n",
              "        text-align: right;\n",
              "    }\n",
              "</style>\n",
              "<table border=\"1\" class=\"dataframe\">\n",
              "  <thead>\n",
              "    <tr style=\"text-align: right;\">\n",
              "      <th></th>\n",
              "      <th>Room_Number</th>\n",
              "      <th>X</th>\n",
              "      <th>Y</th>\n",
              "      <th>Z</th>\n",
              "      <th>Level</th>\n",
              "    </tr>\n",
              "  </thead>\n",
              "  <tbody>\n",
              "    <tr>\n",
              "      <th>0</th>\n",
              "      <td>1332</td>\n",
              "      <td>126172.044</td>\n",
              "      <td>95910.879</td>\n",
              "      <td>241100.0</td>\n",
              "      <td>GF</td>\n",
              "    </tr>\n",
              "    <tr>\n",
              "      <th>1</th>\n",
              "      <td>1340</td>\n",
              "      <td>111528.090</td>\n",
              "      <td>82446.875</td>\n",
              "      <td>241100.0</td>\n",
              "      <td>GF</td>\n",
              "    </tr>\n",
              "    <tr>\n",
              "      <th>2</th>\n",
              "      <td>1360</td>\n",
              "      <td>214932.044</td>\n",
              "      <td>108860.879</td>\n",
              "      <td>234600.0</td>\n",
              "      <td>B1</td>\n",
              "    </tr>\n",
              "    <tr>\n",
              "      <th>3</th>\n",
              "      <td>1363</td>\n",
              "      <td>212515.348</td>\n",
              "      <td>105656.840</td>\n",
              "      <td>238000.0</td>\n",
              "      <td>Lower GF</td>\n",
              "    </tr>\n",
              "    <tr>\n",
              "      <th>4</th>\n",
              "      <td>1371</td>\n",
              "      <td>94932.044</td>\n",
              "      <td>80635.879</td>\n",
              "      <td>241100.0</td>\n",
              "      <td>GF</td>\n",
              "    </tr>\n",
              "    <tr>\n",
              "      <th>...</th>\n",
              "      <td>...</td>\n",
              "      <td>...</td>\n",
              "      <td>...</td>\n",
              "      <td>...</td>\n",
              "      <td>...</td>\n",
              "    </tr>\n",
              "    <tr>\n",
              "      <th>1317</th>\n",
              "      <td>4122</td>\n",
              "      <td>48923.374</td>\n",
              "      <td>38847.220</td>\n",
              "      <td>241100.0</td>\n",
              "      <td>GF</td>\n",
              "    </tr>\n",
              "    <tr>\n",
              "      <th>1318</th>\n",
              "      <td>4123</td>\n",
              "      <td>81963.483</td>\n",
              "      <td>77002.285</td>\n",
              "      <td>227700.0</td>\n",
              "      <td>B2</td>\n",
              "    </tr>\n",
              "    <tr>\n",
              "      <th>1319</th>\n",
              "      <td>4124</td>\n",
              "      <td>102877.235</td>\n",
              "      <td>50780.087</td>\n",
              "      <td>227700.0</td>\n",
              "      <td>B2</td>\n",
              "    </tr>\n",
              "    <tr>\n",
              "      <th>1320</th>\n",
              "      <td>4125</td>\n",
              "      <td>105208.885</td>\n",
              "      <td>71535.241</td>\n",
              "      <td>245475.0</td>\n",
              "      <td>01</td>\n",
              "    </tr>\n",
              "    <tr>\n",
              "      <th>1321</th>\n",
              "      <td>4126</td>\n",
              "      <td>102977.946</td>\n",
              "      <td>51153.038</td>\n",
              "      <td>245475.0</td>\n",
              "      <td>01</td>\n",
              "    </tr>\n",
              "  </tbody>\n",
              "</table>\n",
              "<p>1094 rows × 5 columns</p>\n",
              "</div>"
            ],
            "text/plain": [
              "     Room_Number           X           Y         Z     Level\n",
              "0           1332  126172.044   95910.879  241100.0        GF\n",
              "1           1340  111528.090   82446.875  241100.0        GF\n",
              "2           1360  214932.044  108860.879  234600.0        B1\n",
              "3           1363  212515.348  105656.840  238000.0  Lower GF\n",
              "4           1371   94932.044   80635.879  241100.0        GF\n",
              "...          ...         ...         ...       ...       ...\n",
              "1317        4122   48923.374   38847.220  241100.0        GF\n",
              "1318        4123   81963.483   77002.285  227700.0        B2\n",
              "1319        4124  102877.235   50780.087  227700.0        B2\n",
              "1320        4125  105208.885   71535.241  245475.0        01\n",
              "1321        4126  102977.946   51153.038  245475.0        01\n",
              "\n",
              "[1094 rows x 5 columns]"
            ]
          },
          "metadata": {},
          "execution_count": 34
        }
      ]
    },
    {
      "cell_type": "code",
      "source": [
        "# 2. rescaling\n",
        "df = df_Room[['X','Y','Z']]\n",
        "\n",
        "# instantiate\n",
        "scaler = StandardScaler()\n",
        "\n",
        "# fit_transform\n",
        "df_scaled = scaler.fit_transform(df)\n",
        "df_scaled.shape"
      ],
      "metadata": {
        "colab": {
          "base_uri": "https://localhost:8080/"
        },
        "id": "qf_8IgDGGUBN",
        "outputId": "a6b379ce-c33c-4ac8-8cfa-f36a515281c3"
      },
      "execution_count": null,
      "outputs": [
        {
          "output_type": "execute_result",
          "data": {
            "text/plain": [
              "(1094, 3)"
            ]
          },
          "metadata": {},
          "execution_count": 35
        }
      ]
    },
    {
      "cell_type": "code",
      "source": [
        "df_scaled = pd.DataFrame(df_scaled)\n",
        "df_scaled.columns = ['X','Y','Z']\n",
        "df_scaled.insert(0,'RoomNum',df_Room.Room_Number)\n",
        "df_scaled.insert(4,'Level',df_Room.Level)\n",
        "df_scaled.head()"
      ],
      "metadata": {
        "colab": {
          "base_uri": "https://localhost:8080/",
          "height": 206
        },
        "id": "HgcqXKTFHlui",
        "outputId": "54fdf9bd-24f4-4360-cbb4-0900f70cb85e"
      },
      "execution_count": null,
      "outputs": [
        {
          "output_type": "execute_result",
          "data": {
            "text/html": [
              "<div>\n",
              "<style scoped>\n",
              "    .dataframe tbody tr th:only-of-type {\n",
              "        vertical-align: middle;\n",
              "    }\n",
              "\n",
              "    .dataframe tbody tr th {\n",
              "        vertical-align: top;\n",
              "    }\n",
              "\n",
              "    .dataframe thead th {\n",
              "        text-align: right;\n",
              "    }\n",
              "</style>\n",
              "<table border=\"1\" class=\"dataframe\">\n",
              "  <thead>\n",
              "    <tr style=\"text-align: right;\">\n",
              "      <th></th>\n",
              "      <th>RoomNum</th>\n",
              "      <th>X</th>\n",
              "      <th>Y</th>\n",
              "      <th>Z</th>\n",
              "      <th>Level</th>\n",
              "    </tr>\n",
              "  </thead>\n",
              "  <tbody>\n",
              "    <tr>\n",
              "      <th>0</th>\n",
              "      <td>1332</td>\n",
              "      <td>-0.257665</td>\n",
              "      <td>0.350687</td>\n",
              "      <td>0.316278</td>\n",
              "      <td>GF</td>\n",
              "    </tr>\n",
              "    <tr>\n",
              "      <th>1</th>\n",
              "      <td>1340</td>\n",
              "      <td>-0.482206</td>\n",
              "      <td>0.215106</td>\n",
              "      <td>0.316278</td>\n",
              "      <td>GF</td>\n",
              "    </tr>\n",
              "    <tr>\n",
              "      <th>2</th>\n",
              "      <td>1360</td>\n",
              "      <td>1.103326</td>\n",
              "      <td>0.481092</td>\n",
              "      <td>-0.381574</td>\n",
              "      <td>B1</td>\n",
              "    </tr>\n",
              "    <tr>\n",
              "      <th>3</th>\n",
              "      <td>1363</td>\n",
              "      <td>1.066270</td>\n",
              "      <td>0.448828</td>\n",
              "      <td>-0.016543</td>\n",
              "      <td>Lower GF</td>\n",
              "    </tr>\n",
              "    <tr>\n",
              "      <th>4</th>\n",
              "      <td>1371</td>\n",
              "      <td>-0.736680</td>\n",
              "      <td>0.196870</td>\n",
              "      <td>0.316278</td>\n",
              "      <td>GF</td>\n",
              "    </tr>\n",
              "  </tbody>\n",
              "</table>\n",
              "</div>"
            ],
            "text/plain": [
              "  RoomNum         X         Y         Z     Level\n",
              "0    1332 -0.257665  0.350687  0.316278        GF\n",
              "1    1340 -0.482206  0.215106  0.316278        GF\n",
              "2    1360  1.103326  0.481092 -0.381574        B1\n",
              "3    1363  1.066270  0.448828 -0.016543  Lower GF\n",
              "4    1371 -0.736680  0.196870  0.316278        GF"
            ]
          },
          "metadata": {},
          "execution_count": 36
        }
      ]
    },
    {
      "cell_type": "code",
      "source": [
        "df_scaled_GF = df_scaled[df_scaled.Level == 'GF']\n",
        "df_scaled_GF"
      ],
      "metadata": {
        "colab": {
          "base_uri": "https://localhost:8080/",
          "height": 423
        },
        "id": "GkmLnAO4Osf0",
        "outputId": "2b5fefa8-4585-46ae-94c7-614135616114"
      },
      "execution_count": null,
      "outputs": [
        {
          "output_type": "execute_result",
          "data": {
            "text/html": [
              "<div>\n",
              "<style scoped>\n",
              "    .dataframe tbody tr th:only-of-type {\n",
              "        vertical-align: middle;\n",
              "    }\n",
              "\n",
              "    .dataframe tbody tr th {\n",
              "        vertical-align: top;\n",
              "    }\n",
              "\n",
              "    .dataframe thead th {\n",
              "        text-align: right;\n",
              "    }\n",
              "</style>\n",
              "<table border=\"1\" class=\"dataframe\">\n",
              "  <thead>\n",
              "    <tr style=\"text-align: right;\">\n",
              "      <th></th>\n",
              "      <th>RoomNum</th>\n",
              "      <th>X</th>\n",
              "      <th>Y</th>\n",
              "      <th>Z</th>\n",
              "      <th>Level</th>\n",
              "    </tr>\n",
              "  </thead>\n",
              "  <tbody>\n",
              "    <tr>\n",
              "      <th>0</th>\n",
              "      <td>1332</td>\n",
              "      <td>-0.257665</td>\n",
              "      <td>0.350687</td>\n",
              "      <td>0.316278</td>\n",
              "      <td>GF</td>\n",
              "    </tr>\n",
              "    <tr>\n",
              "      <th>1</th>\n",
              "      <td>1340</td>\n",
              "      <td>-0.482206</td>\n",
              "      <td>0.215106</td>\n",
              "      <td>0.316278</td>\n",
              "      <td>GF</td>\n",
              "    </tr>\n",
              "    <tr>\n",
              "      <th>4</th>\n",
              "      <td>1371</td>\n",
              "      <td>-0.736680</td>\n",
              "      <td>0.196870</td>\n",
              "      <td>0.316278</td>\n",
              "      <td>GF</td>\n",
              "    </tr>\n",
              "    <tr>\n",
              "      <th>6</th>\n",
              "      <td>1374</td>\n",
              "      <td>-0.216050</td>\n",
              "      <td>0.200394</td>\n",
              "      <td>0.316278</td>\n",
              "      <td>GF</td>\n",
              "    </tr>\n",
              "    <tr>\n",
              "      <th>7</th>\n",
              "      <td>1375</td>\n",
              "      <td>-0.370032</td>\n",
              "      <td>0.218016</td>\n",
              "      <td>0.316278</td>\n",
              "      <td>GF</td>\n",
              "    </tr>\n",
              "    <tr>\n",
              "      <th>...</th>\n",
              "      <td>...</td>\n",
              "      <td>...</td>\n",
              "      <td>...</td>\n",
              "      <td>...</td>\n",
              "      <td>...</td>\n",
              "    </tr>\n",
              "    <tr>\n",
              "      <th>994</th>\n",
              "      <td>3846</td>\n",
              "      <td>-0.307667</td>\n",
              "      <td>-0.353882</td>\n",
              "      <td>0.785986</td>\n",
              "      <td>GF</td>\n",
              "    </tr>\n",
              "    <tr>\n",
              "      <th>995</th>\n",
              "      <td>3846</td>\n",
              "      <td>-0.186106</td>\n",
              "      <td>-0.353882</td>\n",
              "      <td>0.785986</td>\n",
              "      <td>GF</td>\n",
              "    </tr>\n",
              "    <tr>\n",
              "      <th>997</th>\n",
              "      <td>3848</td>\n",
              "      <td>0.062303</td>\n",
              "      <td>-0.353882</td>\n",
              "      <td>0.785986</td>\n",
              "      <td>GF</td>\n",
              "    </tr>\n",
              "    <tr>\n",
              "      <th>1013</th>\n",
              "      <td>3855</td>\n",
              "      <td>0.551713</td>\n",
              "      <td>0.007060</td>\n",
              "      <td>-0.016543</td>\n",
              "      <td>GF</td>\n",
              "    </tr>\n",
              "    <tr>\n",
              "      <th>1067</th>\n",
              "      <td>3907</td>\n",
              "      <td>-1.579547</td>\n",
              "      <td>-0.222752</td>\n",
              "      <td>-0.381574</td>\n",
              "      <td>GF</td>\n",
              "    </tr>\n",
              "  </tbody>\n",
              "</table>\n",
              "<p>119 rows × 5 columns</p>\n",
              "</div>"
            ],
            "text/plain": [
              "     RoomNum         X         Y         Z Level\n",
              "0       1332 -0.257665  0.350687  0.316278    GF\n",
              "1       1340 -0.482206  0.215106  0.316278    GF\n",
              "4       1371 -0.736680  0.196870  0.316278    GF\n",
              "6       1374 -0.216050  0.200394  0.316278    GF\n",
              "7       1375 -0.370032  0.218016  0.316278    GF\n",
              "...      ...       ...       ...       ...   ...\n",
              "994     3846 -0.307667 -0.353882  0.785986    GF\n",
              "995     3846 -0.186106 -0.353882  0.785986    GF\n",
              "997     3848  0.062303 -0.353882  0.785986    GF\n",
              "1013    3855  0.551713  0.007060 -0.016543    GF\n",
              "1067    3907 -1.579547 -0.222752 -0.381574    GF\n",
              "\n",
              "[119 rows x 5 columns]"
            ]
          },
          "metadata": {},
          "execution_count": 37
        }
      ]
    },
    {
      "cell_type": "markdown",
      "metadata": {
        "id": "kuQsxsW6bT7U"
      },
      "source": [
        "## 4. Modelling"
      ]
    },
    {
      "cell_type": "code",
      "metadata": {
        "id": "S9FDbhQbbT7U",
        "outputId": "407f5e7e-8229-4432-f689-e410bb3165c1",
        "colab": {
          "base_uri": "https://localhost:8080/"
        }
      },
      "source": [
        "# k-means with some arbitrary k\n",
        "kmeans = KMeans(n_clusters=3, max_iter=50)\n",
        "kmeans.fit(df_scaled[['X','Y']])"
      ],
      "execution_count": null,
      "outputs": [
        {
          "output_type": "execute_result",
          "data": {
            "text/plain": [
              "KMeans(max_iter=50, n_clusters=3)"
            ]
          },
          "metadata": {},
          "execution_count": 38
        }
      ]
    },
    {
      "cell_type": "code",
      "source": [],
      "metadata": {
        "id": "rku70uNzMzgi"
      },
      "execution_count": null,
      "outputs": []
    },
    {
      "cell_type": "code",
      "metadata": {
        "id": "DzC92Rv0bT7U",
        "outputId": "5b8c0b4f-b621-433d-871e-a18d164f8d28",
        "colab": {
          "base_uri": "https://localhost:8080/"
        }
      },
      "source": [
        "kmeans.labels_"
      ],
      "execution_count": null,
      "outputs": [
        {
          "output_type": "execute_result",
          "data": {
            "text/plain": [
              "array([0, 0, 2, ..., 0, 0, 0], dtype=int32)"
            ]
          },
          "metadata": {},
          "execution_count": 39
        }
      ]
    },
    {
      "cell_type": "code",
      "metadata": {
        "id": "tst53pYabT7V"
      },
      "source": [
        "# help(KMeans)"
      ],
      "execution_count": null,
      "outputs": []
    },
    {
      "cell_type": "code",
      "source": [
        "df_scaled.insert(5,'Cluster3',kmeans.labels_)\n",
        "df_scaled.head()"
      ],
      "metadata": {
        "colab": {
          "base_uri": "https://localhost:8080/",
          "height": 206
        },
        "id": "ed2VywuBJYD6",
        "outputId": "0d1ecf97-57a0-4618-ad8f-48523fe91fe1"
      },
      "execution_count": null,
      "outputs": [
        {
          "output_type": "execute_result",
          "data": {
            "text/html": [
              "<div>\n",
              "<style scoped>\n",
              "    .dataframe tbody tr th:only-of-type {\n",
              "        vertical-align: middle;\n",
              "    }\n",
              "\n",
              "    .dataframe tbody tr th {\n",
              "        vertical-align: top;\n",
              "    }\n",
              "\n",
              "    .dataframe thead th {\n",
              "        text-align: right;\n",
              "    }\n",
              "</style>\n",
              "<table border=\"1\" class=\"dataframe\">\n",
              "  <thead>\n",
              "    <tr style=\"text-align: right;\">\n",
              "      <th></th>\n",
              "      <th>RoomNum</th>\n",
              "      <th>X</th>\n",
              "      <th>Y</th>\n",
              "      <th>Z</th>\n",
              "      <th>Level</th>\n",
              "      <th>Cluster3</th>\n",
              "    </tr>\n",
              "  </thead>\n",
              "  <tbody>\n",
              "    <tr>\n",
              "      <th>0</th>\n",
              "      <td>1332</td>\n",
              "      <td>-0.257665</td>\n",
              "      <td>0.350687</td>\n",
              "      <td>0.316278</td>\n",
              "      <td>GF</td>\n",
              "      <td>0</td>\n",
              "    </tr>\n",
              "    <tr>\n",
              "      <th>1</th>\n",
              "      <td>1340</td>\n",
              "      <td>-0.482206</td>\n",
              "      <td>0.215106</td>\n",
              "      <td>0.316278</td>\n",
              "      <td>GF</td>\n",
              "      <td>0</td>\n",
              "    </tr>\n",
              "    <tr>\n",
              "      <th>2</th>\n",
              "      <td>1360</td>\n",
              "      <td>1.103326</td>\n",
              "      <td>0.481092</td>\n",
              "      <td>-0.381574</td>\n",
              "      <td>B1</td>\n",
              "      <td>2</td>\n",
              "    </tr>\n",
              "    <tr>\n",
              "      <th>3</th>\n",
              "      <td>1363</td>\n",
              "      <td>1.066270</td>\n",
              "      <td>0.448828</td>\n",
              "      <td>-0.016543</td>\n",
              "      <td>Lower GF</td>\n",
              "      <td>2</td>\n",
              "    </tr>\n",
              "    <tr>\n",
              "      <th>4</th>\n",
              "      <td>1371</td>\n",
              "      <td>-0.736680</td>\n",
              "      <td>0.196870</td>\n",
              "      <td>0.316278</td>\n",
              "      <td>GF</td>\n",
              "      <td>0</td>\n",
              "    </tr>\n",
              "  </tbody>\n",
              "</table>\n",
              "</div>"
            ],
            "text/plain": [
              "  RoomNum         X         Y         Z     Level  Cluster3\n",
              "0    1332 -0.257665  0.350687  0.316278        GF         0\n",
              "1    1340 -0.482206  0.215106  0.316278        GF         0\n",
              "2    1360  1.103326  0.481092 -0.381574        B1         2\n",
              "3    1363  1.066270  0.448828 -0.016543  Lower GF         2\n",
              "4    1371 -0.736680  0.196870  0.316278        GF         0"
            ]
          },
          "metadata": {},
          "execution_count": 41
        }
      ]
    },
    {
      "cell_type": "code",
      "source": [
        "df_scaled[df_scaled.Cluster3 == 2].RoomNum"
      ],
      "metadata": {
        "colab": {
          "base_uri": "https://localhost:8080/"
        },
        "id": "v9FKSqZuKDUa",
        "outputId": "e631ea38-cb72-42e5-8cc8-ce368cc2cadf"
      },
      "execution_count": null,
      "outputs": [
        {
          "output_type": "execute_result",
          "data": {
            "text/plain": [
              "2       1360\n",
              "3       1363\n",
              "5       1373\n",
              "8       1381\n",
              "10      <NA>\n",
              "        ... \n",
              "1036    3887\n",
              "1037    3888\n",
              "1044    <NA>\n",
              "1051    3897\n",
              "1052    3898\n",
              "Name: RoomNum, Length: 488, dtype: string"
            ]
          },
          "metadata": {},
          "execution_count": 43
        }
      ]
    },
    {
      "cell_type": "code",
      "source": [
        "df_scaled[df_scaled.Cluster3 == 1].RoomNum"
      ],
      "metadata": {
        "colab": {
          "base_uri": "https://localhost:8080/"
        },
        "id": "1sL9V38ZKKgj",
        "outputId": "558799cf-626f-4bf5-ca91-76930b230aa9"
      },
      "execution_count": null,
      "outputs": [
        {
          "output_type": "execute_result",
          "data": {
            "text/plain": [
              "1058    3904\n",
              "Name: RoomNum, dtype: string"
            ]
          },
          "metadata": {},
          "execution_count": 44
        }
      ]
    },
    {
      "cell_type": "markdown",
      "source": [
        "### Cluster by 10"
      ],
      "metadata": {
        "id": "PH6NyGtGML9P"
      }
    },
    {
      "cell_type": "code",
      "metadata": {
        "outputId": "b7f507e8-6dd3-41e1-eeea-30346adb9636",
        "colab": {
          "base_uri": "https://localhost:8080/"
        },
        "id": "mFzqKOodMRhK"
      },
      "source": [
        "# k-means with some arbitrary k\n",
        "kmeans = KMeans(n_clusters=10, max_iter=50)\n",
        "kmeans.fit(df_scaled[['X','Y','Z']])"
      ],
      "execution_count": null,
      "outputs": [
        {
          "output_type": "execute_result",
          "data": {
            "text/plain": [
              "KMeans(max_iter=50, n_clusters=10)"
            ]
          },
          "metadata": {},
          "execution_count": 45
        }
      ]
    },
    {
      "cell_type": "code",
      "metadata": {
        "outputId": "d1e2d91e-f858-4bde-a998-559b255d2d15",
        "colab": {
          "base_uri": "https://localhost:8080/"
        },
        "id": "e5PGXSmpMRhL"
      },
      "source": [
        "kmeans.labels_"
      ],
      "execution_count": null,
      "outputs": [
        {
          "output_type": "execute_result",
          "data": {
            "text/plain": [
              "array([6, 6, 7, ..., 8, 0, 0], dtype=int32)"
            ]
          },
          "metadata": {},
          "execution_count": 46
        }
      ]
    },
    {
      "cell_type": "code",
      "source": [
        "df_scaled.insert(6,'Cluster10',kmeans.labels_)\n",
        "df_scaled.head()"
      ],
      "metadata": {
        "colab": {
          "base_uri": "https://localhost:8080/",
          "height": 206
        },
        "outputId": "18f9d431-73b9-4f0b-b3e5-b95645f449ec",
        "id": "tcx7VO6nMRhM"
      },
      "execution_count": null,
      "outputs": [
        {
          "output_type": "execute_result",
          "data": {
            "text/html": [
              "<div>\n",
              "<style scoped>\n",
              "    .dataframe tbody tr th:only-of-type {\n",
              "        vertical-align: middle;\n",
              "    }\n",
              "\n",
              "    .dataframe tbody tr th {\n",
              "        vertical-align: top;\n",
              "    }\n",
              "\n",
              "    .dataframe thead th {\n",
              "        text-align: right;\n",
              "    }\n",
              "</style>\n",
              "<table border=\"1\" class=\"dataframe\">\n",
              "  <thead>\n",
              "    <tr style=\"text-align: right;\">\n",
              "      <th></th>\n",
              "      <th>RoomNum</th>\n",
              "      <th>X</th>\n",
              "      <th>Y</th>\n",
              "      <th>Z</th>\n",
              "      <th>Level</th>\n",
              "      <th>Cluster3</th>\n",
              "      <th>Cluster10</th>\n",
              "    </tr>\n",
              "  </thead>\n",
              "  <tbody>\n",
              "    <tr>\n",
              "      <th>0</th>\n",
              "      <td>1332</td>\n",
              "      <td>-0.257665</td>\n",
              "      <td>0.350687</td>\n",
              "      <td>0.316278</td>\n",
              "      <td>GF</td>\n",
              "      <td>0</td>\n",
              "      <td>6</td>\n",
              "    </tr>\n",
              "    <tr>\n",
              "      <th>1</th>\n",
              "      <td>1340</td>\n",
              "      <td>-0.482206</td>\n",
              "      <td>0.215106</td>\n",
              "      <td>0.316278</td>\n",
              "      <td>GF</td>\n",
              "      <td>0</td>\n",
              "      <td>6</td>\n",
              "    </tr>\n",
              "    <tr>\n",
              "      <th>2</th>\n",
              "      <td>1360</td>\n",
              "      <td>1.103326</td>\n",
              "      <td>0.481092</td>\n",
              "      <td>-0.381574</td>\n",
              "      <td>B1</td>\n",
              "      <td>2</td>\n",
              "      <td>7</td>\n",
              "    </tr>\n",
              "    <tr>\n",
              "      <th>3</th>\n",
              "      <td>1363</td>\n",
              "      <td>1.066270</td>\n",
              "      <td>0.448828</td>\n",
              "      <td>-0.016543</td>\n",
              "      <td>Lower GF</td>\n",
              "      <td>2</td>\n",
              "      <td>7</td>\n",
              "    </tr>\n",
              "    <tr>\n",
              "      <th>4</th>\n",
              "      <td>1371</td>\n",
              "      <td>-0.736680</td>\n",
              "      <td>0.196870</td>\n",
              "      <td>0.316278</td>\n",
              "      <td>GF</td>\n",
              "      <td>0</td>\n",
              "      <td>6</td>\n",
              "    </tr>\n",
              "  </tbody>\n",
              "</table>\n",
              "</div>"
            ],
            "text/plain": [
              "  RoomNum         X         Y         Z     Level  Cluster3  Cluster10\n",
              "0    1332 -0.257665  0.350687  0.316278        GF         0          6\n",
              "1    1340 -0.482206  0.215106  0.316278        GF         0          6\n",
              "2    1360  1.103326  0.481092 -0.381574        B1         2          7\n",
              "3    1363  1.066270  0.448828 -0.016543  Lower GF         2          7\n",
              "4    1371 -0.736680  0.196870  0.316278        GF         0          6"
            ]
          },
          "metadata": {},
          "execution_count": 47
        }
      ]
    },
    {
      "cell_type": "code",
      "source": [
        "df_scaled[df_scaled.Cluster10 == 5].RoomNum"
      ],
      "metadata": {
        "colab": {
          "base_uri": "https://localhost:8080/"
        },
        "outputId": "8636238b-16f9-464f-9260-12394cb2ae7c",
        "id": "jfdD3bNkMRhM"
      },
      "execution_count": null,
      "outputs": [
        {
          "output_type": "execute_result",
          "data": {
            "text/plain": [
              "18      1458\n",
              "22      1477\n",
              "23      <NA>\n",
              "24      1487\n",
              "80      3500\n",
              "        ... \n",
              "1026    3877\n",
              "1027    3878\n",
              "1034    3885\n",
              "1035    <NA>\n",
              "1051    3897\n",
              "Name: RoomNum, Length: 114, dtype: string"
            ]
          },
          "metadata": {},
          "execution_count": 48
        }
      ]
    },
    {
      "cell_type": "code",
      "source": [],
      "metadata": {
        "id": "iSJIPkuBMRhN"
      },
      "execution_count": null,
      "outputs": []
    },
    {
      "cell_type": "code",
      "source": [
        "# Z\n",
        "grouped_df_Cluster10 = df_scaled.groupby('Cluster10')['RoomNum'].count()\n",
        "grouped_df_Cluster10 = grouped_df_Cluster10.reset_index()\n",
        "grouped_df_Cluster10"
      ],
      "metadata": {
        "colab": {
          "base_uri": "https://localhost:8080/",
          "height": 363
        },
        "outputId": "60990b36-03a3-4598-ced0-f02379456754",
        "id": "er5FELcpMl7j"
      },
      "execution_count": null,
      "outputs": [
        {
          "output_type": "execute_result",
          "data": {
            "text/html": [
              "<div>\n",
              "<style scoped>\n",
              "    .dataframe tbody tr th:only-of-type {\n",
              "        vertical-align: middle;\n",
              "    }\n",
              "\n",
              "    .dataframe tbody tr th {\n",
              "        vertical-align: top;\n",
              "    }\n",
              "\n",
              "    .dataframe thead th {\n",
              "        text-align: right;\n",
              "    }\n",
              "</style>\n",
              "<table border=\"1\" class=\"dataframe\">\n",
              "  <thead>\n",
              "    <tr style=\"text-align: right;\">\n",
              "      <th></th>\n",
              "      <th>Cluster10</th>\n",
              "      <th>RoomNum</th>\n",
              "    </tr>\n",
              "  </thead>\n",
              "  <tbody>\n",
              "    <tr>\n",
              "      <th>0</th>\n",
              "      <td>0</td>\n",
              "      <td>90</td>\n",
              "    </tr>\n",
              "    <tr>\n",
              "      <th>1</th>\n",
              "      <td>1</td>\n",
              "      <td>109</td>\n",
              "    </tr>\n",
              "    <tr>\n",
              "      <th>2</th>\n",
              "      <td>2</td>\n",
              "      <td>1</td>\n",
              "    </tr>\n",
              "    <tr>\n",
              "      <th>3</th>\n",
              "      <td>3</td>\n",
              "      <td>99</td>\n",
              "    </tr>\n",
              "    <tr>\n",
              "      <th>4</th>\n",
              "      <td>4</td>\n",
              "      <td>91</td>\n",
              "    </tr>\n",
              "    <tr>\n",
              "      <th>5</th>\n",
              "      <td>5</td>\n",
              "      <td>94</td>\n",
              "    </tr>\n",
              "    <tr>\n",
              "      <th>6</th>\n",
              "      <td>6</td>\n",
              "      <td>160</td>\n",
              "    </tr>\n",
              "    <tr>\n",
              "      <th>7</th>\n",
              "      <td>7</td>\n",
              "      <td>144</td>\n",
              "    </tr>\n",
              "    <tr>\n",
              "      <th>8</th>\n",
              "      <td>8</td>\n",
              "      <td>75</td>\n",
              "    </tr>\n",
              "    <tr>\n",
              "      <th>9</th>\n",
              "      <td>9</td>\n",
              "      <td>48</td>\n",
              "    </tr>\n",
              "  </tbody>\n",
              "</table>\n",
              "</div>"
            ],
            "text/plain": [
              "   Cluster10  RoomNum\n",
              "0          0       90\n",
              "1          1      109\n",
              "2          2        1\n",
              "3          3       99\n",
              "4          4       91\n",
              "5          5       94\n",
              "6          6      160\n",
              "7          7      144\n",
              "8          8       75\n",
              "9          9       48"
            ]
          },
          "metadata": {},
          "execution_count": 49
        }
      ]
    },
    {
      "cell_type": "code",
      "metadata": {
        "outputId": "d9b84b37-958d-4485-dc4e-859654c4c73b",
        "colab": {
          "base_uri": "https://localhost:8080/",
          "height": 298
        },
        "id": "XcWxYQuLMl7t"
      },
      "source": [
        "# plot\n",
        "sns.boxplot(x='Cluster10', y='X', data=df_scaled)"
      ],
      "execution_count": null,
      "outputs": [
        {
          "output_type": "execute_result",
          "data": {
            "text/plain": [
              "<matplotlib.axes._subplots.AxesSubplot at 0x7f4893d21e10>"
            ]
          },
          "metadata": {},
          "execution_count": 50
        },
        {
          "output_type": "display_data",
          "data": {
            "image/png": "[encoded data removed]",
            "text/plain": [
              "<Figure size 432x288 with 1 Axes>"
            ]
          },
          "metadata": {
            "needs_background": "light"
          }
        }
      ]
    },
    {
      "cell_type": "code",
      "source": [
        "# plot\n",
        "sns.boxplot(x='Cluster10', y='Y', data=df_scaled)"
      ],
      "metadata": {
        "colab": {
          "base_uri": "https://localhost:8080/",
          "height": 296
        },
        "outputId": "56c54353-1b1b-4efd-87f6-c7b4588057bb",
        "id": "sqE4cbUMMl7u"
      },
      "execution_count": null,
      "outputs": [
        {
          "output_type": "execute_result",
          "data": {
            "text/plain": [
              "<matplotlib.axes._subplots.AxesSubplot at 0x7f488a726090>"
            ]
          },
          "metadata": {},
          "execution_count": 51
        },
        {
          "output_type": "display_data",
          "data": {
            "image/png": "[encoded data removed]",
            "text/plain": [
              "<Figure size 432x288 with 1 Axes>"
            ]
          },
          "metadata": {
            "needs_background": "light"
          }
        }
      ]
    },
    {
      "cell_type": "code",
      "source": [
        "# plot\n",
        "sns.boxplot(x='Cluster10', y='Z', data=df_scaled)"
      ],
      "metadata": {
        "colab": {
          "base_uri": "https://localhost:8080/",
          "height": 296
        },
        "outputId": "9048f0c2-b6b6-49cc-f437-9d06a327fd5b",
        "id": "MQ8YoGPKMl7u"
      },
      "execution_count": null,
      "outputs": [
        {
          "output_type": "execute_result",
          "data": {
            "text/plain": [
              "<matplotlib.axes._subplots.AxesSubplot at 0x7f4894c95c90>"
            ]
          },
          "metadata": {},
          "execution_count": 52
        },
        {
          "output_type": "display_data",
          "data": {
            "image/png": "[encoded data removed]",
            "text/plain": [
              "<Figure size 432x288 with 1 Axes>"
            ]
          },
          "metadata": {
            "needs_background": "light"
          }
        }
      ]
    },
    {
      "cell_type": "markdown",
      "metadata": {
        "id": "fBbpMsyFbT7V"
      },
      "source": [
        "#### Finding the Optimal Number of Clusters\n",
        "\n",
        "##### SSD"
      ]
    },
    {
      "cell_type": "code",
      "metadata": {
        "id": "3WXdLD0ybT7V",
        "outputId": "98afa851-5d15-41d7-f505-32dc146bbb8a",
        "colab": {
          "base_uri": "https://localhost:8080/",
          "height": 282
        }
      },
      "source": [
        "# elbow-curve/SSD\n",
        "ssd = []\n",
        "range_n_clusters = [2, 3, 4, 5, 6, 7, 8,9,10,11,12,13,14,15]\n",
        "for num_clusters in range_n_clusters:\n",
        "    kmeans = KMeans(n_clusters=num_clusters, max_iter=50)\n",
        "    kmeans.fit(df_scaled[['X','Y','Z']])\n",
        "    \n",
        "    ssd.append(kmeans.inertia_)\n",
        "    \n",
        "# plot the SSDs for each n_clusters\n",
        "# ssd\n",
        "plt.plot(ssd)"
      ],
      "execution_count": null,
      "outputs": [
        {
          "output_type": "execute_result",
          "data": {
            "text/plain": [
              "[<matplotlib.lines.Line2D at 0x7f488a68f090>]"
            ]
          },
          "metadata": {},
          "execution_count": 53
        },
        {
          "output_type": "display_data",
          "data": {
            "image/png": "[encoded data removed]",
            "text/plain": [
              "<Figure size 432x288 with 1 Axes>"
            ]
          },
          "metadata": {
            "needs_background": "light"
          }
        }
      ]
    },
    {
      "cell_type": "markdown",
      "metadata": {
        "id": "PJdsSQcebT7V"
      },
      "source": [
        "### Silhouette Analysis\n",
        "\n",
        "$$\\text{silhouette score}=\\frac{p-q}{max(p,q)}$$\n",
        "\n",
        "$p$ is the mean distance to the points in the nearest cluster that the data point is not a part of\n",
        "\n",
        "$q$ is the mean intra-cluster distance to all the points in its own cluster.\n",
        "\n",
        "* The value of the silhouette score range lies between -1 to 1. \n",
        "\n",
        "* A score closer to 1 indicates that the data point is very similar to other data points in the cluster, \n",
        "\n",
        "* A score closer to -1 indicates that the data point is not similar to the data points in its cluster."
      ]
    },
    {
      "cell_type": "markdown",
      "source": [
        "# New Section"
      ],
      "metadata": {
        "id": "MugtW4d7NXmd"
      }
    },
    {
      "cell_type": "code",
      "metadata": {
        "id": "apJu97D7bT7W",
        "outputId": "cd9422a4-5b38-4477-a45d-b7e2b2c0ea18",
        "colab": {
          "base_uri": "https://localhost:8080/"
        }
      },
      "source": [
        "# silhouette analysis\n",
        "range_n_clusters = [2, 3, 4, 5, 6, 7, 8,9,10,112,12,13]\n",
        "\n",
        "for num_clusters in range_n_clusters:\n",
        "    \n",
        "    # intialise kmeans\n",
        "    kmeans = KMeans(n_clusters=num_clusters, max_iter=50)\n",
        "    kmeans.fit(df_scaled[['X','Y','Z']])\n",
        "    \n",
        "    cluster_labels = kmeans.labels_\n",
        "    \n",
        "    # silhouette score\n",
        "    silhouette_avg = silhouette_score(df_scaled[['X','Y','Z']], cluster_labels)\n",
        "    print(\"For n_clusters={0}, the silhouette score is {1}\".format(num_clusters, silhouette_avg))\n",
        "    \n",
        "    "
      ],
      "execution_count": null,
      "outputs": [
        {
          "output_type": "stream",
          "name": "stdout",
          "text": [
            "For n_clusters=2, the silhouette score is 0.9410650420319526\n",
            "For n_clusters=3, the silhouette score is 0.3541985128063858\n",
            "For n_clusters=4, the silhouette score is 0.37175582962760106\n",
            "For n_clusters=5, the silhouette score is 0.3925205115622741\n",
            "For n_clusters=6, the silhouette score is 0.3816143014355411\n",
            "For n_clusters=7, the silhouette score is 0.3807573745086951\n",
            "For n_clusters=8, the silhouette score is 0.39269161087472854\n",
            "For n_clusters=9, the silhouette score is 0.399529166217074\n",
            "For n_clusters=10, the silhouette score is 0.40035507647628943\n",
            "For n_clusters=112, the silhouette score is 0.4581838252158657\n",
            "For n_clusters=12, the silhouette score is 0.4063751724107114\n",
            "For n_clusters=13, the silhouette score is 0.38788243323918764\n"
          ]
        }
      ]
    },
    {
      "cell_type": "code",
      "metadata": {
        "id": "skx56QEIbT7W",
        "outputId": "7ec94f2b-8275-4bda-dae0-d431f2577710",
        "colab": {
          "base_uri": "https://localhost:8080/"
        }
      },
      "source": [
        "# final model with k=3\n",
        "kmeans = KMeans(n_clusters=3, max_iter=50)\n",
        "kmeans.fit(df_scaled[['X','Y','Z']])"
      ],
      "execution_count": null,
      "outputs": [
        {
          "output_type": "execute_result",
          "data": {
            "text/plain": [
              "KMeans(max_iter=50, n_clusters=3)"
            ]
          },
          "metadata": {},
          "execution_count": 55
        }
      ]
    },
    {
      "cell_type": "code",
      "metadata": {
        "id": "ETd2q8VDbT7W",
        "outputId": "394be6cd-9d11-419c-d274-fe46fdf999f1",
        "colab": {
          "base_uri": "https://localhost:8080/"
        }
      },
      "source": [
        "kmeans.labels_"
      ],
      "execution_count": null,
      "outputs": [
        {
          "output_type": "execute_result",
          "data": {
            "text/plain": [
              "array([0, 0, 1, ..., 0, 0, 0], dtype=int32)"
            ]
          },
          "metadata": {},
          "execution_count": 56
        }
      ]
    },
    {
      "cell_type": "code",
      "source": [
        "# Z\n",
        "grouped_df_Cluster4 = df_scaled.groupby('Cluster3')['RoomNum'].count()\n",
        "grouped_df_Cluster4 = grouped_df_Cluster4.reset_index()\n",
        "grouped_df_Cluster4"
      ],
      "metadata": {
        "colab": {
          "base_uri": "https://localhost:8080/",
          "height": 143
        },
        "id": "2da-Rdv6LQ7q",
        "outputId": "816f3a62-a0a3-4ff7-8fe4-281df6af5c24"
      },
      "execution_count": null,
      "outputs": [
        {
          "output_type": "execute_result",
          "data": {
            "text/html": [
              "<div>\n",
              "<style scoped>\n",
              "    .dataframe tbody tr th:only-of-type {\n",
              "        vertical-align: middle;\n",
              "    }\n",
              "\n",
              "    .dataframe tbody tr th {\n",
              "        vertical-align: top;\n",
              "    }\n",
              "\n",
              "    .dataframe thead th {\n",
              "        text-align: right;\n",
              "    }\n",
              "</style>\n",
              "<table border=\"1\" class=\"dataframe\">\n",
              "  <thead>\n",
              "    <tr style=\"text-align: right;\">\n",
              "      <th></th>\n",
              "      <th>Cluster3</th>\n",
              "      <th>RoomNum</th>\n",
              "    </tr>\n",
              "  </thead>\n",
              "  <tbody>\n",
              "    <tr>\n",
              "      <th>0</th>\n",
              "      <td>0</td>\n",
              "      <td>511</td>\n",
              "    </tr>\n",
              "    <tr>\n",
              "      <th>1</th>\n",
              "      <td>1</td>\n",
              "      <td>1</td>\n",
              "    </tr>\n",
              "    <tr>\n",
              "      <th>2</th>\n",
              "      <td>2</td>\n",
              "      <td>399</td>\n",
              "    </tr>\n",
              "  </tbody>\n",
              "</table>\n",
              "</div>"
            ],
            "text/plain": [
              "   Cluster3  RoomNum\n",
              "0         0      511\n",
              "1         1        1\n",
              "2         2      399"
            ]
          },
          "metadata": {},
          "execution_count": 58
        }
      ]
    },
    {
      "cell_type": "code",
      "metadata": {
        "id": "Ue69auu3bT7X",
        "outputId": "5d6ad6cb-c7bf-4890-fba8-d688ff57397f",
        "colab": {
          "base_uri": "https://localhost:8080/",
          "height": 298
        }
      },
      "source": [
        "# plot by X\n",
        "sns.boxplot(x='Cluster3', y='X', data=df_scaled)"
      ],
      "execution_count": null,
      "outputs": [
        {
          "output_type": "execute_result",
          "data": {
            "text/plain": [
              "<matplotlib.axes._subplots.AxesSubplot at 0x7f488a4c13d0>"
            ]
          },
          "metadata": {},
          "execution_count": 60
        },
        {
          "output_type": "display_data",
          "data": {
            "image/png": "[encoded data removed]",
            "text/plain": [
              "<Figure size 432x288 with 1 Axes>"
            ]
          },
          "metadata": {
            "needs_background": "light"
          }
        }
      ]
    },
    {
      "cell_type": "code",
      "source": [
        "# plot by Y\n",
        "sns.boxplot(x='Cluster3', y='Y', data=df_scaled)"
      ],
      "metadata": {
        "colab": {
          "base_uri": "https://localhost:8080/",
          "height": 296
        },
        "id": "R_seupzgL-W7",
        "outputId": "23b49313-7c48-4172-8616-53e5e691d1ed"
      },
      "execution_count": null,
      "outputs": [
        {
          "output_type": "execute_result",
          "data": {
            "text/plain": [
              "<matplotlib.axes._subplots.AxesSubplot at 0x7f488a440fd0>"
            ]
          },
          "metadata": {},
          "execution_count": 61
        },
        {
          "output_type": "display_data",
          "data": {
            "image/png": "[encoded data removed]",
            "text/plain": [
              "<Figure size 432x288 with 1 Axes>"
            ]
          },
          "metadata": {
            "needs_background": "light"
          }
        }
      ]
    },
    {
      "cell_type": "code",
      "source": [
        "# plot by Z\n",
        "sns.boxplot(x='Cluster3', y='Z', data=df_scaled)"
      ],
      "metadata": {
        "colab": {
          "base_uri": "https://localhost:8080/",
          "height": 296
        },
        "id": "3YkkTNOCMA-S",
        "outputId": "cd6caacf-0c38-4369-c2f5-ad9dacf661b5"
      },
      "execution_count": null,
      "outputs": [
        {
          "output_type": "execute_result",
          "data": {
            "text/plain": [
              "<matplotlib.axes._subplots.AxesSubplot at 0x7f488a3c0850>"
            ]
          },
          "metadata": {},
          "execution_count": 62
        },
        {
          "output_type": "display_data",
          "data": {
            "image/png": "[encoded data removed]",
            "text/plain": [
              "<Figure size 432x288 with 1 Axes>"
            ]
          },
          "metadata": {
            "needs_background": "light"
          }
        }
      ]
    },
    {
      "cell_type": "code",
      "source": [],
      "metadata": {
        "id": "hh03eN7fMJUc"
      },
      "execution_count": null,
      "outputs": []
    },
    {
      "cell_type": "markdown",
      "metadata": {
        "id": "dH_2Sp4ybT7X"
      },
      "source": [
        "#### Hierarchical Clustering"
      ]
    },
    {
      "cell_type": "code",
      "metadata": {
        "id": "sjH-RdZybT7Y",
        "outputId": "3f77224e-2e4b-46e2-aa96-6e4862c43739",
        "colab": {
          "base_uri": "https://localhost:8080/",
          "height": 206
        }
      },
      "source": [
        "df_scaled.head()"
      ],
      "execution_count": null,
      "outputs": [
        {
          "output_type": "execute_result",
          "data": {
            "text/html": [
              "<div>\n",
              "<style scoped>\n",
              "    .dataframe tbody tr th:only-of-type {\n",
              "        vertical-align: middle;\n",
              "    }\n",
              "\n",
              "    .dataframe tbody tr th {\n",
              "        vertical-align: top;\n",
              "    }\n",
              "\n",
              "    .dataframe thead th {\n",
              "        text-align: right;\n",
              "    }\n",
              "</style>\n",
              "<table border=\"1\" class=\"dataframe\">\n",
              "  <thead>\n",
              "    <tr style=\"text-align: right;\">\n",
              "      <th></th>\n",
              "      <th>RoomNum</th>\n",
              "      <th>X</th>\n",
              "      <th>Y</th>\n",
              "      <th>Z</th>\n",
              "      <th>Level</th>\n",
              "      <th>Cluster3</th>\n",
              "      <th>Cluster10</th>\n",
              "    </tr>\n",
              "  </thead>\n",
              "  <tbody>\n",
              "    <tr>\n",
              "      <th>0</th>\n",
              "      <td>1332</td>\n",
              "      <td>-0.257665</td>\n",
              "      <td>0.350687</td>\n",
              "      <td>0.316278</td>\n",
              "      <td>GF</td>\n",
              "      <td>0</td>\n",
              "      <td>6</td>\n",
              "    </tr>\n",
              "    <tr>\n",
              "      <th>1</th>\n",
              "      <td>1340</td>\n",
              "      <td>-0.482206</td>\n",
              "      <td>0.215106</td>\n",
              "      <td>0.316278</td>\n",
              "      <td>GF</td>\n",
              "      <td>0</td>\n",
              "      <td>6</td>\n",
              "    </tr>\n",
              "    <tr>\n",
              "      <th>2</th>\n",
              "      <td>1360</td>\n",
              "      <td>1.103326</td>\n",
              "      <td>0.481092</td>\n",
              "      <td>-0.381574</td>\n",
              "      <td>B1</td>\n",
              "      <td>2</td>\n",
              "      <td>7</td>\n",
              "    </tr>\n",
              "    <tr>\n",
              "      <th>3</th>\n",
              "      <td>1363</td>\n",
              "      <td>1.066270</td>\n",
              "      <td>0.448828</td>\n",
              "      <td>-0.016543</td>\n",
              "      <td>Lower GF</td>\n",
              "      <td>2</td>\n",
              "      <td>7</td>\n",
              "    </tr>\n",
              "    <tr>\n",
              "      <th>4</th>\n",
              "      <td>1371</td>\n",
              "      <td>-0.736680</td>\n",
              "      <td>0.196870</td>\n",
              "      <td>0.316278</td>\n",
              "      <td>GF</td>\n",
              "      <td>0</td>\n",
              "      <td>6</td>\n",
              "    </tr>\n",
              "  </tbody>\n",
              "</table>\n",
              "</div>"
            ],
            "text/plain": [
              "  RoomNum         X         Y         Z     Level  Cluster3  Cluster10\n",
              "0    1332 -0.257665  0.350687  0.316278        GF         0          6\n",
              "1    1340 -0.482206  0.215106  0.316278        GF         0          6\n",
              "2    1360  1.103326  0.481092 -0.381574        B1         2          7\n",
              "3    1363  1.066270  0.448828 -0.016543  Lower GF         2          7\n",
              "4    1371 -0.736680  0.196870  0.316278        GF         0          6"
            ]
          },
          "metadata": {},
          "execution_count": 63
        }
      ]
    },
    {
      "cell_type": "code",
      "metadata": {
        "id": "cI9cjMwnbT7Y",
        "outputId": "b3610f0a-5cab-4962-e69b-6ed7eac99bf4",
        "colab": {
          "base_uri": "https://localhost:8080/",
          "height": 594
        }
      },
      "source": [
        "# single linkage\n",
        "plt.figure(figsize=(20,10))\n",
        "\n",
        "mergings = linkage(df_scaled[['X','Y','Z']], method=\"single\", metric='euclidean')\n",
        "dendrogram(mergings)\n",
        "\n",
        "plt.xticks(rotation  = 90)\n",
        "plt.show()"
      ],
      "execution_count": null,
      "outputs": [
        {
          "output_type": "display_data",
          "data": {
            "image/png": "[encoded data removed]",
            "text/plain": [
              "<Figure size 1440x720 with 1 Axes>"
            ]
          },
          "metadata": {
            "needs_background": "light"
          }
        }
      ]
    },
    {
      "cell_type": "code",
      "metadata": {
        "id": "1QUswxxfbT7Y",
        "outputId": "cf6c11d9-13d0-4798-cd90-4f446450efc7",
        "colab": {
          "base_uri": "https://localhost:8080/",
          "height": 1000
        }
      },
      "source": [
        "# complete linkage\n",
        "plt.figure(figsize=(70,30) )\n",
        "mergings = linkage(df_scaled[['X','Y','Z']], method=\"complete\", metric='euclidean')\n",
        "dendrogram(mergings)\n",
        "plt.xticks(rotation  = 90)\n",
        "plt.show()"
      ],
      "execution_count": null,
      "outputs": [
        {
          "output_type": "display_data",
          "data": {
            "image/png": "[encoded data removed]",
            "text/plain": [
              "<Figure size 5040x2160 with 1 Axes>"
            ]
          },
          "metadata": {
            "needs_background": "light"
          }
        }
      ]
    },
    {
      "cell_type": "code",
      "metadata": {
        "id": "9MsHXioibT7Z",
        "outputId": "ca29a40b-3287-4ad7-bb9c-ce3d93ab8e31",
        "colab": {
          "base_uri": "https://localhost:8080/"
        }
      },
      "source": [
        "# 10 clusters\n",
        "cluster_labels = cut_tree(mergings, n_clusters=10).reshape(-1, )\n",
        "cluster_labels"
      ],
      "execution_count": null,
      "outputs": [
        {
          "output_type": "execute_result",
          "data": {
            "text/plain": [
              "array([0, 1, 2, ..., 7, 1, 1])"
            ]
          },
          "metadata": {},
          "execution_count": 69
        }
      ]
    },
    {
      "cell_type": "code",
      "metadata": {
        "id": "kiC_TF8wbT7Z",
        "outputId": "d216e8c7-3492-4eb8-eaad-2082d3938bd3",
        "colab": {
          "base_uri": "https://localhost:8080/",
          "height": 206
        }
      },
      "source": [
        "# assign cluster labels\n",
        "df_scaled['cluster_labels_N'] = cluster_labels\n",
        "df_scaled.head()"
      ],
      "execution_count": null,
      "outputs": [
        {
          "output_type": "execute_result",
          "data": {
            "text/html": [
              "<div>\n",
              "<style scoped>\n",
              "    .dataframe tbody tr th:only-of-type {\n",
              "        vertical-align: middle;\n",
              "    }\n",
              "\n",
              "    .dataframe tbody tr th {\n",
              "        vertical-align: top;\n",
              "    }\n",
              "\n",
              "    .dataframe thead th {\n",
              "        text-align: right;\n",
              "    }\n",
              "</style>\n",
              "<table border=\"1\" class=\"dataframe\">\n",
              "  <thead>\n",
              "    <tr style=\"text-align: right;\">\n",
              "      <th></th>\n",
              "      <th>RoomNum</th>\n",
              "      <th>X</th>\n",
              "      <th>Y</th>\n",
              "      <th>Z</th>\n",
              "      <th>Level</th>\n",
              "      <th>Cluster3</th>\n",
              "      <th>Cluster10</th>\n",
              "      <th>cluster_labels_N</th>\n",
              "    </tr>\n",
              "  </thead>\n",
              "  <tbody>\n",
              "    <tr>\n",
              "      <th>0</th>\n",
              "      <td>1332</td>\n",
              "      <td>-0.257665</td>\n",
              "      <td>0.350687</td>\n",
              "      <td>0.316278</td>\n",
              "      <td>GF</td>\n",
              "      <td>0</td>\n",
              "      <td>6</td>\n",
              "      <td>0</td>\n",
              "    </tr>\n",
              "    <tr>\n",
              "      <th>1</th>\n",
              "      <td>1340</td>\n",
              "      <td>-0.482206</td>\n",
              "      <td>0.215106</td>\n",
              "      <td>0.316278</td>\n",
              "      <td>GF</td>\n",
              "      <td>0</td>\n",
              "      <td>6</td>\n",
              "      <td>1</td>\n",
              "    </tr>\n",
              "    <tr>\n",
              "      <th>2</th>\n",
              "      <td>1360</td>\n",
              "      <td>1.103326</td>\n",
              "      <td>0.481092</td>\n",
              "      <td>-0.381574</td>\n",
              "      <td>B1</td>\n",
              "      <td>2</td>\n",
              "      <td>7</td>\n",
              "      <td>2</td>\n",
              "    </tr>\n",
              "    <tr>\n",
              "      <th>3</th>\n",
              "      <td>1363</td>\n",
              "      <td>1.066270</td>\n",
              "      <td>0.448828</td>\n",
              "      <td>-0.016543</td>\n",
              "      <td>Lower GF</td>\n",
              "      <td>2</td>\n",
              "      <td>7</td>\n",
              "      <td>2</td>\n",
              "    </tr>\n",
              "    <tr>\n",
              "      <th>4</th>\n",
              "      <td>1371</td>\n",
              "      <td>-0.736680</td>\n",
              "      <td>0.196870</td>\n",
              "      <td>0.316278</td>\n",
              "      <td>GF</td>\n",
              "      <td>0</td>\n",
              "      <td>6</td>\n",
              "      <td>1</td>\n",
              "    </tr>\n",
              "  </tbody>\n",
              "</table>\n",
              "</div>"
            ],
            "text/plain": [
              "  RoomNum         X         Y  ...  Cluster3 Cluster10  cluster_labels_N\n",
              "0    1332 -0.257665  0.350687  ...         0         6                 0\n",
              "1    1340 -0.482206  0.215106  ...         0         6                 1\n",
              "2    1360  1.103326  0.481092  ...         2         7                 2\n",
              "3    1363  1.066270  0.448828  ...         2         7                 2\n",
              "4    1371 -0.736680  0.196870  ...         0         6                 1\n",
              "\n",
              "[5 rows x 8 columns]"
            ]
          },
          "metadata": {},
          "execution_count": 70
        }
      ]
    },
    {
      "cell_type": "code",
      "metadata": {
        "id": "Hf9piWIEbT7Z",
        "outputId": "750f628b-5601-4380-b351-420a32952f4e",
        "colab": {
          "base_uri": "https://localhost:8080/",
          "height": 298
        }
      },
      "source": [
        "# plots\n",
        "sns.boxplot(x='cluster_labels_N', y='X', data=df_scaled)"
      ],
      "execution_count": null,
      "outputs": [
        {
          "output_type": "execute_result",
          "data": {
            "text/plain": [
              "<matplotlib.axes._subplots.AxesSubplot at 0x7f4888d049d0>"
            ]
          },
          "metadata": {},
          "execution_count": 71
        },
        {
          "output_type": "display_data",
          "data": {
            "image/png": "[encoded data removed]",
            "text/plain": [
              "<Figure size 432x288 with 1 Axes>"
            ]
          },
          "metadata": {
            "needs_background": "light"
          }
        }
      ]
    },
    {
      "cell_type": "code",
      "source": [
        "# plots\n",
        "sns.boxplot(x='cluster_labels_N', y='Y', data=df_scaled)"
      ],
      "metadata": {
        "colab": {
          "base_uri": "https://localhost:8080/",
          "height": 298
        },
        "id": "jakmvyjSQGm0",
        "outputId": "06981e8d-c78b-4453-a2fe-f9dfe64c5074"
      },
      "execution_count": null,
      "outputs": [
        {
          "output_type": "execute_result",
          "data": {
            "text/plain": [
              "<matplotlib.axes._subplots.AxesSubplot at 0x7f4888e8a610>"
            ]
          },
          "metadata": {},
          "execution_count": 72
        },
        {
          "output_type": "display_data",
          "data": {
            "image/png": "[encoded data removed]",
            "text/plain": [
              "<Figure size 432x288 with 1 Axes>"
            ]
          },
          "metadata": {
            "needs_background": "light"
          }
        }
      ]
    },
    {
      "cell_type": "code",
      "source": [
        "# plots\n",
        "sns.boxplot(x='cluster_labels_N', y='Z', data=df_scaled)"
      ],
      "metadata": {
        "colab": {
          "base_uri": "https://localhost:8080/",
          "height": 298
        },
        "id": "vMQyAMV4QGO6",
        "outputId": "e23a6eef-5cbe-4f48-b726-5b3ea7a17358"
      },
      "execution_count": null,
      "outputs": [
        {
          "output_type": "execute_result",
          "data": {
            "text/plain": [
              "<matplotlib.axes._subplots.AxesSubplot at 0x7f4889b6dfd0>"
            ]
          },
          "metadata": {},
          "execution_count": 73
        },
        {
          "output_type": "display_data",
          "data": {
            "image/png": "[encoded data removed]",
            "text/plain": [
              "<Figure size 432x288 with 1 Axes>"
            ]
          },
          "metadata": {
            "needs_background": "light"
          }
        }
      ]
    },
    {
      "cell_type": "markdown",
      "source": [
        "### 5. Modeling GF"
      ],
      "metadata": {
        "id": "QLmms4QqPB-i"
      }
    },
    {
      "cell_type": "code",
      "source": [
        "df_scaled_GF"
      ],
      "metadata": {
        "colab": {
          "base_uri": "https://localhost:8080/",
          "height": 423
        },
        "id": "MULNC1WrQ8oi",
        "outputId": "cf13ca1e-1969-4404-f537-28ae3e92e5b3"
      },
      "execution_count": null,
      "outputs": [
        {
          "output_type": "execute_result",
          "data": {
            "text/html": [
              "<div>\n",
              "<style scoped>\n",
              "    .dataframe tbody tr th:only-of-type {\n",
              "        vertical-align: middle;\n",
              "    }\n",
              "\n",
              "    .dataframe tbody tr th {\n",
              "        vertical-align: top;\n",
              "    }\n",
              "\n",
              "    .dataframe thead th {\n",
              "        text-align: right;\n",
              "    }\n",
              "</style>\n",
              "<table border=\"1\" class=\"dataframe\">\n",
              "  <thead>\n",
              "    <tr style=\"text-align: right;\">\n",
              "      <th></th>\n",
              "      <th>RoomNum</th>\n",
              "      <th>X</th>\n",
              "      <th>Y</th>\n",
              "      <th>Z</th>\n",
              "      <th>Level</th>\n",
              "    </tr>\n",
              "  </thead>\n",
              "  <tbody>\n",
              "    <tr>\n",
              "      <th>0</th>\n",
              "      <td>1332</td>\n",
              "      <td>-0.257665</td>\n",
              "      <td>0.350687</td>\n",
              "      <td>0.316278</td>\n",
              "      <td>GF</td>\n",
              "    </tr>\n",
              "    <tr>\n",
              "      <th>1</th>\n",
              "      <td>1340</td>\n",
              "      <td>-0.482206</td>\n",
              "      <td>0.215106</td>\n",
              "      <td>0.316278</td>\n",
              "      <td>GF</td>\n",
              "    </tr>\n",
              "    <tr>\n",
              "      <th>4</th>\n",
              "      <td>1371</td>\n",
              "      <td>-0.736680</td>\n",
              "      <td>0.196870</td>\n",
              "      <td>0.316278</td>\n",
              "      <td>GF</td>\n",
              "    </tr>\n",
              "    <tr>\n",
              "      <th>6</th>\n",
              "      <td>1374</td>\n",
              "      <td>-0.216050</td>\n",
              "      <td>0.200394</td>\n",
              "      <td>0.316278</td>\n",
              "      <td>GF</td>\n",
              "    </tr>\n",
              "    <tr>\n",
              "      <th>7</th>\n",
              "      <td>1375</td>\n",
              "      <td>-0.370032</td>\n",
              "      <td>0.218016</td>\n",
              "      <td>0.316278</td>\n",
              "      <td>GF</td>\n",
              "    </tr>\n",
              "    <tr>\n",
              "      <th>...</th>\n",
              "      <td>...</td>\n",
              "      <td>...</td>\n",
              "      <td>...</td>\n",
              "      <td>...</td>\n",
              "      <td>...</td>\n",
              "    </tr>\n",
              "    <tr>\n",
              "      <th>994</th>\n",
              "      <td>3846</td>\n",
              "      <td>-0.307667</td>\n",
              "      <td>-0.353882</td>\n",
              "      <td>0.785986</td>\n",
              "      <td>GF</td>\n",
              "    </tr>\n",
              "    <tr>\n",
              "      <th>995</th>\n",
              "      <td>3846</td>\n",
              "      <td>-0.186106</td>\n",
              "      <td>-0.353882</td>\n",
              "      <td>0.785986</td>\n",
              "      <td>GF</td>\n",
              "    </tr>\n",
              "    <tr>\n",
              "      <th>997</th>\n",
              "      <td>3848</td>\n",
              "      <td>0.062303</td>\n",
              "      <td>-0.353882</td>\n",
              "      <td>0.785986</td>\n",
              "      <td>GF</td>\n",
              "    </tr>\n",
              "    <tr>\n",
              "      <th>1013</th>\n",
              "      <td>3855</td>\n",
              "      <td>0.551713</td>\n",
              "      <td>0.007060</td>\n",
              "      <td>-0.016543</td>\n",
              "      <td>GF</td>\n",
              "    </tr>\n",
              "    <tr>\n",
              "      <th>1067</th>\n",
              "      <td>3907</td>\n",
              "      <td>-1.579547</td>\n",
              "      <td>-0.222752</td>\n",
              "      <td>-0.381574</td>\n",
              "      <td>GF</td>\n",
              "    </tr>\n",
              "  </tbody>\n",
              "</table>\n",
              "<p>119 rows × 5 columns</p>\n",
              "</div>"
            ],
            "text/plain": [
              "     RoomNum         X         Y         Z Level\n",
              "0       1332 -0.257665  0.350687  0.316278    GF\n",
              "1       1340 -0.482206  0.215106  0.316278    GF\n",
              "4       1371 -0.736680  0.196870  0.316278    GF\n",
              "6       1374 -0.216050  0.200394  0.316278    GF\n",
              "7       1375 -0.370032  0.218016  0.316278    GF\n",
              "...      ...       ...       ...       ...   ...\n",
              "994     3846 -0.307667 -0.353882  0.785986    GF\n",
              "995     3846 -0.186106 -0.353882  0.785986    GF\n",
              "997     3848  0.062303 -0.353882  0.785986    GF\n",
              "1013    3855  0.551713  0.007060 -0.016543    GF\n",
              "1067    3907 -1.579547 -0.222752 -0.381574    GF\n",
              "\n",
              "[119 rows x 5 columns]"
            ]
          },
          "metadata": {},
          "execution_count": 75
        }
      ]
    },
    {
      "cell_type": "code",
      "metadata": {
        "outputId": "46fd195f-804f-41ba-a33e-6a6309e6d4fa",
        "colab": {
          "base_uri": "https://localhost:8080/"
        },
        "id": "gOePUdVnQZhO"
      },
      "source": [
        "# k-means with some arbitrary k\n",
        "kmeans = KMeans(n_clusters=6, max_iter=50)\n",
        "kmeans.fit(df_scaled_GF[['X','Y']])"
      ],
      "execution_count": null,
      "outputs": [
        {
          "output_type": "execute_result",
          "data": {
            "text/plain": [
              "KMeans(max_iter=50, n_clusters=6)"
            ]
          },
          "metadata": {},
          "execution_count": 76
        }
      ]
    },
    {
      "cell_type": "code",
      "metadata": {
        "outputId": "f71d473a-2d4c-4a61-97ef-72d209333bfd",
        "colab": {
          "base_uri": "https://localhost:8080/"
        },
        "id": "WhHzuLZCQZhO"
      },
      "source": [
        "kmeans.labels_"
      ],
      "execution_count": null,
      "outputs": [
        {
          "output_type": "execute_result",
          "data": {
            "text/plain": [
              "array([5, 5, 1, 5, 5, 1, 1, 1, 1, 1, 0, 1, 4, 2, 1, 3, 4, 5, 5, 1, 1, 1,\n",
              "       2, 1, 1, 1, 1, 5, 5, 5, 2, 2, 4, 4, 1, 3, 3, 3, 3, 3, 3, 3, 3, 3,\n",
              "       3, 0, 2, 1, 1, 0, 0, 0, 0, 4, 2, 2, 5, 3, 4, 5, 3, 5, 0, 2, 2, 0,\n",
              "       2, 2, 0, 2, 2, 2, 2, 2, 5, 2, 2, 3, 4, 4, 4, 3, 4, 1, 0, 1, 0, 2,\n",
              "       1, 2, 4, 1, 5, 2, 2, 2, 4, 0, 0, 1, 2, 2, 2, 1, 1, 1, 2, 0, 2, 2,\n",
              "       2, 1, 1, 2, 4, 4, 4, 0, 3], dtype=int32)"
            ]
          },
          "metadata": {},
          "execution_count": 77
        }
      ]
    },
    {
      "cell_type": "code",
      "source": [
        "df_scaled_GF.insert(5,'Cluster5',kmeans.labels_)\n"
      ],
      "metadata": {
        "id": "otleIizxQZhO"
      },
      "execution_count": null,
      "outputs": []
    },
    {
      "cell_type": "code",
      "source": [
        "df_scaled_GF.head()"
      ],
      "metadata": {
        "colab": {
          "base_uri": "https://localhost:8080/",
          "height": 206
        },
        "id": "Rc4Ri7n6RFFp",
        "outputId": "e5d143a2-26f3-4957-a9bf-57235f1e277b"
      },
      "execution_count": null,
      "outputs": [
        {
          "output_type": "execute_result",
          "data": {
            "text/html": [
              "<div>\n",
              "<style scoped>\n",
              "    .dataframe tbody tr th:only-of-type {\n",
              "        vertical-align: middle;\n",
              "    }\n",
              "\n",
              "    .dataframe tbody tr th {\n",
              "        vertical-align: top;\n",
              "    }\n",
              "\n",
              "    .dataframe thead th {\n",
              "        text-align: right;\n",
              "    }\n",
              "</style>\n",
              "<table border=\"1\" class=\"dataframe\">\n",
              "  <thead>\n",
              "    <tr style=\"text-align: right;\">\n",
              "      <th></th>\n",
              "      <th>RoomNum</th>\n",
              "      <th>X</th>\n",
              "      <th>Y</th>\n",
              "      <th>Z</th>\n",
              "      <th>Level</th>\n",
              "      <th>Cluster5</th>\n",
              "    </tr>\n",
              "  </thead>\n",
              "  <tbody>\n",
              "    <tr>\n",
              "      <th>0</th>\n",
              "      <td>1332</td>\n",
              "      <td>-0.257665</td>\n",
              "      <td>0.350687</td>\n",
              "      <td>0.316278</td>\n",
              "      <td>GF</td>\n",
              "      <td>5</td>\n",
              "    </tr>\n",
              "    <tr>\n",
              "      <th>1</th>\n",
              "      <td>1340</td>\n",
              "      <td>-0.482206</td>\n",
              "      <td>0.215106</td>\n",
              "      <td>0.316278</td>\n",
              "      <td>GF</td>\n",
              "      <td>5</td>\n",
              "    </tr>\n",
              "    <tr>\n",
              "      <th>4</th>\n",
              "      <td>1371</td>\n",
              "      <td>-0.736680</td>\n",
              "      <td>0.196870</td>\n",
              "      <td>0.316278</td>\n",
              "      <td>GF</td>\n",
              "      <td>1</td>\n",
              "    </tr>\n",
              "    <tr>\n",
              "      <th>6</th>\n",
              "      <td>1374</td>\n",
              "      <td>-0.216050</td>\n",
              "      <td>0.200394</td>\n",
              "      <td>0.316278</td>\n",
              "      <td>GF</td>\n",
              "      <td>5</td>\n",
              "    </tr>\n",
              "    <tr>\n",
              "      <th>7</th>\n",
              "      <td>1375</td>\n",
              "      <td>-0.370032</td>\n",
              "      <td>0.218016</td>\n",
              "      <td>0.316278</td>\n",
              "      <td>GF</td>\n",
              "      <td>5</td>\n",
              "    </tr>\n",
              "  </tbody>\n",
              "</table>\n",
              "</div>"
            ],
            "text/plain": [
              "  RoomNum         X         Y         Z Level  Cluster5\n",
              "0    1332 -0.257665  0.350687  0.316278    GF         5\n",
              "1    1340 -0.482206  0.215106  0.316278    GF         5\n",
              "4    1371 -0.736680  0.196870  0.316278    GF         1\n",
              "6    1374 -0.216050  0.200394  0.316278    GF         5\n",
              "7    1375 -0.370032  0.218016  0.316278    GF         5"
            ]
          },
          "metadata": {},
          "execution_count": 79
        }
      ]
    },
    {
      "cell_type": "code",
      "source": [
        "df_scaled_GF[df_scaled_GF.Cluster5 == 2].RoomNum"
      ],
      "metadata": {
        "colab": {
          "base_uri": "https://localhost:8080/"
        },
        "outputId": "40af9302-02f7-4120-bae7-ad3d55d09ae0",
        "id": "texNykYyQZhO"
      },
      "execution_count": null,
      "outputs": [
        {
          "output_type": "execute_result",
          "data": {
            "text/plain": [
              "82       2232\n",
              "217      3513\n",
              "297      3572\n",
              "300      3577\n",
              "421      3625\n",
              "458      3179\n",
              "461      2916\n",
              "557      3302\n",
              "558      3303\n",
              "560    13.LGF\n",
              "562      3308\n",
              "588      3340\n",
              "589    10.LGF\n",
              "590      3342\n",
              "591      3343\n",
              "592      3344\n",
              "595      3346\n",
              "596      3347\n",
              "644      3407\n",
              "698      3489\n",
              "784      3662\n",
              "785      3663\n",
              "786      3665\n",
              "797      3676\n",
              "820      3697\n",
              "822      3699\n",
              "855      3722\n",
              "874      3737\n",
              "889      3755\n",
              "927      3786\n",
              "965      3818\n",
              "Name: RoomNum, dtype: string"
            ]
          },
          "metadata": {},
          "execution_count": 80
        }
      ]
    },
    {
      "cell_type": "code",
      "source": [
        "df_scaled_GF[df_scaled_GF.Cluster5 == 1].RoomNum"
      ],
      "metadata": {
        "colab": {
          "base_uri": "https://localhost:8080/"
        },
        "outputId": "ace27f0b-171a-4839-db8d-56a65b3494e6",
        "id": "ytZAri51QZhP"
      },
      "execution_count": null,
      "outputs": [
        {
          "output_type": "execute_result",
          "data": {
            "text/plain": [
              "4        1371\n",
              "49      9.LGF\n",
              "50      1.LGF\n",
              "51     15.LGF\n",
              "52       1671\n",
              "53       1677\n",
              "73       2057\n",
              "107      1389\n",
              "148    11.LGF\n",
              "149      2958\n",
              "191      3507\n",
              "218      3588\n",
              "219      3143\n",
              "220      3144\n",
              "221      3146\n",
              "328      2799\n",
              "422      3627\n",
              "423      3630\n",
              "617      3371\n",
              "633      3395\n",
              "697      3487\n",
              "749      3612\n",
              "796      3675\n",
              "828      3701\n",
              "829      3702\n",
              "830      3704\n",
              "932      3793\n",
              "953      3814\n",
              "Name: RoomNum, dtype: string"
            ]
          },
          "metadata": {},
          "execution_count": 81
        }
      ]
    },
    {
      "cell_type": "code",
      "metadata": {
        "outputId": "9a833916-d406-44b4-c720-2cb8e618ce65",
        "colab": {
          "base_uri": "https://localhost:8080/",
          "height": 282
        },
        "id": "C0NUmgo3QffO"
      },
      "source": [
        "# elbow-curve/SSD\n",
        "ssd = []\n",
        "range_n_clusters = [2, 3, 4, 5, 6, 7, 8,9,10,11,12,13,14,15]\n",
        "for num_clusters in range_n_clusters:\n",
        "    kmeans = KMeans(n_clusters=num_clusters, max_iter=50)\n",
        "    kmeans.fit(df_scaled_GF[['X','Y']])\n",
        "    \n",
        "    ssd.append(kmeans.inertia_)\n",
        "    \n",
        "# plot the SSDs for each n_clusters\n",
        "# ssd\n",
        "plt.plot(ssd)"
      ],
      "execution_count": null,
      "outputs": [
        {
          "output_type": "execute_result",
          "data": {
            "text/plain": [
              "[<matplotlib.lines.Line2D at 0x7f4889668590>]"
            ]
          },
          "metadata": {},
          "execution_count": 82
        },
        {
          "output_type": "display_data",
          "data": {
            "image/png": "[encoded data removed]",
            "text/plain": [
              "<Figure size 432x288 with 1 Axes>"
            ]
          },
          "metadata": {
            "needs_background": "light"
          }
        }
      ]
    },
    {
      "cell_type": "markdown",
      "metadata": {
        "id": "HcwccqlpQffP"
      },
      "source": [
        "### Silhouette Analysis\n",
        "\n",
        "$$\\text{silhouette score}=\\frac{p-q}{max(p,q)}$$\n",
        "\n",
        "$p$ is the mean distance to the points in the nearest cluster that the data point is not a part of\n",
        "\n",
        "$q$ is the mean intra-cluster distance to all the points in its own cluster.\n",
        "\n",
        "* The value of the silhouette score range lies between -1 to 1. \n",
        "\n",
        "* A score closer to 1 indicates that the data point is very similar to other data points in the cluster, \n",
        "\n",
        "* A score closer to -1 indicates that the data point is not similar to the data points in its cluster."
      ]
    },
    {
      "cell_type": "code",
      "metadata": {
        "outputId": "7654600e-26f2-40a4-dd02-7602a6f4781f",
        "colab": {
          "base_uri": "https://localhost:8080/"
        },
        "id": "KlhSwz1tQffP"
      },
      "source": [
        "# silhouette analysis\n",
        "range_n_clusters = [2, 3, 4, 5, 6, 7, 8,9,10,112,12,13]\n",
        "\n",
        "for num_clusters in range_n_clusters:\n",
        "    \n",
        "    # intialise kmeans\n",
        "    kmeans = KMeans(n_clusters=num_clusters, max_iter=50)\n",
        "    kmeans.fit(df_scaled_GF[['X','Y']])\n",
        "    \n",
        "    cluster_labels = kmeans.labels_\n",
        "    \n",
        "    # silhouette score\n",
        "    silhouette_avg = silhouette_score(df_scaled_GF[['X','Y']], cluster_labels)\n",
        "    print(\"For n_clusters={0}, the silhouette score is {1}\".format(num_clusters, silhouette_avg))\n",
        "    \n",
        "    "
      ],
      "execution_count": null,
      "outputs": [
        {
          "output_type": "stream",
          "name": "stdout",
          "text": [
            "For n_clusters=2, the silhouette score is 0.6284347407028719\n",
            "For n_clusters=3, the silhouette score is 0.5301173100411657\n",
            "For n_clusters=4, the silhouette score is 0.48102125101189985\n",
            "For n_clusters=5, the silhouette score is 0.46778556150278733\n",
            "For n_clusters=6, the silhouette score is 0.49957460541118204\n",
            "For n_clusters=7, the silhouette score is 0.5020475957340604\n",
            "For n_clusters=8, the silhouette score is 0.5034735457396031\n",
            "For n_clusters=9, the silhouette score is 0.4767460699221655\n",
            "For n_clusters=10, the silhouette score is 0.5187749202497014\n",
            "For n_clusters=112, the silhouette score is 0.09838510613257986\n",
            "For n_clusters=12, the silhouette score is 0.4817203866255958\n",
            "For n_clusters=13, the silhouette score is 0.49831310614259133\n"
          ]
        }
      ]
    },
    {
      "cell_type": "markdown",
      "metadata": {
        "id": "_6C48ZVLQnMU"
      },
      "source": [
        "## Hierarchical Clustering"
      ]
    },
    {
      "cell_type": "code",
      "metadata": {
        "outputId": "01017762-5cd1-4361-ea78-6a82a2f652c0",
        "colab": {
          "base_uri": "https://localhost:8080/",
          "height": 206
        },
        "id": "cYJ8-7W0QnMU"
      },
      "source": [
        "df_scaled_GF.head()"
      ],
      "execution_count": null,
      "outputs": [
        {
          "output_type": "execute_result",
          "data": {
            "text/html": [
              "<div>\n",
              "<style scoped>\n",
              "    .dataframe tbody tr th:only-of-type {\n",
              "        vertical-align: middle;\n",
              "    }\n",
              "\n",
              "    .dataframe tbody tr th {\n",
              "        vertical-align: top;\n",
              "    }\n",
              "\n",
              "    .dataframe thead th {\n",
              "        text-align: right;\n",
              "    }\n",
              "</style>\n",
              "<table border=\"1\" class=\"dataframe\">\n",
              "  <thead>\n",
              "    <tr style=\"text-align: right;\">\n",
              "      <th></th>\n",
              "      <th>RoomNum</th>\n",
              "      <th>X</th>\n",
              "      <th>Y</th>\n",
              "      <th>Z</th>\n",
              "      <th>Level</th>\n",
              "      <th>Cluster5</th>\n",
              "    </tr>\n",
              "  </thead>\n",
              "  <tbody>\n",
              "    <tr>\n",
              "      <th>0</th>\n",
              "      <td>1332</td>\n",
              "      <td>-0.257665</td>\n",
              "      <td>0.350687</td>\n",
              "      <td>0.316278</td>\n",
              "      <td>GF</td>\n",
              "      <td>5</td>\n",
              "    </tr>\n",
              "    <tr>\n",
              "      <th>1</th>\n",
              "      <td>1340</td>\n",
              "      <td>-0.482206</td>\n",
              "      <td>0.215106</td>\n",
              "      <td>0.316278</td>\n",
              "      <td>GF</td>\n",
              "      <td>5</td>\n",
              "    </tr>\n",
              "    <tr>\n",
              "      <th>4</th>\n",
              "      <td>1371</td>\n",
              "      <td>-0.736680</td>\n",
              "      <td>0.196870</td>\n",
              "      <td>0.316278</td>\n",
              "      <td>GF</td>\n",
              "      <td>1</td>\n",
              "    </tr>\n",
              "    <tr>\n",
              "      <th>6</th>\n",
              "      <td>1374</td>\n",
              "      <td>-0.216050</td>\n",
              "      <td>0.200394</td>\n",
              "      <td>0.316278</td>\n",
              "      <td>GF</td>\n",
              "      <td>5</td>\n",
              "    </tr>\n",
              "    <tr>\n",
              "      <th>7</th>\n",
              "      <td>1375</td>\n",
              "      <td>-0.370032</td>\n",
              "      <td>0.218016</td>\n",
              "      <td>0.316278</td>\n",
              "      <td>GF</td>\n",
              "      <td>5</td>\n",
              "    </tr>\n",
              "  </tbody>\n",
              "</table>\n",
              "</div>"
            ],
            "text/plain": [
              "  RoomNum         X         Y         Z Level  Cluster5\n",
              "0    1332 -0.257665  0.350687  0.316278    GF         5\n",
              "1    1340 -0.482206  0.215106  0.316278    GF         5\n",
              "4    1371 -0.736680  0.196870  0.316278    GF         1\n",
              "6    1374 -0.216050  0.200394  0.316278    GF         5\n",
              "7    1375 -0.370032  0.218016  0.316278    GF         5"
            ]
          },
          "metadata": {},
          "execution_count": 85
        }
      ]
    },
    {
      "cell_type": "code",
      "source": [
        "df_scaled_GF.info()"
      ],
      "metadata": {
        "colab": {
          "base_uri": "https://localhost:8080/"
        },
        "id": "2lIHjj2epdNF",
        "outputId": "3f33ca01-bbd5-4ee2-9f5c-223ad130aecb"
      },
      "execution_count": null,
      "outputs": [
        {
          "output_type": "stream",
          "name": "stdout",
          "text": [
            "<class 'pandas.core.frame.DataFrame'>\n",
            "Int64Index: 119 entries, 0 to 1067\n",
            "Data columns (total 6 columns):\n",
            " #   Column    Non-Null Count  Dtype  \n",
            "---  ------    --------------  -----  \n",
            " 0   RoomNum   119 non-null    string \n",
            " 1   X         119 non-null    float64\n",
            " 2   Y         119 non-null    float64\n",
            " 3   Z         119 non-null    float64\n",
            " 4   Level     119 non-null    object \n",
            " 5   Cluster5  119 non-null    int32  \n",
            "dtypes: float64(3), int32(1), object(1), string(1)\n",
            "memory usage: 6.0+ KB\n"
          ]
        }
      ]
    },
    {
      "cell_type": "code",
      "metadata": {
        "outputId": "096c29d5-3262-432d-f421-7f3f715f06e3",
        "colab": {
          "base_uri": "https://localhost:8080/",
          "height": 591
        },
        "id": "EfYbCQa9QnMU"
      },
      "source": [
        "# single linkage\n",
        "plt.figure(figsize=(20,10))\n",
        "\n",
        "mergings = linkage(df_scaled_GF[['X','Y']], method=\"single\", metric='euclidean')\n",
        "dendrogram(mergings)\n",
        "\n",
        "plt.xticks(rotation  = 90)\n",
        "plt.show()"
      ],
      "execution_count": null,
      "outputs": [
        {
          "output_type": "display_data",
          "data": {
            "image/png": "[encoded data removed]",
            "text/plain": [
              "<Figure size 1440x720 with 1 Axes>"
            ]
          },
          "metadata": {
            "needs_background": "light"
          }
        }
      ]
    },
    {
      "cell_type": "code",
      "metadata": {
        "outputId": "3bb0a18e-dca9-44e9-f9be-3751b639958e",
        "colab": {
          "base_uri": "https://localhost:8080/",
          "height": 591
        },
        "id": "c48C485SQnMV"
      },
      "source": [
        "# complete linkage\n",
        "plt.figure(figsize=(20,10))\n",
        "mergings = linkage(df_scaled_GF[['X','Y']], method=\"complete\", metric='euclidean')\n",
        "dendrogram(mergings)\n",
        "\n",
        "\n",
        "plt.xticks(rotation  = 90)\n",
        "plt.show()\n"
      ],
      "execution_count": null,
      "outputs": [
        {
          "output_type": "display_data",
          "data": {
            "image/png": "[encoded data removed]",
            "text/plain": [
              "<Figure size 1440x720 with 1 Axes>"
            ]
          },
          "metadata": {
            "needs_background": "light"
          }
        }
      ]
    },
    {
      "cell_type": "code",
      "source": [
        "mergings.labels()"
      ],
      "metadata": {
        "colab": {
          "base_uri": "https://localhost:8080/",
          "height": 165
        },
        "id": "U38FLrc9oZnq",
        "outputId": "d40b1aa9-1f35-4e75-d9cf-7845f43002bc"
      },
      "execution_count": null,
      "outputs": [
        {
          "output_type": "error",
          "ename": "AttributeError",
          "evalue": "ignored",
          "traceback": [
            "\u001b[0;31m---------------------------------------------------------------------------\u001b[0m",
            "\u001b[0;31mAttributeError\u001b[0m                            Traceback (most recent call last)",
            "\u001b[0;32m<ipython-input-91-b2ee8e12805c>\u001b[0m in \u001b[0;36m<module>\u001b[0;34m()\u001b[0m\n\u001b[0;32m----> 1\u001b[0;31m \u001b[0mmergings\u001b[0m\u001b[0;34m.\u001b[0m\u001b[0mlabels\u001b[0m\u001b[0;34m(\u001b[0m\u001b[0;34m)\u001b[0m\u001b[0;34m\u001b[0m\u001b[0;34m\u001b[0m\u001b[0m\n\u001b[0m",
            "\u001b[0;31mAttributeError\u001b[0m: 'numpy.ndarray' object has no attribute 'labels'"
          ]
        }
      ]
    },
    {
      "cell_type": "code",
      "metadata": {
        "outputId": "2df8de7f-6f0e-4445-c134-13c5f6ec37d4",
        "colab": {
          "base_uri": "https://localhost:8080/"
        },
        "id": "J-Na3clDQnMV"
      },
      "source": [
        "# 3 clusters\n",
        "cluster_labels = cut_tree(mergings, n_clusters=4).reshape(-1, )\n",
        "cluster_labels"
      ],
      "execution_count": null,
      "outputs": [
        {
          "output_type": "execute_result",
          "data": {
            "text/plain": [
              "array([0, 0, 1, 0, 0, 1, 1, 1, 1, 1, 2, 1, 0, 3, 1, 1, 0, 0, 2, 1, 1, 1,\n",
              "       3, 1, 1, 1, 1, 0, 0, 0, 3, 3, 0, 0, 1, 1, 1, 1, 1, 1, 1, 1, 1, 1,\n",
              "       1, 2, 3, 1, 1, 2, 2, 2, 2, 0, 3, 3, 0, 1, 0, 0, 1, 0, 2, 3, 3, 2,\n",
              "       3, 3, 2, 3, 3, 3, 3, 3, 0, 3, 3, 1, 0, 0, 0, 1, 0, 1, 2, 1, 2, 3,\n",
              "       1, 3, 0, 1, 0, 3, 3, 3, 0, 2, 2, 1, 3, 3, 3, 1, 1, 1, 3, 2, 3, 3,\n",
              "       3, 1, 1, 3, 0, 0, 0, 2, 1])"
            ]
          },
          "metadata": {},
          "execution_count": 373
        }
      ]
    },
    {
      "cell_type": "code",
      "metadata": {
        "outputId": "7ade1366-3a84-4763-adcb-e73c8022b3ce",
        "colab": {
          "base_uri": "https://localhost:8080/",
          "height": 310
        },
        "id": "7Nfidu0rQnMV"
      },
      "source": [
        "# assign cluster labels\n",
        "df_scaled_GF['cluster_labels4'] = cluster_labels\n",
        "df_scaled_GF.head()"
      ],
      "execution_count": null,
      "outputs": [
        {
          "output_type": "stream",
          "name": "stderr",
          "text": [
            "/usr/local/lib/python3.7/dist-packages/ipykernel_launcher.py:2: SettingWithCopyWarning: \n",
            "A value is trying to be set on a copy of a slice from a DataFrame.\n",
            "Try using .loc[row_indexer,col_indexer] = value instead\n",
            "\n",
            "See the caveats in the documentation: https://pandas.pydata.org/pandas-docs/stable/user_guide/indexing.html#returning-a-view-versus-a-copy\n",
            "  \n"
          ]
        },
        {
          "output_type": "execute_result",
          "data": {
            "text/html": [
              "<div>\n",
              "<style scoped>\n",
              "    .dataframe tbody tr th:only-of-type {\n",
              "        vertical-align: middle;\n",
              "    }\n",
              "\n",
              "    .dataframe tbody tr th {\n",
              "        vertical-align: top;\n",
              "    }\n",
              "\n",
              "    .dataframe thead th {\n",
              "        text-align: right;\n",
              "    }\n",
              "</style>\n",
              "<table border=\"1\" class=\"dataframe\">\n",
              "  <thead>\n",
              "    <tr style=\"text-align: right;\">\n",
              "      <th></th>\n",
              "      <th>RoomNum</th>\n",
              "      <th>X</th>\n",
              "      <th>Y</th>\n",
              "      <th>Z</th>\n",
              "      <th>Level</th>\n",
              "      <th>Cluster5</th>\n",
              "      <th>cluster_labels4</th>\n",
              "    </tr>\n",
              "  </thead>\n",
              "  <tbody>\n",
              "    <tr>\n",
              "      <th>0</th>\n",
              "      <td>1332</td>\n",
              "      <td>-0.257665</td>\n",
              "      <td>0.350687</td>\n",
              "      <td>0.316278</td>\n",
              "      <td>GF</td>\n",
              "      <td>5</td>\n",
              "      <td>6</td>\n",
              "    </tr>\n",
              "    <tr>\n",
              "      <th>1</th>\n",
              "      <td>1340</td>\n",
              "      <td>-0.482206</td>\n",
              "      <td>0.215106</td>\n",
              "      <td>0.316278</td>\n",
              "      <td>GF</td>\n",
              "      <td>5</td>\n",
              "      <td>6</td>\n",
              "    </tr>\n",
              "    <tr>\n",
              "      <th>4</th>\n",
              "      <td>1371</td>\n",
              "      <td>-0.736680</td>\n",
              "      <td>0.196870</td>\n",
              "      <td>0.316278</td>\n",
              "      <td>GF</td>\n",
              "      <td>1</td>\n",
              "      <td>2</td>\n",
              "    </tr>\n",
              "    <tr>\n",
              "      <th>6</th>\n",
              "      <td>1374</td>\n",
              "      <td>-0.216050</td>\n",
              "      <td>0.200394</td>\n",
              "      <td>0.316278</td>\n",
              "      <td>GF</td>\n",
              "      <td>5</td>\n",
              "      <td>6</td>\n",
              "    </tr>\n",
              "    <tr>\n",
              "      <th>7</th>\n",
              "      <td>1375</td>\n",
              "      <td>-0.370032</td>\n",
              "      <td>0.218016</td>\n",
              "      <td>0.316278</td>\n",
              "      <td>GF</td>\n",
              "      <td>5</td>\n",
              "      <td>6</td>\n",
              "    </tr>\n",
              "  </tbody>\n",
              "</table>\n",
              "</div>"
            ],
            "text/plain": [
              "  RoomNum         X         Y         Z Level  Cluster5  cluster_labels4\n",
              "0    1332 -0.257665  0.350687  0.316278    GF         5                6\n",
              "1    1340 -0.482206  0.215106  0.316278    GF         5                6\n",
              "4    1371 -0.736680  0.196870  0.316278    GF         1                2\n",
              "6    1374 -0.216050  0.200394  0.316278    GF         5                6\n",
              "7    1375 -0.370032  0.218016  0.316278    GF         5                6"
            ]
          },
          "metadata": {},
          "execution_count": 95
        }
      ]
    },
    {
      "cell_type": "code",
      "source": [
        "# assign Room labels\n",
        "df_scaled_GF['Room_labels'] = Room_labels\n",
        "df_scaled_GF.head()"
      ],
      "metadata": {
        "colab": {
          "base_uri": "https://localhost:8080/",
          "height": 310
        },
        "id": "3rqSAbZqp2-_",
        "outputId": "f7b92dfe-7b86-48eb-be15-f79b2fb0aa70"
      },
      "execution_count": null,
      "outputs": [
        {
          "output_type": "stream",
          "name": "stderr",
          "text": [
            "/usr/local/lib/python3.7/dist-packages/ipykernel_launcher.py:2: SettingWithCopyWarning: \n",
            "A value is trying to be set on a copy of a slice from a DataFrame.\n",
            "Try using .loc[row_indexer,col_indexer] = value instead\n",
            "\n",
            "See the caveats in the documentation: https://pandas.pydata.org/pandas-docs/stable/user_guide/indexing.html#returning-a-view-versus-a-copy\n",
            "  \n"
          ]
        },
        {
          "output_type": "execute_result",
          "data": {
            "text/html": [
              "<div>\n",
              "<style scoped>\n",
              "    .dataframe tbody tr th:only-of-type {\n",
              "        vertical-align: middle;\n",
              "    }\n",
              "\n",
              "    .dataframe tbody tr th {\n",
              "        vertical-align: top;\n",
              "    }\n",
              "\n",
              "    .dataframe thead th {\n",
              "        text-align: right;\n",
              "    }\n",
              "</style>\n",
              "<table border=\"1\" class=\"dataframe\">\n",
              "  <thead>\n",
              "    <tr style=\"text-align: right;\">\n",
              "      <th></th>\n",
              "      <th>RoomNum</th>\n",
              "      <th>X</th>\n",
              "      <th>Y</th>\n",
              "      <th>Z</th>\n",
              "      <th>Level</th>\n",
              "      <th>Cluster5</th>\n",
              "      <th>cluster_labels4</th>\n",
              "      <th>Room_labels</th>\n",
              "    </tr>\n",
              "  </thead>\n",
              "  <tbody>\n",
              "    <tr>\n",
              "      <th>0</th>\n",
              "      <td>1332</td>\n",
              "      <td>-0.257665</td>\n",
              "      <td>0.350687</td>\n",
              "      <td>0.316278</td>\n",
              "      <td>GF</td>\n",
              "      <td>5</td>\n",
              "      <td>6</td>\n",
              "      <td>0</td>\n",
              "    </tr>\n",
              "    <tr>\n",
              "      <th>1</th>\n",
              "      <td>1340</td>\n",
              "      <td>-0.482206</td>\n",
              "      <td>0.215106</td>\n",
              "      <td>0.316278</td>\n",
              "      <td>GF</td>\n",
              "      <td>5</td>\n",
              "      <td>6</td>\n",
              "      <td>1</td>\n",
              "    </tr>\n",
              "    <tr>\n",
              "      <th>4</th>\n",
              "      <td>1371</td>\n",
              "      <td>-0.736680</td>\n",
              "      <td>0.196870</td>\n",
              "      <td>0.316278</td>\n",
              "      <td>GF</td>\n",
              "      <td>1</td>\n",
              "      <td>2</td>\n",
              "      <td>2</td>\n",
              "    </tr>\n",
              "    <tr>\n",
              "      <th>6</th>\n",
              "      <td>1374</td>\n",
              "      <td>-0.216050</td>\n",
              "      <td>0.200394</td>\n",
              "      <td>0.316278</td>\n",
              "      <td>GF</td>\n",
              "      <td>5</td>\n",
              "      <td>6</td>\n",
              "      <td>3</td>\n",
              "    </tr>\n",
              "    <tr>\n",
              "      <th>7</th>\n",
              "      <td>1375</td>\n",
              "      <td>-0.370032</td>\n",
              "      <td>0.218016</td>\n",
              "      <td>0.316278</td>\n",
              "      <td>GF</td>\n",
              "      <td>5</td>\n",
              "      <td>6</td>\n",
              "      <td>4</td>\n",
              "    </tr>\n",
              "  </tbody>\n",
              "</table>\n",
              "</div>"
            ],
            "text/plain": [
              "  RoomNum         X         Y  ...  Cluster5 cluster_labels4  Room_labels\n",
              "0    1332 -0.257665  0.350687  ...         5               6            0\n",
              "1    1340 -0.482206  0.215106  ...         5               6            1\n",
              "4    1371 -0.736680  0.196870  ...         1               2            2\n",
              "6    1374 -0.216050  0.200394  ...         5               6            3\n",
              "7    1375 -0.370032  0.218016  ...         5               6            4\n",
              "\n",
              "[5 rows x 8 columns]"
            ]
          },
          "metadata": {},
          "execution_count": 96
        }
      ]
    },
    {
      "cell_type": "code",
      "metadata": {
        "outputId": "9d33ed00-720e-4e5a-ab99-321263a4127f",
        "colab": {
          "base_uri": "https://localhost:8080/",
          "height": 297
        },
        "id": "xccBhZyvQnMV"
      },
      "source": [
        "# plots\n",
        "sns.boxplot(x='cluster_labels4', y='X', data=df_scaled_GF)"
      ],
      "execution_count": null,
      "outputs": [
        {
          "output_type": "execute_result",
          "data": {
            "text/plain": [
              "<matplotlib.axes._subplots.AxesSubplot at 0x7f02ebc16290>"
            ]
          },
          "metadata": {},
          "execution_count": 375
        },
        {
          "output_type": "display_data",
          "data": {
            "image/png": "[encoded data removed]",
            "text/plain": [
              "<Figure size 432x288 with 1 Axes>"
            ]
          },
          "metadata": {
            "needs_background": "light"
          }
        }
      ]
    },
    {
      "cell_type": "code",
      "source": [
        "# plots\n",
        "sns.boxplot(x='cluster_labels4', y='Y', data=df_scaled_GF)"
      ],
      "metadata": {
        "colab": {
          "base_uri": "https://localhost:8080/",
          "height": 301
        },
        "outputId": "3da73f56-d0cd-4a9c-b30d-8ec16fadb3d8",
        "id": "sOk-UGO9QnMV"
      },
      "execution_count": null,
      "outputs": [
        {
          "output_type": "execute_result",
          "data": {
            "text/plain": [
              "<matplotlib.axes._subplots.AxesSubplot at 0x7f02eb4f9a90>"
            ]
          },
          "metadata": {},
          "execution_count": 376
        },
        {
          "output_type": "display_data",
          "data": {
            "image/png": "[encoded data removed]",
            "text/plain": [
              "<Figure size 432x288 with 1 Axes>"
            ]
          },
          "metadata": {
            "needs_background": "light"
          }
        }
      ]
    },
    {
      "cell_type": "code",
      "source": [
        "# plots\n",
        "sns.boxplot(x='cluster_labels4', y='Z', data=df_scaled_GF)"
      ],
      "metadata": {
        "colab": {
          "base_uri": "https://localhost:8080/",
          "height": 297
        },
        "outputId": "f739db03-07ec-4f4d-fc82-1071ba5b0fb1",
        "id": "95KpE9K-QnMV"
      },
      "execution_count": null,
      "outputs": [
        {
          "output_type": "execute_result",
          "data": {
            "text/plain": [
              "<matplotlib.axes._subplots.AxesSubplot at 0x7f02eb32b410>"
            ]
          },
          "metadata": {},
          "execution_count": 377
        },
        {
          "output_type": "display_data",
          "data": {
            "image/png": "[encoded data removed]",
            "text/plain": [
              "<Figure size 432x288 with 1 Axes>"
            ]
          },
          "metadata": {
            "needs_background": "light"
          }
        }
      ]
    },
    {
      "cell_type": "code",
      "source": [
        "# import numpy as np\n",
        "import matplotlib.pyplot as plt\n",
        "\n",
        "# Create data\n",
        "N = 60\n",
        "g0 = df_scaled_GF[df_scaled_GF.cluster_labels4 == 0].RoomNum\n",
        "g1 = df_scaled_GF[df_scaled_GF.cluster_labels4 == 1].RoomNum\n",
        "g2 = df_scaled_GF[df_scaled_GF.cluster_labels4 == 2].RoomNum\n",
        "g3 = df_scaled_GF[df_scaled_GF.cluster_labels4 == 3].RoomNum\n",
        "\n",
        "\n",
        "data = (g0, g1, g2, g3)\n",
        "colors = (\"yellow\",\"red\", \"green\", \"blue\")\n",
        "groups = (0,1,2,3)\n",
        "\n",
        "y = df_scaled_GF.X\n",
        "x = df_scaled_GF.Y\n",
        "n = df_scaled_GF.RoomNum\n",
        "\n",
        "plt.figure(figsize=(20,20))\n",
        "plt.scatter(x, y, \n",
        "            # hue = df_scaled.Cluster\n",
        "            )\n",
        "\n",
        "for i, txt in enumerate(n):\n",
        "    plt.annotate(txt, (x[i], y[i]))"
      ],
      "metadata": {
        "colab": {
          "base_uri": "https://localhost:8080/",
          "height": 1000
        },
        "id": "oWPsHNzOSwbK",
        "outputId": "5e22ff31-fa22-47f3-c853-a0daee3e52b1"
      },
      "execution_count": null,
      "outputs": [
        {
          "output_type": "error",
          "ename": "KeyError",
          "evalue": "ignored",
          "traceback": [
            "\u001b[0;31m---------------------------------------------------------------------------\u001b[0m",
            "\u001b[0;31mKeyError\u001b[0m                                  Traceback (most recent call last)",
            "\u001b[0;32m/usr/local/lib/python3.7/dist-packages/pandas/core/indexes/base.py\u001b[0m in \u001b[0;36mget_loc\u001b[0;34m(self, key, method, tolerance)\u001b[0m\n\u001b[1;32m   2897\u001b[0m             \u001b[0;32mtry\u001b[0m\u001b[0;34m:\u001b[0m\u001b[0;34m\u001b[0m\u001b[0;34m\u001b[0m\u001b[0m\n\u001b[0;32m-> 2898\u001b[0;31m                 \u001b[0;32mreturn\u001b[0m \u001b[0mself\u001b[0m\u001b[0;34m.\u001b[0m\u001b[0m_engine\u001b[0m\u001b[0;34m.\u001b[0m\u001b[0mget_loc\u001b[0m\u001b[0;34m(\u001b[0m\u001b[0mcasted_key\u001b[0m\u001b[0;34m)\u001b[0m\u001b[0;34m\u001b[0m\u001b[0;34m\u001b[0m\u001b[0m\n\u001b[0m\u001b[1;32m   2899\u001b[0m             \u001b[0;32mexcept\u001b[0m \u001b[0mKeyError\u001b[0m \u001b[0;32mas\u001b[0m \u001b[0merr\u001b[0m\u001b[0;34m:\u001b[0m\u001b[0;34m\u001b[0m\u001b[0;34m\u001b[0m\u001b[0m\n",
            "\u001b[0;32mpandas/_libs/index.pyx\u001b[0m in \u001b[0;36mpandas._libs.index.IndexEngine.get_loc\u001b[0;34m()\u001b[0m\n",
            "\u001b[0;32mpandas/_libs/index.pyx\u001b[0m in \u001b[0;36mpandas._libs.index.IndexEngine.get_loc\u001b[0;34m()\u001b[0m\n",
            "\u001b[0;32mpandas/_libs/hashtable_class_helper.pxi\u001b[0m in \u001b[0;36mpandas._libs.hashtable.Int64HashTable.get_item\u001b[0;34m()\u001b[0m\n",
            "\u001b[0;32mpandas/_libs/hashtable_class_helper.pxi\u001b[0m in \u001b[0;36mpandas._libs.hashtable.Int64HashTable.get_item\u001b[0;34m()\u001b[0m\n",
            "\u001b[0;31mKeyError\u001b[0m: 2",
            "\nThe above exception was the direct cause of the following exception:\n",
            "\u001b[0;31mKeyError\u001b[0m                                  Traceback (most recent call last)",
            "\u001b[0;32m<ipython-input-379-449497c1115e>\u001b[0m in \u001b[0;36m<module>\u001b[0;34m()\u001b[0m\n\u001b[1;32m     24\u001b[0m \u001b[0;34m\u001b[0m\u001b[0m\n\u001b[1;32m     25\u001b[0m \u001b[0;32mfor\u001b[0m \u001b[0mi\u001b[0m\u001b[0;34m,\u001b[0m \u001b[0mtxt\u001b[0m \u001b[0;32min\u001b[0m \u001b[0menumerate\u001b[0m\u001b[0;34m(\u001b[0m\u001b[0mn\u001b[0m\u001b[0;34m)\u001b[0m\u001b[0;34m:\u001b[0m\u001b[0;34m\u001b[0m\u001b[0;34m\u001b[0m\u001b[0m\n\u001b[0;32m---> 26\u001b[0;31m     \u001b[0mplt\u001b[0m\u001b[0;34m.\u001b[0m\u001b[0mannotate\u001b[0m\u001b[0;34m(\u001b[0m\u001b[0mtxt\u001b[0m\u001b[0;34m,\u001b[0m \u001b[0;34m(\u001b[0m\u001b[0mx\u001b[0m\u001b[0;34m[\u001b[0m\u001b[0mi\u001b[0m\u001b[0;34m]\u001b[0m\u001b[0;34m,\u001b[0m \u001b[0my\u001b[0m\u001b[0;34m[\u001b[0m\u001b[0mi\u001b[0m\u001b[0;34m]\u001b[0m\u001b[0;34m)\u001b[0m\u001b[0;34m)\u001b[0m\u001b[0;34m\u001b[0m\u001b[0;34m\u001b[0m\u001b[0m\n\u001b[0m",
            "\u001b[0;32m/usr/local/lib/python3.7/dist-packages/pandas/core/series.py\u001b[0m in \u001b[0;36m__getitem__\u001b[0;34m(self, key)\u001b[0m\n\u001b[1;32m    880\u001b[0m \u001b[0;34m\u001b[0m\u001b[0m\n\u001b[1;32m    881\u001b[0m         \u001b[0;32melif\u001b[0m \u001b[0mkey_is_scalar\u001b[0m\u001b[0;34m:\u001b[0m\u001b[0;34m\u001b[0m\u001b[0;34m\u001b[0m\u001b[0m\n\u001b[0;32m--> 882\u001b[0;31m             \u001b[0;32mreturn\u001b[0m \u001b[0mself\u001b[0m\u001b[0;34m.\u001b[0m\u001b[0m_get_value\u001b[0m\u001b[0;34m(\u001b[0m\u001b[0mkey\u001b[0m\u001b[0;34m)\u001b[0m\u001b[0;34m\u001b[0m\u001b[0;34m\u001b[0m\u001b[0m\n\u001b[0m\u001b[1;32m    883\u001b[0m \u001b[0;34m\u001b[0m\u001b[0m\n\u001b[1;32m    884\u001b[0m         \u001b[0;32mif\u001b[0m \u001b[0mis_hashable\u001b[0m\u001b[0;34m(\u001b[0m\u001b[0mkey\u001b[0m\u001b[0;34m)\u001b[0m\u001b[0;34m:\u001b[0m\u001b[0;34m\u001b[0m\u001b[0;34m\u001b[0m\u001b[0m\n",
            "\u001b[0;32m/usr/local/lib/python3.7/dist-packages/pandas/core/series.py\u001b[0m in \u001b[0;36m_get_value\u001b[0;34m(self, label, takeable)\u001b[0m\n\u001b[1;32m    988\u001b[0m \u001b[0;34m\u001b[0m\u001b[0m\n\u001b[1;32m    989\u001b[0m         \u001b[0;31m# Similar to Index.get_value, but we do not fall back to positional\u001b[0m\u001b[0;34m\u001b[0m\u001b[0;34m\u001b[0m\u001b[0;34m\u001b[0m\u001b[0m\n\u001b[0;32m--> 990\u001b[0;31m         \u001b[0mloc\u001b[0m \u001b[0;34m=\u001b[0m \u001b[0mself\u001b[0m\u001b[0;34m.\u001b[0m\u001b[0mindex\u001b[0m\u001b[0;34m.\u001b[0m\u001b[0mget_loc\u001b[0m\u001b[0;34m(\u001b[0m\u001b[0mlabel\u001b[0m\u001b[0;34m)\u001b[0m\u001b[0;34m\u001b[0m\u001b[0;34m\u001b[0m\u001b[0m\n\u001b[0m\u001b[1;32m    991\u001b[0m         \u001b[0;32mreturn\u001b[0m \u001b[0mself\u001b[0m\u001b[0;34m.\u001b[0m\u001b[0mindex\u001b[0m\u001b[0;34m.\u001b[0m\u001b[0m_get_values_for_loc\u001b[0m\u001b[0;34m(\u001b[0m\u001b[0mself\u001b[0m\u001b[0;34m,\u001b[0m \u001b[0mloc\u001b[0m\u001b[0;34m,\u001b[0m \u001b[0mlabel\u001b[0m\u001b[0;34m)\u001b[0m\u001b[0;34m\u001b[0m\u001b[0;34m\u001b[0m\u001b[0m\n\u001b[1;32m    992\u001b[0m \u001b[0;34m\u001b[0m\u001b[0m\n",
            "\u001b[0;32m/usr/local/lib/python3.7/dist-packages/pandas/core/indexes/base.py\u001b[0m in \u001b[0;36mget_loc\u001b[0;34m(self, key, method, tolerance)\u001b[0m\n\u001b[1;32m   2898\u001b[0m                 \u001b[0;32mreturn\u001b[0m \u001b[0mself\u001b[0m\u001b[0;34m.\u001b[0m\u001b[0m_engine\u001b[0m\u001b[0;34m.\u001b[0m\u001b[0mget_loc\u001b[0m\u001b[0;34m(\u001b[0m\u001b[0mcasted_key\u001b[0m\u001b[0;34m)\u001b[0m\u001b[0;34m\u001b[0m\u001b[0;34m\u001b[0m\u001b[0m\n\u001b[1;32m   2899\u001b[0m             \u001b[0;32mexcept\u001b[0m \u001b[0mKeyError\u001b[0m \u001b[0;32mas\u001b[0m \u001b[0merr\u001b[0m\u001b[0;34m:\u001b[0m\u001b[0;34m\u001b[0m\u001b[0;34m\u001b[0m\u001b[0m\n\u001b[0;32m-> 2900\u001b[0;31m                 \u001b[0;32mraise\u001b[0m \u001b[0mKeyError\u001b[0m\u001b[0;34m(\u001b[0m\u001b[0mkey\u001b[0m\u001b[0;34m)\u001b[0m \u001b[0;32mfrom\u001b[0m \u001b[0merr\u001b[0m\u001b[0;34m\u001b[0m\u001b[0;34m\u001b[0m\u001b[0m\n\u001b[0m\u001b[1;32m   2901\u001b[0m \u001b[0;34m\u001b[0m\u001b[0m\n\u001b[1;32m   2902\u001b[0m         \u001b[0;32mif\u001b[0m \u001b[0mtolerance\u001b[0m \u001b[0;32mis\u001b[0m \u001b[0;32mnot\u001b[0m \u001b[0;32mNone\u001b[0m\u001b[0;34m:\u001b[0m\u001b[0;34m\u001b[0m\u001b[0;34m\u001b[0m\u001b[0m\n",
            "\u001b[0;31mKeyError\u001b[0m: 2"
          ]
        },
        {
          "output_type": "display_data",
          "data": {
            "image/png": "[encoded data removed]",
            "text/plain": [
              "<Figure size 1440x1440 with 1 Axes>"
            ]
          },
          "metadata": {
            "needs_background": "light"
          }
        }
      ]
    },
    {
      "cell_type": "code",
      "source": [
        "# https://python-graph-gallery.com/46-add-text-annotation-on-scatterplot/\n",
        "plt.figure(figsize=(15,40))\n",
        "p1 = sns.scatterplot(x=\"X\",\n",
        "                 y='Y', \n",
        "                 hue=\"cluster_labels4\", \n",
        "                 data=df_scaled_GF,\n",
        "                 palette = 'bright')\n",
        "                #  aspect = 1) \n",
        "                # kind='strip')\n",
        "\n",
        "\n",
        "# add annotations one by one with a loop\n",
        "for line in range(0,df_scaled_GF.shape[0]):\n",
        "    p1.text(df_scaled_GF.X[line], \n",
        "             df_scaled_GF.Y[line], \n",
        "             df_scaled_GF.cluster_labels4[line], \n",
        "             horizontalalignment='left', \n",
        "             size='medium', \n",
        "             color='black' \n",
        "            #  weight='semibold'\n",
        "             )\n",
        "# https://python-graph-gallery.com/46-add-text-annotation-on-scatterplot/\n",
        "\n",
        "\n",
        "# x = df_scaled.SR\n",
        "# y = df_scaled.Ave\n",
        "# n = df_scaled.Player\n",
        "\n",
        "# for i, txt in enumerate(n):\n",
        "#     plt.annotate(txt, (x[i], y[i]))\n",
        "\n",
        "# https://stackoverflow.com/questions/14432557/matplotlib-scatter-plot-with-different-text-at-each-data-point"
      ],
      "metadata": {
        "colab": {
          "base_uri": "https://localhost:8080/",
          "height": 1000
        },
        "id": "5el_O0SKT7WT",
        "outputId": "5f148e0a-f154-4375-874a-473ddbc17c31"
      },
      "execution_count": null,
      "outputs": [
        {
          "output_type": "error",
          "ename": "KeyError",
          "evalue": "ignored",
          "traceback": [
            "\u001b[0;31m---------------------------------------------------------------------------\u001b[0m",
            "\u001b[0;31mKeyError\u001b[0m                                  Traceback (most recent call last)",
            "\u001b[0;32m/usr/local/lib/python3.7/dist-packages/pandas/core/indexes/base.py\u001b[0m in \u001b[0;36mget_loc\u001b[0;34m(self, key, method, tolerance)\u001b[0m\n\u001b[1;32m   2897\u001b[0m             \u001b[0;32mtry\u001b[0m\u001b[0;34m:\u001b[0m\u001b[0;34m\u001b[0m\u001b[0;34m\u001b[0m\u001b[0m\n\u001b[0;32m-> 2898\u001b[0;31m                 \u001b[0;32mreturn\u001b[0m \u001b[0mself\u001b[0m\u001b[0;34m.\u001b[0m\u001b[0m_engine\u001b[0m\u001b[0;34m.\u001b[0m\u001b[0mget_loc\u001b[0m\u001b[0;34m(\u001b[0m\u001b[0mcasted_key\u001b[0m\u001b[0;34m)\u001b[0m\u001b[0;34m\u001b[0m\u001b[0;34m\u001b[0m\u001b[0m\n\u001b[0m\u001b[1;32m   2899\u001b[0m             \u001b[0;32mexcept\u001b[0m \u001b[0mKeyError\u001b[0m \u001b[0;32mas\u001b[0m \u001b[0merr\u001b[0m\u001b[0;34m:\u001b[0m\u001b[0;34m\u001b[0m\u001b[0;34m\u001b[0m\u001b[0m\n",
            "\u001b[0;32mpandas/_libs/index.pyx\u001b[0m in \u001b[0;36mpandas._libs.index.IndexEngine.get_loc\u001b[0;34m()\u001b[0m\n",
            "\u001b[0;32mpandas/_libs/index.pyx\u001b[0m in \u001b[0;36mpandas._libs.index.IndexEngine.get_loc\u001b[0;34m()\u001b[0m\n",
            "\u001b[0;32mpandas/_libs/hashtable_class_helper.pxi\u001b[0m in \u001b[0;36mpandas._libs.hashtable.Int64HashTable.get_item\u001b[0;34m()\u001b[0m\n",
            "\u001b[0;32mpandas/_libs/hashtable_class_helper.pxi\u001b[0m in \u001b[0;36mpandas._libs.hashtable.Int64HashTable.get_item\u001b[0;34m()\u001b[0m\n",
            "\u001b[0;31mKeyError\u001b[0m: 2",
            "\nThe above exception was the direct cause of the following exception:\n",
            "\u001b[0;31mKeyError\u001b[0m                                  Traceback (most recent call last)",
            "\u001b[0;32m<ipython-input-381-c56a611c48a5>\u001b[0m in \u001b[0;36m<module>\u001b[0;34m()\u001b[0m\n\u001b[1;32m     12\u001b[0m \u001b[0;31m# add annotations one by one with a loop\u001b[0m\u001b[0;34m\u001b[0m\u001b[0;34m\u001b[0m\u001b[0;34m\u001b[0m\u001b[0m\n\u001b[1;32m     13\u001b[0m \u001b[0;32mfor\u001b[0m \u001b[0mline\u001b[0m \u001b[0;32min\u001b[0m \u001b[0mrange\u001b[0m\u001b[0;34m(\u001b[0m\u001b[0;36m0\u001b[0m\u001b[0;34m,\u001b[0m\u001b[0mdf_scaled_GF\u001b[0m\u001b[0;34m.\u001b[0m\u001b[0mshape\u001b[0m\u001b[0;34m[\u001b[0m\u001b[0;36m0\u001b[0m\u001b[0;34m]\u001b[0m\u001b[0;34m)\u001b[0m\u001b[0;34m:\u001b[0m\u001b[0;34m\u001b[0m\u001b[0;34m\u001b[0m\u001b[0m\n\u001b[0;32m---> 14\u001b[0;31m      p1.text(df_scaled_GF.X[line], \n\u001b[0m\u001b[1;32m     15\u001b[0m              \u001b[0mdf_scaled_GF\u001b[0m\u001b[0;34m.\u001b[0m\u001b[0mY\u001b[0m\u001b[0;34m[\u001b[0m\u001b[0mline\u001b[0m\u001b[0;34m]\u001b[0m\u001b[0;34m,\u001b[0m\u001b[0;34m\u001b[0m\u001b[0;34m\u001b[0m\u001b[0m\n\u001b[1;32m     16\u001b[0m              \u001b[0mdf_scaled_GF\u001b[0m\u001b[0;34m.\u001b[0m\u001b[0mcluster_labels4\u001b[0m\u001b[0;34m[\u001b[0m\u001b[0mline\u001b[0m\u001b[0;34m]\u001b[0m\u001b[0;34m,\u001b[0m\u001b[0;34m\u001b[0m\u001b[0;34m\u001b[0m\u001b[0m\n",
            "\u001b[0;32m/usr/local/lib/python3.7/dist-packages/pandas/core/series.py\u001b[0m in \u001b[0;36m__getitem__\u001b[0;34m(self, key)\u001b[0m\n\u001b[1;32m    880\u001b[0m \u001b[0;34m\u001b[0m\u001b[0m\n\u001b[1;32m    881\u001b[0m         \u001b[0;32melif\u001b[0m \u001b[0mkey_is_scalar\u001b[0m\u001b[0;34m:\u001b[0m\u001b[0;34m\u001b[0m\u001b[0;34m\u001b[0m\u001b[0m\n\u001b[0;32m--> 882\u001b[0;31m             \u001b[0;32mreturn\u001b[0m \u001b[0mself\u001b[0m\u001b[0;34m.\u001b[0m\u001b[0m_get_value\u001b[0m\u001b[0;34m(\u001b[0m\u001b[0mkey\u001b[0m\u001b[0;34m)\u001b[0m\u001b[0;34m\u001b[0m\u001b[0;34m\u001b[0m\u001b[0m\n\u001b[0m\u001b[1;32m    883\u001b[0m \u001b[0;34m\u001b[0m\u001b[0m\n\u001b[1;32m    884\u001b[0m         \u001b[0;32mif\u001b[0m \u001b[0mis_hashable\u001b[0m\u001b[0;34m(\u001b[0m\u001b[0mkey\u001b[0m\u001b[0;34m)\u001b[0m\u001b[0;34m:\u001b[0m\u001b[0;34m\u001b[0m\u001b[0;34m\u001b[0m\u001b[0m\n",
            "\u001b[0;32m/usr/local/lib/python3.7/dist-packages/pandas/core/series.py\u001b[0m in \u001b[0;36m_get_value\u001b[0;34m(self, label, takeable)\u001b[0m\n\u001b[1;32m    988\u001b[0m \u001b[0;34m\u001b[0m\u001b[0m\n\u001b[1;32m    989\u001b[0m         \u001b[0;31m# Similar to Index.get_value, but we do not fall back to positional\u001b[0m\u001b[0;34m\u001b[0m\u001b[0;34m\u001b[0m\u001b[0;34m\u001b[0m\u001b[0m\n\u001b[0;32m--> 990\u001b[0;31m         \u001b[0mloc\u001b[0m \u001b[0;34m=\u001b[0m \u001b[0mself\u001b[0m\u001b[0;34m.\u001b[0m\u001b[0mindex\u001b[0m\u001b[0;34m.\u001b[0m\u001b[0mget_loc\u001b[0m\u001b[0;34m(\u001b[0m\u001b[0mlabel\u001b[0m\u001b[0;34m)\u001b[0m\u001b[0;34m\u001b[0m\u001b[0;34m\u001b[0m\u001b[0m\n\u001b[0m\u001b[1;32m    991\u001b[0m         \u001b[0;32mreturn\u001b[0m \u001b[0mself\u001b[0m\u001b[0;34m.\u001b[0m\u001b[0mindex\u001b[0m\u001b[0;34m.\u001b[0m\u001b[0m_get_values_for_loc\u001b[0m\u001b[0;34m(\u001b[0m\u001b[0mself\u001b[0m\u001b[0;34m,\u001b[0m \u001b[0mloc\u001b[0m\u001b[0;34m,\u001b[0m \u001b[0mlabel\u001b[0m\u001b[0;34m)\u001b[0m\u001b[0;34m\u001b[0m\u001b[0;34m\u001b[0m\u001b[0m\n\u001b[1;32m    992\u001b[0m \u001b[0;34m\u001b[0m\u001b[0m\n",
            "\u001b[0;32m/usr/local/lib/python3.7/dist-packages/pandas/core/indexes/base.py\u001b[0m in \u001b[0;36mget_loc\u001b[0;34m(self, key, method, tolerance)\u001b[0m\n\u001b[1;32m   2898\u001b[0m                 \u001b[0;32mreturn\u001b[0m \u001b[0mself\u001b[0m\u001b[0;34m.\u001b[0m\u001b[0m_engine\u001b[0m\u001b[0;34m.\u001b[0m\u001b[0mget_loc\u001b[0m\u001b[0;34m(\u001b[0m\u001b[0mcasted_key\u001b[0m\u001b[0;34m)\u001b[0m\u001b[0;34m\u001b[0m\u001b[0;34m\u001b[0m\u001b[0m\n\u001b[1;32m   2899\u001b[0m             \u001b[0;32mexcept\u001b[0m \u001b[0mKeyError\u001b[0m \u001b[0;32mas\u001b[0m \u001b[0merr\u001b[0m\u001b[0;34m:\u001b[0m\u001b[0;34m\u001b[0m\u001b[0;34m\u001b[0m\u001b[0m\n\u001b[0;32m-> 2900\u001b[0;31m                 \u001b[0;32mraise\u001b[0m \u001b[0mKeyError\u001b[0m\u001b[0;34m(\u001b[0m\u001b[0mkey\u001b[0m\u001b[0;34m)\u001b[0m \u001b[0;32mfrom\u001b[0m \u001b[0merr\u001b[0m\u001b[0;34m\u001b[0m\u001b[0;34m\u001b[0m\u001b[0m\n\u001b[0m\u001b[1;32m   2901\u001b[0m \u001b[0;34m\u001b[0m\u001b[0m\n\u001b[1;32m   2902\u001b[0m         \u001b[0;32mif\u001b[0m \u001b[0mtolerance\u001b[0m \u001b[0;32mis\u001b[0m \u001b[0;32mnot\u001b[0m \u001b[0;32mNone\u001b[0m\u001b[0;34m:\u001b[0m\u001b[0;34m\u001b[0m\u001b[0;34m\u001b[0m\u001b[0m\n",
            "\u001b[0;31mKeyError\u001b[0m: 2"
          ]
        },
        {
          "output_type": "display_data",
          "data": {
            "image/png": "[encoded data removed]",
            "text/plain": [
              "<Figure size 1080x2880 with 1 Axes>"
            ]
          },
          "metadata": {
            "needs_background": "light"
          }
        }
      ]
    },
    {
      "cell_type": "markdown",
      "source": [
        "###6. DBSCAN"
      ],
      "metadata": {
        "id": "z5xK900xVKvG"
      }
    },
    {
      "cell_type": "markdown",
      "source": [
        "###  Plotting the Clustering"
      ],
      "metadata": {
        "id": "DQrSedWkM_XL"
      }
    },
    {
      "cell_type": "code",
      "source": [
        "import numpy as numpy\n",
        "import scipy as scipy\n",
        "from sklearn import cluster\n",
        "import matplotlib.pyplot as plt\n",
        " \n",
        " \n",
        " \n",
        "def set2List(NumpyArray):\n",
        "    list = []\n",
        "    for item in NumpyArray:\n",
        "        list.append(item.tolist())\n",
        "    return list\n",
        " \n",
        " \n",
        "def GenerateData():\n",
        "    x1=numpy.random.randn(50,2)\n",
        "    x2x=numpy.random.randn(80,1)+12\n",
        "    x2y=numpy.random.randn(80,1)\n",
        "    x2=numpy.column_stack((x2x,x2y))\n",
        "    x3=numpy.random.randn(100,2)+8\n",
        "    x4=numpy.random.randn(120,2)+15\n",
        "    z=numpy.concatenate((x1,x2,x3,x4))\n",
        "    return z\n",
        " \n",
        " \n",
        "def DBSCAN(Dataset, Epsilon,MinumumPoints,DistanceMethod = 'euclidean'):\n",
        "#    Dataset is a mxn matrix, m is number of item and n is the dimension of data\n",
        "    m,n=Dataset.shape\n",
        "    Visited=numpy.zeros(m,'int')\n",
        "    Type=numpy.zeros(m)\n",
        "#   -1 noise, outlier\n",
        "#    0 border\n",
        "#    1 core\n",
        "    ClustersList=[]\n",
        "    Cluster=[]\n",
        "    PointClusterNumber=numpy.zeros(m)\n",
        "    PointClusterNumberIndex=1\n",
        "    PointNeighbors=[]\n",
        "    DistanceMatrix = scipy.spatial.distance.squareform(scipy.spatial.distance.pdist(Dataset, DistanceMethod))\n",
        "    for i in xrange(m):\n",
        "        if Visited[i]==0:\n",
        "            Visited[i]=1\n",
        "            PointNeighbors=numpy.where(DistanceMatrix[i]<Epsilon)[0]\n",
        "            if len(PointNeighbors)<MinumumPoints:\n",
        "                Type[i]=-1\n",
        "            else:\n",
        "                for k in xrange(len(Cluster)):\n",
        "                    Cluster.pop()\n",
        "                Cluster.append(i)\n",
        "                PointClusterNumber[i]=PointClusterNumberIndex\n",
        "                \n",
        "                \n",
        "                PointNeighbors=set2List(PointNeighbors)    \n",
        "                ExpandClsuter(Dataset[i], PointNeighbors,Cluster,MinumumPoints,Epsilon,Visited,DistanceMatrix,PointClusterNumber,PointClusterNumberIndex  )\n",
        "                Cluster.append(PointNeighbors[:])\n",
        "                ClustersList.append(Cluster[:])\n",
        "                PointClusterNumberIndex=PointClusterNumberIndex+1\n",
        "                 \n",
        "                    \n",
        "    return PointClusterNumber \n",
        " \n",
        " \n",
        " \n",
        "def ExpandClsuter(PointToExapnd, PointNeighbors,Cluster,MinumumPoints,Epsilon,Visited,DistanceMatrix,PointClusterNumber,PointClusterNumberIndex  ):\n",
        "    Neighbors=[]\n",
        " \n",
        "    for i in PointNeighbors:\n",
        "        if Visited[i]==0:\n",
        "            Visited[i]=1\n",
        "            Neighbors=numpy.where(DistanceMatrix[i]<Epsilon)[0]\n",
        "            if len(Neighbors)>=MinumumPoints:\n",
        "#                Neighbors merge with PointNeighbors\n",
        "                for j in Neighbors:\n",
        "                    try:\n",
        "                        PointNeighbors.index(j)\n",
        "                    except ValueError:\n",
        "                        PointNeighbors.append(j)\n",
        "                    \n",
        "        if PointClusterNumber[i]==0:\n",
        "            Cluster.append(i)\n",
        "            PointClusterNumber[i]=PointClusterNumberIndex\n",
        "    return\n",
        " \n",
        "#Generating some data with normal distribution at \n",
        "#(0,0)\n",
        "#(8,8)\n",
        "#(12,0)\n",
        "#(15,15)\n",
        "Data=GenerateData()\n",
        " \n",
        "#Adding some noise with uniform distribution\n",
        "#X between [-3,17],\n",
        "#Y between [-3,17]\n",
        "noise=scipy.rand(50,2)*20 -3\n",
        " \n",
        "Noisy_Data=numpy.concatenate((Data,noise))\n",
        "size=20\n",
        " \n",
        " \n",
        "fig = plt.figure()\n",
        "ax1=fig.add_subplot(2,1,1) #row, column, figure number\n",
        "ax2 = fig.add_subplot(212)\n",
        " \n",
        "ax1.scatter(Data[:,0],Data[:,1], alpha =  0.5 )\n",
        "ax1.scatter(noise[:,0],noise[:,1],color='red' ,alpha =  0.5)\n",
        "ax2.scatter(noise[:,0],noise[:,1],color='red' ,alpha =  0.5)\n",
        " \n",
        " \n",
        "Epsilon=1\n",
        "MinumumPoints=20\n",
        "result =DBSCAN(Data,Epsilon,MinumumPoints)\n",
        " \n",
        "#printed numbers are cluster numbers\n",
        "print result\n",
        "#print \"Noisy_Data\"\n",
        "#print Noisy_Data.shape\n",
        "#print Noisy_Data\n",
        " \n",
        "for i in xrange(len(result)):\n",
        "    ax2.scatter(Noisy_Data[i][0],Noisy_Data[i][1],color='yellow' ,alpha =  0.5)\n",
        "      \n",
        "plt.show()"
      ],
      "metadata": {
        "id": "jHaTi4MXUsfS"
      },
      "execution_count": null,
      "outputs": []
    },
    {
      "cell_type": "code",
      "source": [],
      "metadata": {
        "id": "BYNlA5ji39mb"
      },
      "execution_count": null,
      "outputs": []
    }
  ]
}